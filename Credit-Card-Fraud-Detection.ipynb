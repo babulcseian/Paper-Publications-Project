{
 "cells": [
  {
   "cell_type": "markdown",
   "metadata": {
    "id": "Yw2tje5TWX3b"
   },
   "source": [
    "# Contents\n",
    "\n",
    "- [Introduction](#1.-Introduction)\n",
    "- [Evaluation Metrics](#2.-Evaluation-Metrics)\n",
    "- [Train-Test Split](#3.-Train-Test-Split)\n",
    "- [Feature Scaling](#4.-Feature-Scaling)\n",
    "- [Logistic Regression](#5.-Logistic-Regression)\n",
    "- [$k$-Nearest Neighbors ($k$-NN)](#6.-KNN)\n",
    "- [Decision Tree](#7.-Decision-Tree)\n",
    "- [Support Vector Machine (SVM)](#8.-SVM)\n",
    "- [Naive Bayes](#9.-Naive-Bayes)\n",
    "- [Random Forest](#10.-Random-Forest)\n",
    "- [Linear Discriminant Analysis (LDA)](#11.-LDA)\n",
    "- [Stochastic Gradient Descent (SGD)](#12.-SGD)\n",
    "- [Ridge Classifier](#13.-Ridge-Classifier)\n",
    "- [Conclusion](#14.-Conclusion)"
   ]
  },
  {
   "cell_type": "markdown",
   "metadata": {
    "id": "xtektId_WX3c"
   },
   "source": [
    "<a name='1.-Introduction'></a>\n",
    "# 1. Introduction"
   ]
  },
  {
   "cell_type": "code",
   "execution_count": 1,
   "metadata": {
    "execution": {
     "iopub.execute_input": "2021-08-07T17:35:12.590728Z",
     "iopub.status.busy": "2021-08-07T17:35:12.590288Z",
     "iopub.status.idle": "2021-08-07T17:35:15.391751Z",
     "shell.execute_reply": "2021-08-07T17:35:15.390681Z",
     "shell.execute_reply.started": "2021-08-07T17:35:12.590637Z"
    },
    "id": "vtYkiFBVWX3d",
    "outputId": "17fad13e-f8f2-4d3e-b020-a494d7bae3dc"
   },
   "outputs": [
    {
     "ename": "ModuleNotFoundError",
     "evalue": "No module named 'imblearn'",
     "output_type": "error",
     "traceback": [
      "\u001b[0;31m---------------------------------------------------------------------------\u001b[0m",
      "\u001b[0;31mModuleNotFoundError\u001b[0m                       Traceback (most recent call last)",
      "\u001b[0;32m<ipython-input-1-7e8577fb2966>\u001b[0m in \u001b[0;36m<module>\u001b[0;34m\u001b[0m\n\u001b[1;32m     30\u001b[0m \u001b[0;32mfrom\u001b[0m \u001b[0msklearn\u001b[0m\u001b[0;34m.\u001b[0m\u001b[0mlinear_model\u001b[0m \u001b[0;32mimport\u001b[0m \u001b[0mRidgeClassifier\u001b[0m\u001b[0;34m\u001b[0m\u001b[0;34m\u001b[0m\u001b[0m\n\u001b[1;32m     31\u001b[0m \u001b[0;34m\u001b[0m\u001b[0m\n\u001b[0;32m---> 32\u001b[0;31m \u001b[0;32mimport\u001b[0m \u001b[0mimblearn\u001b[0m\u001b[0;34m\u001b[0m\u001b[0;34m\u001b[0m\u001b[0m\n\u001b[0m\u001b[1;32m     33\u001b[0m \u001b[0;32mfrom\u001b[0m \u001b[0mimblearn\u001b[0m\u001b[0;34m.\u001b[0m\u001b[0munder_sampling\u001b[0m \u001b[0;32mimport\u001b[0m \u001b[0mRandomUnderSampler\u001b[0m\u001b[0;34m\u001b[0m\u001b[0;34m\u001b[0m\u001b[0m\n\u001b[1;32m     34\u001b[0m \u001b[0;32mfrom\u001b[0m \u001b[0mimblearn\u001b[0m\u001b[0;34m.\u001b[0m\u001b[0mover_sampling\u001b[0m \u001b[0;32mimport\u001b[0m \u001b[0mRandomOverSampler\u001b[0m\u001b[0;34m\u001b[0m\u001b[0;34m\u001b[0m\u001b[0m\n",
      "\u001b[0;31mModuleNotFoundError\u001b[0m: No module named 'imblearn'"
     ]
    }
   ],
   "source": [
    "# Importing necessary libraries\n",
    "\n",
    "import numpy as np\n",
    "import pandas as pd\n",
    "import math\n",
    "import matplotlib.pyplot as plt\n",
    "import seaborn as sns\n",
    "import plotly.express as px\n",
    "from plotly.subplots import make_subplots\n",
    "import plotly.graph_objects as go\n",
    "\n",
    "import shutil\n",
    "columns = shutil.get_terminal_size().columns\n",
    "\n",
    "from sklearn.model_selection import train_test_split\n",
    "from sklearn import metrics\n",
    "from sklearn.preprocessing import MinMaxScaler\n",
    "\n",
    "from sklearn.metrics import plot_confusion_matrix\n",
    "from sklearn.metrics import average_precision_score\n",
    "\n",
    "from sklearn.linear_model import LogisticRegression\n",
    "from sklearn.neighbors import KNeighborsClassifier\n",
    "from sklearn.tree import DecisionTreeClassifier\n",
    "from sklearn import svm\n",
    "from sklearn.naive_bayes import GaussianNB\n",
    "from sklearn.ensemble import RandomForestClassifier\n",
    "from sklearn.discriminant_analysis import LinearDiscriminantAnalysis\n",
    "from sklearn.linear_model import SGDClassifier\n",
    "from sklearn.linear_model import RidgeClassifier\n",
    "\n",
    "import imblearn\n",
    "from imblearn.under_sampling import RandomUnderSampler\n",
    "from imblearn.over_sampling import RandomOverSampler\n",
    "from imblearn.under_sampling import TomekLinks\n",
    "from imblearn.over_sampling import SMOTE\n",
    "from imblearn.under_sampling import NearMiss\n",
    "\n",
    "from IPython.display import Javascript\n",
    "from IPython.display import display"
   ]
  },
  {
   "cell_type": "markdown",
   "metadata": {
    "id": "zdSeQOpjWX3d"
   },
   "source": [
    "## Data"
   ]
  },
  {
   "cell_type": "markdown",
   "metadata": {
    "id": "c8TIWY3TWX3e"
   },
   "source": [
    "Source: https://www.kaggle.com/mlg-ulb/creditcardfraud\n",
    "\n",
    "The dataset contains information on the transactions made using credit cards by European cardholders, in two particular days of September $2013$. It presents a total of $284807$ transactions, of which $492$ were fraudulent. Clearly, the dataset is highly imbalanced, the positive class (fraudulent transactions) accounting for only $0.173\\%$ of all transactions.\n",
    "\n",
    "For a particular transaction, the feature **Time** represents the time (in seconds) elapsed between the transaction and the very first transaction, **Amount** represents the amount of the transaction and **Class** represents the status of the transaction with respect to authenticity. The class of an authentic (resp. fraudulent) transaction is taken to be $0$ (resp. $1$). Rest of the variables (**V1** to **V28**) are obtained from principle component analysis (PCA) transformation on original features that are not available due to confidentiality."
   ]
  },
  {
   "cell_type": "code",
   "execution_count": null,
   "metadata": {
    "execution": {
     "iopub.execute_input": "2021-08-07T17:35:15.393485Z",
     "iopub.status.busy": "2021-08-07T17:35:15.393165Z",
     "iopub.status.idle": "2021-08-07T17:35:19.983001Z",
     "shell.execute_reply": "2021-08-07T17:35:19.981928Z",
     "shell.execute_reply.started": "2021-08-07T17:35:15.393442Z"
    },
    "id": "8Pk3D6vpWX3e",
    "outputId": "7e521b0e-3e3e-4f95-df97-13bf5b69f10c"
   },
   "outputs": [],
   "source": [
    "# The dataset\n",
    "\n",
    "data = pd.read_csv('../input/creditcardfraud/creditcard.csv')\n",
    "data"
   ]
  },
  {
   "cell_type": "code",
   "execution_count": null,
   "metadata": {
    "execution": {
     "iopub.execute_input": "2021-08-07T17:35:19.985377Z",
     "iopub.status.busy": "2021-08-07T17:35:19.985056Z",
     "iopub.status.idle": "2021-08-07T17:35:19.989534Z",
     "shell.execute_reply": "2021-08-07T17:35:19.988763Z",
     "shell.execute_reply.started": "2021-08-07T17:35:19.985346Z"
    },
    "id": "vqoDnFzscsN5"
   },
   "outputs": [],
   "source": [
    "features = list(data.columns)\n",
    "features.remove('Class')"
   ]
  },
  {
   "cell_type": "code",
   "execution_count": null,
   "metadata": {
    "execution": {
     "iopub.execute_input": "2021-08-07T17:35:19.991257Z",
     "iopub.status.busy": "2021-08-07T17:35:19.990855Z",
     "iopub.status.idle": "2021-08-07T17:35:20.469302Z",
     "shell.execute_reply": "2021-08-07T17:35:20.468609Z",
     "shell.execute_reply.started": "2021-08-07T17:35:19.991229Z"
    },
    "id": "hYFwInFoWX3f",
    "outputId": "83f328a6-c5be-4ab0-fd5d-3b7700a5c66d"
   },
   "outputs": [],
   "source": [
    "# Statistical descriptions of the features\n",
    "\n",
    "features_stat = data.drop(['Class'], axis = 1)\n",
    "features_stat.describe()"
   ]
  },
  {
   "cell_type": "markdown",
   "metadata": {
    "id": "gn4NyX5KWX3f"
   },
   "source": [
    "## Objectives of the project\n",
    "\n",
    "### Primary objective:\n",
    "\n",
    "**Classification of transactions as authentic or fraudulent**. To be prcise, given the data on **Time**, **Amount** and transformed features **V1** to **V28** for a particular transaction, our goal is to correctly classify the transaction as **authentic** or **fraudulent**. We employ different techniques to build classification models and compare them by various evaluation metrics.\n",
    "\n",
    "### Secondary objectives:\n",
    "\n",
    "Answering the following questions using machine learning and statistical tools and techniques.\n",
    "\n",
    "- When a fraudulent transaction is made, is it followed soon by one or more such fraudulent transactions? In other words, do the attackers make consecutive fraudulent transactions in a short span of time?\n",
    "\n",
    "\n",
    "- Is the amount of a fraudulent transaction generally larger than that of an authentic transaction?\n",
    "\n",
    "\n",
    "- Is there any indication in the data that fraudulent transactions occur at high-transaction period?\n",
    "\n",
    "\n",
    "- It is seen from the data that the number of transactions are high in some time intervals and low in between. Does the occurance of frauds related to these time intervals?\n",
    "\n",
    "\n",
    "- There are a few time-points which exhibits high number of fraud transactions. Is it due to high number of total transactions or due to some other reason?"
   ]
  },
  {
   "cell_type": "markdown",
   "metadata": {
    "id": "4PnG--afWX3g"
   },
   "source": [
    "**In this part we shall classify transactions as authentic or fraudulent based on the information available on independent features (time, amount and the transformed variables V1-V28). One issue with the dataset is that it is highly imbalanced in terms of the target variable Class. Thus we run into the risk of training the models with a representative sample of fraudulent transactions of extremely small size. We employ different approaches to deal with this problem. The performance of each model is checked through various evaluation metrics and is summarized in tabulated form.**"
   ]
  },
  {
   "cell_type": "markdown",
   "metadata": {
    "id": "7YmSoBMrWX3g"
   },
   "source": [
    "<a name='2.-Evaluation-Metrics'></a>\n",
    "# 2. Evaluation Metrics"
   ]
  },
  {
   "cell_type": "markdown",
   "metadata": {
    "id": "Puaj14c1WX3g"
   },
   "source": [
    "Any prediction about a binary categorical target variable  falls into one of the four categories:\n",
    "- True Positive: The classification model correctly predicts the output to be positive\n",
    "- True Negative: The classification model correctly predicts the output to be negative\n",
    "- False Positive: The classification model incorrectly predicts the output to be positive\n",
    "- False Negative: The classification model incorrectly predicts the output to be negative\n",
    "\n",
    "| $\\downarrow$ Actual state / Predicted state $\\rightarrow$ | Positive | Negative |\n",
    "| :---: | :---: | :---: |\n",
    "| Positive | True Positive | False Negative |\n",
    "| Negative | False Positive | True Negative |\n",
    "\n",
    "Let **TP**, **TN**, **FP** and **FN** respectively denote the number of **true positives**, **true negatives**, **false positives** and **false negatives** among the predictions made by a particular classification model. Below we give the definitions of some evaluation metrics based on these four quantities.\n",
    "\n",
    "$$\\text{Accuracy} = \\frac{\\text{Number of correct predictions}}{\\text{Number of total predictions}} = \\frac{TP + TN}{TP + TN + FP + FN}$$\n",
    "\n",
    "- **Precision-Recall Metrics**\n",
    "\n",
    "\\begin{align*}\n",
    "&\\text{Precision} = \\frac{\\text{Number of true positive predictions}}{\\text{Number of total positive predictions}} = \\frac{TP}{TP + FP}\\\\\\\\\n",
    "&\\text{Recall} = \\frac{\\text{Number of true positive predictions}}{\\text{Number of total positive cases}} = \\frac{TP}{TP + FN}\\\\\\\\\n",
    "&\\text{Fowlkes-Mallows index (FM)} = \\text{Geometric mean of Precision and Recall} = \\sqrt{\\text{Precision} \\times \\text{Recall}}\\\\\\\\\n",
    "&F_1\\text{-Score} = \\text{Harmonic mean of Precision and Recall} = \\frac{2 \\times \\text{Precision} \\times \\text{Recall}}{\\text{Precision} + \\text{Recall}}\\\\\\\\\n",
    "&F_{\\beta}\\text{-Score} = \\frac{\\left(1 + \\beta^2\\right) \\times \\text{Precision} \\times \\text{Recall}}{\\left(\\beta^2 \\times \\text{Precision}\\right) + \\text{Recall}},\n",
    "\\end{align*}\n",
    "\n",
    "where $\\beta$ is a positive factor, chosen such that Recall is $\\beta$ times as important as Precision in the analysis. Popular choices of $\\beta$ are $0.5$, $1$ and $2$.\n",
    "\n",
    "- **Sensitivity-Specificity Metrics**\n",
    "\n",
    "\\begin{align*}\n",
    "&\\text{Sensitivity} = \\frac{\\text{Number of true positive predictions}}{\\text{Number of total positive cases}} = \\frac{TP}{TP + FN}\\\\\\\\\n",
    "&\\text{Specificity} = \\frac{\\text{Number of true negative predictions}}{\\text{Number of total negative cases}} = \\frac{TN}{TN + FP}\\\\\\\\\n",
    "&\\text{G-mean} = \\text{Geometric mean of Sensitivity and Specificity} = \\sqrt{\\text{Sensitivity} \\times \\text{Specificity}}\n",
    "\\end{align*}\n",
    "\n",
    "- **Area Under Curve (AUC) Metrics**\n",
    "\n",
    "Consider the following quantities:\n",
    "\n",
    "\\begin{align*}\n",
    "&\\text{True Positive Rate (TPR)} = \\frac{\\text{Number of true positive predictions}}{\\text{Number of total positive cases}} = \\frac{TP}{TP + FN}\\\\\\\\\n",
    "&\\text{False Positive Rate (FPR)} = \\frac{\\text{Number of false positive predictions}}{\\text{Number of total negative cases}} = \\frac{FP}{FP + TN}\n",
    "\\end{align*}\n",
    "\n",
    "The Receiver Operating Characteristic (ROC) curve is obtained by plotting TPR against FPR for a number of threshold probability values. The area under ROC curve (ROC-AUC) serves as a valid evaluation metric.\n",
    "\n",
    "Similarly, the Precision-Recall (PR) curve is obtained by plotting Precision against Recall for a number of threshold probability values. The area under PR curve (PR-AUC) is also a valid evaluation metric. Another widely used metric in this regard is the Average Precision (AP), which is a weighted mean of precisions at each threshold, with the weights being increase in recall from the previous threshold.\n",
    "\n",
    "- **Other Metrics**\n",
    "\n",
    "\\begin{align*}\n",
    "&\\text{Matthews Correlation Coefficient (MCC)} = \\frac{\\left(TP \\times TN\\right) - \\left(FP \\times FN\\right)}{\\sqrt{\\left(TP + FP\\right) \\times \\left(TP + FN\\right) \\times \\left(TN + FP\\right) \\times \\left(TN + FN\\right)}}\n",
    "\\end{align*}\n",
    "\n",
    "Unlike the previous metrics, **MCC** varies from $-1$ (worst case scenario) to $1$ (best case scenario: perfect prediction).\n",
    "\n",
    "Note that **Recall** and **Sensitivity** are essentially the same quantity.\n",
    "\n",
    "Among the discussed metrics, some good choices to evaluate models, in particular for imbalanced dataset are **MCC** and **$F_1$-Score**, while **Precision** and **Recall** also give useful information. We shall not give much importance to the **Accuracy** metric in this project as it produces misleading conclusion when the classes are not balanced. In the problem at hand, false negative (a fraudulent transaction being classified as authentic) is more dangerous than false positive (an authentic transaction being classified as fraudulent) as in the former case, the fraudster can cause further financial damage, while in the latter case the bank can cross-verify the authenticity of the transaction from the card-user after taking necessary steps to secure the card. Considering this fact, we give **$F_2$-Score** special importance in evaluating the models."
   ]
  },
  {
   "cell_type": "code",
   "execution_count": null,
   "metadata": {
    "execution": {
     "iopub.execute_input": "2021-08-07T17:35:20.470689Z",
     "iopub.status.busy": "2021-08-07T17:35:20.470283Z",
     "iopub.status.idle": "2021-08-07T17:35:20.473984Z",
     "shell.execute_reply": "2021-08-07T17:35:20.473362Z",
     "shell.execute_reply.started": "2021-08-07T17:35:20.470661Z"
    },
    "id": "oRoO-YB4WX3k"
   },
   "outputs": [],
   "source": [
    "EvalMetricLabels = ['MCC', 'F1-Score', 'F2-Score', 'Recall', 'Precision',\n",
    "                    'FM index', 'Specificity', 'G-mean', 'F0.5-Score', 'Accuracy']"
   ]
  },
  {
   "cell_type": "markdown",
   "metadata": {
    "id": "crLdt9ZJWX3l"
   },
   "source": [
    "<a name='3.-Train-Test-Split'></a>\n",
    "# 3. Train-Test Split"
   ]
  },
  {
   "cell_type": "markdown",
   "metadata": {
    "id": "yRree5l0WX3l"
   },
   "source": [
    "## Splitting the data into training set and testing set"
   ]
  },
  {
   "cell_type": "code",
   "execution_count": null,
   "metadata": {
    "execution": {
     "iopub.execute_input": "2021-08-07T17:35:20.475333Z",
     "iopub.status.busy": "2021-08-07T17:35:20.474907Z",
     "iopub.status.idle": "2021-08-07T17:35:20.606536Z",
     "shell.execute_reply": "2021-08-07T17:35:20.605726Z",
     "shell.execute_reply.started": "2021-08-07T17:35:20.47525Z"
    },
    "id": "BNejq6NXWX3l"
   },
   "outputs": [],
   "source": [
    "# Separating independent variables and target variable\n",
    "\n",
    "y = data['Class'] # target variable\n",
    "X = data.drop('Class', axis = 1) # independent variables\n",
    "\n",
    "# Constructing training set and testing set\n",
    "\n",
    "X_train, X_test, y_train, y_test = train_test_split(X, y, test_size = 0.2, random_state = 25)"
   ]
  },
  {
   "cell_type": "code",
   "execution_count": 2,
   "metadata": {
    "execution": {
     "iopub.execute_input": "2021-08-07T17:35:20.608056Z",
     "iopub.status.busy": "2021-08-07T17:35:20.607634Z",
     "iopub.status.idle": "2021-08-07T17:35:21.864368Z",
     "shell.execute_reply": "2021-08-07T17:35:21.863336Z",
     "shell.execute_reply.started": "2021-08-07T17:35:20.608014Z"
    },
    "id": "ge8xEh7DWX3l",
    "outputId": "21b77475-b69f-49b2-c467-03b99435bc63"
   },
   "outputs": [
    {
     "ename": "NameError",
     "evalue": "name 'y_train' is not defined",
     "output_type": "error",
     "traceback": [
      "\u001b[0;31m---------------------------------------------------------------------------\u001b[0m",
      "\u001b[0;31mNameError\u001b[0m                                 Traceback (most recent call last)",
      "\u001b[0;32m<ipython-input-2-a0d8fb0b996e>\u001b[0m in \u001b[0;36m<module>\u001b[0;34m\u001b[0m\n\u001b[0;32m----> 1\u001b[0;31m \u001b[0mz\u001b[0m \u001b[0;34m=\u001b[0m \u001b[0mlist\u001b[0m\u001b[0;34m(\u001b[0m\u001b[0my_train\u001b[0m\u001b[0;34m)\u001b[0m\u001b[0;34m\u001b[0m\u001b[0;34m\u001b[0m\u001b[0m\n\u001b[0m\u001b[1;32m      2\u001b[0m \u001b[0;34m\u001b[0m\u001b[0m\n\u001b[1;32m      3\u001b[0m \u001b[0mcount0\u001b[0m \u001b[0;34m=\u001b[0m \u001b[0;36m0\u001b[0m\u001b[0;34m\u001b[0m\u001b[0;34m\u001b[0m\u001b[0m\n\u001b[1;32m      4\u001b[0m \u001b[0mcount1\u001b[0m \u001b[0;34m=\u001b[0m \u001b[0;36m0\u001b[0m\u001b[0;34m\u001b[0m\u001b[0;34m\u001b[0m\u001b[0m\n\u001b[1;32m      5\u001b[0m \u001b[0;34m\u001b[0m\u001b[0m\n",
      "\u001b[0;31mNameError\u001b[0m: name 'y_train' is not defined"
     ]
    }
   ],
   "source": [
    "z = list(y_train)\n",
    "\n",
    "count0 = 0\n",
    "count1 = 0\n",
    "\n",
    "for i in z:\n",
    "    if i == 0:\n",
    "        count0 = count0 + 1\n",
    "    elif i == 1:\n",
    "        count1 = count1 + 1\n",
    "\n",
    "# Class frequencies\n",
    "\n",
    "class_label_train = ['Authentic', 'Fraud']\n",
    "class_frequency_train = [count0, count1]\n",
    "\n",
    "fig1 = px.pie(values = class_frequency_train,\n",
    "             names = class_label_train,\n",
    "             title = 'Frequency comparison of authentic and fraudulent transactions in the training dataset',\n",
    "             template = 'ggplot2'\n",
    "            )\n",
    "fig1.show()"
   ]
  },
  {
   "cell_type": "markdown",
   "metadata": {
    "id": "Q9MssXN7WX3m"
   },
   "source": [
    "The plot indicates extremely high imbalance between the two classes in the training set which may lead to producing misleading models."
   ]
  },
  {
   "cell_type": "markdown",
   "metadata": {
    "id": "SRrAASqzWX3m"
   },
   "source": [
    "## Balancing the training set"
   ]
  },
  {
   "cell_type": "markdown",
   "metadata": {
    "id": "bBDceEwDWX3m"
   },
   "source": [
    "### Separating the training set by class"
   ]
  },
  {
   "cell_type": "code",
   "execution_count": null,
   "metadata": {
    "execution": {
     "iopub.execute_input": "2021-08-07T17:35:21.868338Z",
     "iopub.status.busy": "2021-08-07T17:35:21.868018Z",
     "iopub.status.idle": "2021-08-07T17:35:21.947361Z",
     "shell.execute_reply": "2021-08-07T17:35:21.946444Z",
     "shell.execute_reply.started": "2021-08-07T17:35:21.868308Z"
    },
    "id": "4_0SMXyxWX3m"
   },
   "outputs": [],
   "source": [
    "data_train = pd.concat([X_train, y_train], axis = 1)\n",
    "data_train_authentic = data_train[data_train['Class'] == 0]\n",
    "data_train_fraudulent = data_train[data_train['Class'] == 1]"
   ]
  },
  {
   "cell_type": "code",
   "execution_count": null,
   "metadata": {
    "execution": {
     "iopub.execute_input": "2021-08-07T17:35:21.949332Z",
     "iopub.status.busy": "2021-08-07T17:35:21.948923Z",
     "iopub.status.idle": "2021-08-07T17:35:24.816845Z",
     "shell.execute_reply": "2021-08-07T17:35:24.812725Z",
     "shell.execute_reply.started": "2021-08-07T17:35:21.949302Z"
    },
    "id": "qtPvJn0rWX3n",
    "outputId": "c33928d6-5416-4d67-e9f3-abf562e99ff2"
   },
   "outputs": [],
   "source": [
    "# Amount vs Time for authentic and fraudulent transactions in the training set\n",
    "\n",
    "class_list_train = list(y_train)\n",
    "fraud_status_train = []\n",
    "for i in range(len(class_list_train)):\n",
    "    fraud_status_train.append(bool(class_list_train[i]))\n",
    "\n",
    "fig1 = px.scatter(data_train,\n",
    "                 x = 'Time',\n",
    "                 y = 'Amount', \n",
    "                 facet_col = fraud_status_train,\n",
    "                 color = fraud_status_train,\n",
    "                 title = 'Amount vs Time for the training set',\n",
    "                 template = 'ggplot2'\n",
    "                )\n",
    "fig1.show()"
   ]
  },
  {
   "cell_type": "markdown",
   "metadata": {
    "id": "56XfoExQWX3n"
   },
   "source": [
    "### Random under-sampling (RUS)\n",
    "\n",
    "We take a subset of the majority class to balance the training dataset.\n",
    "\n",
    "**Advantage:** Improves run-time and solves any storage issue due to large learning dataset.\n",
    "\n",
    "**Disadvantage:** Ignores a chunk of information that could be impactful in the analysis and uses only a sample representative of the majority class which is not guarunteed to reflect the same accurately."
   ]
  },
  {
   "cell_type": "code",
   "execution_count": null,
   "metadata": {
    "execution": {
     "iopub.execute_input": "2021-08-07T17:35:24.818442Z",
     "iopub.status.busy": "2021-08-07T17:35:24.818145Z",
     "iopub.status.idle": "2021-08-07T17:35:25.03978Z",
     "shell.execute_reply": "2021-08-07T17:35:25.03875Z",
     "shell.execute_reply.started": "2021-08-07T17:35:24.818413Z"
    },
    "id": "CEh3-TZyWX3n",
    "outputId": "3fe20ad7-4154-4ddb-86a1-240b5625b0ed"
   },
   "outputs": [],
   "source": [
    "data_train_authentic_under = data_train_authentic.sample(len(data_train_fraudulent))\n",
    "data_train_under = pd.concat([data_train_authentic_under, data_train_fraudulent], axis = 0)\n",
    "\n",
    "X_train_under = data_train_under.drop('Class', axis = 1)\n",
    "y_train_under = data_train_under['Class']\n",
    "\n",
    "print('Class frequencies after under-sampling:')\n",
    "print(y_train_under.value_counts())\n",
    "y_train_under.value_counts().plot(kind = 'bar', title = 'Class frequencies after under-sampling')"
   ]
  },
  {
   "cell_type": "code",
   "execution_count": null,
   "metadata": {
    "execution": {
     "iopub.execute_input": "2021-08-07T17:35:25.041237Z",
     "iopub.status.busy": "2021-08-07T17:35:25.040948Z",
     "iopub.status.idle": "2021-08-07T17:35:25.149291Z",
     "shell.execute_reply": "2021-08-07T17:35:25.148506Z",
     "shell.execute_reply.started": "2021-08-07T17:35:25.041202Z"
    },
    "id": "WR6q-l4AWX3n",
    "outputId": "cbcee43c-4aeb-4945-c301-8448d5e72ffb"
   },
   "outputs": [],
   "source": [
    "# Amount vs Time for authentic and fraudulent transactions in the training set after random under-sampling\n",
    "\n",
    "class_list = list(y_train_under)\n",
    "fraud_status = []\n",
    "for i in range(len(class_list)):\n",
    "    fraud_status.append(bool(class_list[i]))\n",
    "\n",
    "fig1 = px.scatter(data_train_under,\n",
    "                 x = 'Time',\n",
    "                 y = 'Amount', \n",
    "                 facet_col = fraud_status,\n",
    "                 color = fraud_status,\n",
    "                 title = 'Amount vs Time for the training set after random under-sampling',\n",
    "                 template = 'ggplot2'\n",
    "                )\n",
    "fig1.show()"
   ]
  },
  {
   "cell_type": "markdown",
   "metadata": {
    "id": "TGbeatfYWX3n"
   },
   "source": [
    "Comparing with the same plots for full dataset, we see that high-amount authentic transactions are not represented in the sample taken from the majority class. This indicates a general drawback of the under-sampling techniques which throws away a major chunk of information from the majority class and suffers from not representing the same accurately."
   ]
  },
  {
   "cell_type": "markdown",
   "metadata": {
    "id": "LfjFxHjxWX3n"
   },
   "source": [
    "### Random over-sampling (ROS)"
   ]
  },
  {
   "cell_type": "code",
   "execution_count": null,
   "metadata": {
    "execution": {
     "iopub.execute_input": "2021-08-07T17:35:25.151262Z",
     "iopub.status.busy": "2021-08-07T17:35:25.150816Z",
     "iopub.status.idle": "2021-08-07T17:35:25.401736Z",
     "shell.execute_reply": "2021-08-07T17:35:25.400659Z",
     "shell.execute_reply.started": "2021-08-07T17:35:25.15122Z"
    },
    "id": "o64H1jOQWX3o",
    "outputId": "1a96a539-f144-478b-a14c-f6c4e028238b"
   },
   "outputs": [],
   "source": [
    "data_train_fraudulent_over = data_train_fraudulent.sample(len(data_train_authentic), replace = 'True')\n",
    "data_train_over = pd.concat([data_train_authentic, data_train_fraudulent_over], axis = 0)\n",
    "\n",
    "X_train_over = data_train_over.drop('Class', axis = 1)\n",
    "y_train_over = data_train_over['Class']\n",
    "\n",
    "print('Class frequencies after over-sampling:')\n",
    "print(y_train_over.value_counts())\n",
    "y_train_over.value_counts().plot(kind = 'bar', title = 'Class frequencies after over-sampling')"
   ]
  },
  {
   "cell_type": "code",
   "execution_count": null,
   "metadata": {
    "execution": {
     "iopub.execute_input": "2021-08-07T17:35:25.403224Z",
     "iopub.status.busy": "2021-08-07T17:35:25.402924Z",
     "iopub.status.idle": "2021-08-07T17:35:30.536512Z",
     "shell.execute_reply": "2021-08-07T17:35:30.535478Z",
     "shell.execute_reply.started": "2021-08-07T17:35:25.403188Z"
    },
    "id": "SSSiN8x_WX3o",
    "outputId": "70771ade-2d2e-4d33-b96f-c408ad6e8c91"
   },
   "outputs": [],
   "source": [
    "# Amount vs Time for authentic and fraudulent transactions in the training set after random over-sampling\n",
    "\n",
    "class_list = list(y_train_over)\n",
    "fraud_status = []\n",
    "for i in range(len(class_list)):\n",
    "    fraud_status.append(bool(class_list[i]))\n",
    "\n",
    "fig1 = px.scatter(data_train_over,\n",
    "                 x = 'Time',\n",
    "                 y = 'Amount', \n",
    "                 facet_col = fraud_status,\n",
    "                 color = fraud_status,\n",
    "                 title = 'Amount vs Time',\n",
    "                 template = 'ggplot2'\n",
    "                )\n",
    "fig1.show()"
   ]
  },
  {
   "cell_type": "markdown",
   "metadata": {
    "id": "1j2Srph9WX3o"
   },
   "source": [
    "These plots resemble the corresponding *Amount vs Time* plots for the full dataset much more accurately than the corresponding plots for the training set obtained from random under-sampling."
   ]
  },
  {
   "cell_type": "markdown",
   "metadata": {
    "id": "eXSBMnjWWX3o"
   },
   "source": [
    "### Random under-sampling with imbalanced-learn library (RUS-IL)"
   ]
  },
  {
   "cell_type": "code",
   "execution_count": null,
   "metadata": {
    "execution": {
     "iopub.execute_input": "2021-08-07T17:35:30.538531Z",
     "iopub.status.busy": "2021-08-07T17:35:30.53801Z",
     "iopub.status.idle": "2021-08-07T17:35:30.808048Z",
     "shell.execute_reply": "2021-08-07T17:35:30.807125Z",
     "shell.execute_reply.started": "2021-08-07T17:35:30.538485Z"
    },
    "id": "aFy70bXHZG84",
    "outputId": "157881bc-5d2f-4fd9-8152-ab61f5d8e5d3"
   },
   "outputs": [],
   "source": [
    "imblearn_rus = RandomUnderSampler(random_state = 40, replacement = True)\n",
    "X_train_rus, y_train_rus = imblearn_rus.fit_resample(X_train, y_train)\n",
    "\n",
    "X_train_rus = pd.DataFrame(X_train_rus)\n",
    "X_train_rus.columns = features\n",
    "\n",
    "y_train_rus = pd.DataFrame(y_train_rus)\n",
    "y_train_rus.columns = ['Class']\n",
    "\n",
    "data_train_under_imblearn = pd.concat([X_train_rus, y_train_rus], axis = 1)\n",
    "\n",
    "X_train_under_imblearn = data_train_under_imblearn.drop('Class', axis = 1)\n",
    "y_train_under_imblearn = data_train_under_imblearn['Class']\n",
    "\n",
    "print('Class frequencies after under-sampling via imbalanced-learn library:')\n",
    "print(y_train_under_imblearn.value_counts())\n",
    "y_train_under_imblearn.value_counts().plot(kind = 'bar',\n",
    "                                           title = 'Class frequencies after under-sampling via imbalanced-learn library')"
   ]
  },
  {
   "cell_type": "code",
   "execution_count": null,
   "metadata": {
    "execution": {
     "iopub.execute_input": "2021-08-07T17:35:30.80966Z",
     "iopub.status.busy": "2021-08-07T17:35:30.80936Z",
     "iopub.status.idle": "2021-08-07T17:35:30.907025Z",
     "shell.execute_reply": "2021-08-07T17:35:30.905944Z",
     "shell.execute_reply.started": "2021-08-07T17:35:30.809633Z"
    },
    "id": "iZaWnZ-EWX3o",
    "outputId": "2f920dc5-f93a-4ada-bc82-9625c968840a"
   },
   "outputs": [],
   "source": [
    "# Amount vs Time for authentic and fraudulent transactions in the training set after random under-sampling via imblearn\n",
    "\n",
    "class_list = list(y_train_under_imblearn)\n",
    "fraud_status = []\n",
    "for i in range(len(class_list)):\n",
    "    fraud_status.append(bool(class_list[i]))\n",
    "\n",
    "fig1 = px.scatter(data_train_under_imblearn,\n",
    "                 x = 'Time',\n",
    "                 y = 'Amount', \n",
    "                 facet_col = fraud_status,\n",
    "                 color = fraud_status,\n",
    "                 title = 'Amount vs Time',\n",
    "                 template = 'ggplot2'\n",
    "                )\n",
    "fig1.show()"
   ]
  },
  {
   "cell_type": "markdown",
   "metadata": {
    "id": "wRefe2CCWX3o"
   },
   "source": [
    "### Random over-sampling with imbalanced-learn library (ROS-IL)"
   ]
  },
  {
   "cell_type": "code",
   "execution_count": null,
   "metadata": {
    "execution": {
     "iopub.execute_input": "2021-08-07T17:35:30.909054Z",
     "iopub.status.busy": "2021-08-07T17:35:30.908629Z",
     "iopub.status.idle": "2021-08-07T17:35:31.519243Z",
     "shell.execute_reply": "2021-08-07T17:35:31.518239Z",
     "shell.execute_reply.started": "2021-08-07T17:35:30.909007Z"
    },
    "id": "YYbjH-L_WX3o",
    "outputId": "38841b57-560d-4a6e-8b55-07957a011394"
   },
   "outputs": [],
   "source": [
    "imblearn_ros = RandomOverSampler(random_state = 40)\n",
    "X_train_ros, y_train_ros = imblearn_ros.fit_resample(X_train, y_train)\n",
    "\n",
    "X_train_ros = pd.DataFrame(X_train_ros)\n",
    "X_train_ros.columns = features\n",
    "\n",
    "y_train_ros = pd.DataFrame(y_train_ros)\n",
    "y_train_ros.columns = ['Class']\n",
    "\n",
    "data_train_over_imblearn = pd.concat([X_train_ros, y_train_ros], axis = 1)\n",
    "\n",
    "X_train_over_imblearn = data_train_over_imblearn.drop('Class', axis = 1)\n",
    "y_train_over_imblearn = data_train_over_imblearn['Class']\n",
    "\n",
    "print('Class frequencies after over-sampling via imbalanced-learn library:')\n",
    "print(y_train_over_imblearn.value_counts())\n",
    "y_train_over_imblearn.value_counts().plot(kind = 'bar',\n",
    "                                          title = 'Class frequencies after over-sampling via imbalanced-learn library')"
   ]
  },
  {
   "cell_type": "code",
   "execution_count": null,
   "metadata": {
    "execution": {
     "iopub.execute_input": "2021-08-07T17:35:31.520804Z",
     "iopub.status.busy": "2021-08-07T17:35:31.520502Z",
     "iopub.status.idle": "2021-08-07T17:35:36.607115Z",
     "shell.execute_reply": "2021-08-07T17:35:36.603709Z",
     "shell.execute_reply.started": "2021-08-07T17:35:31.520775Z"
    },
    "id": "sKV1AAyyWX3p",
    "outputId": "18788d88-db0e-4819-ed79-c4181f5d4d6a"
   },
   "outputs": [],
   "source": [
    "# Amount vs Time for authentic and fraudulent transactions in the training set after random over-sampling via imblearn\n",
    "\n",
    "class_list = list(y_train_over_imblearn)\n",
    "fraud_status = []\n",
    "for i in range(len(class_list)):\n",
    "    fraud_status.append(bool(class_list[i]))\n",
    "\n",
    "fig1 = px.scatter(data_train_over_imblearn,\n",
    "                 x = 'Time',\n",
    "                 y = 'Amount', \n",
    "                 facet_col = fraud_status,\n",
    "                 color = fraud_status,\n",
    "                 title = 'Amount vs Time',\n",
    "                 template = 'ggplot2'\n",
    "                )\n",
    "fig1.show()"
   ]
  },
  {
   "cell_type": "markdown",
   "metadata": {
    "id": "ZuXegeSRWX3p"
   },
   "source": [
    "### Synthetic minority over-sampling technique (SMOTE)"
   ]
  },
  {
   "cell_type": "code",
   "execution_count": null,
   "metadata": {
    "execution": {
     "iopub.execute_input": "2021-08-07T17:35:36.60965Z",
     "iopub.status.busy": "2021-08-07T17:35:36.609027Z",
     "iopub.status.idle": "2021-08-07T17:35:37.269772Z",
     "shell.execute_reply": "2021-08-07T17:35:37.268897Z",
     "shell.execute_reply.started": "2021-08-07T17:35:36.609606Z"
    },
    "id": "HHl7Kvz0WX3p",
    "outputId": "953b3e41-acd6-4aa7-bd54-a56527102f2f"
   },
   "outputs": [],
   "source": [
    "smote = SMOTE()\n",
    "X_train_smote, y_train_smote = smote.fit_resample(X_train, y_train)\n",
    "\n",
    "X_train_smote = pd.DataFrame(X_train_smote)\n",
    "X_train_smote.columns = features\n",
    "X_train_smote\n",
    "\n",
    "y_train_smote = pd.DataFrame(y_train_smote)\n",
    "y_train_smote.columns = ['Class']\n",
    "y_train_smote\n",
    "\n",
    "data_train_over_smote = pd.concat([X_train_smote, y_train_smote], axis = 1)\n",
    "\n",
    "X_train_over_smote = data_train_over_smote.drop('Class', axis = 1)\n",
    "y_train_over_smote = data_train_over_smote['Class']\n",
    "\n",
    "print('Class frequencies after over-sampling via SMOTE:')\n",
    "print(y_train_over_smote.value_counts())\n",
    "y_train_over_smote.value_counts().plot(kind = 'bar', title = 'Class frequencies after over-sampling via SMOTE')"
   ]
  },
  {
   "cell_type": "code",
   "execution_count": null,
   "metadata": {
    "execution": {
     "iopub.execute_input": "2021-08-07T17:35:37.271617Z",
     "iopub.status.busy": "2021-08-07T17:35:37.271202Z",
     "iopub.status.idle": "2021-08-07T17:35:42.730395Z",
     "shell.execute_reply": "2021-08-07T17:35:42.729314Z",
     "shell.execute_reply.started": "2021-08-07T17:35:37.271585Z"
    },
    "id": "3_vXIISSWX3p",
    "outputId": "cd5e329c-af66-428e-ba57-c2a975e8de3b"
   },
   "outputs": [],
   "source": [
    "# Amount vs Time for authentic and fraudulent transactions in the training set after over-sampling via SMOTE\n",
    "\n",
    "class_list = list(y_train_over_smote)\n",
    "fraud_status = []\n",
    "for i in range(len(class_list)):\n",
    "    fraud_status.append(bool(class_list[i]))\n",
    "\n",
    "fig1 = px.scatter(data_train_over_smote,\n",
    "                 x = 'Time',\n",
    "                 y = 'Amount', \n",
    "                 facet_col = fraud_status,\n",
    "                 color = fraud_status,\n",
    "                 title = 'Amount vs Time',\n",
    "                 template = 'ggplot2'\n",
    "                )\n",
    "fig1.show()"
   ]
  },
  {
   "cell_type": "markdown",
   "metadata": {
    "id": "cJtEslFwWX3p"
   },
   "source": [
    "### Under-sampling via NearMiss (NM)"
   ]
  },
  {
   "cell_type": "code",
   "execution_count": null,
   "metadata": {
    "execution": {
     "iopub.execute_input": "2021-08-07T17:35:42.732055Z",
     "iopub.status.busy": "2021-08-07T17:35:42.73174Z",
     "iopub.status.idle": "2021-08-07T17:35:44.538139Z",
     "shell.execute_reply": "2021-08-07T17:35:44.536857Z",
     "shell.execute_reply.started": "2021-08-07T17:35:42.732024Z"
    },
    "id": "jYr8vaNpWX3p",
    "outputId": "afe306b8-36f2-48c7-f480-f32c6ad2ea73"
   },
   "outputs": [],
   "source": [
    "nm = NearMiss()\n",
    "X_train_nm, y_train_nm = nm.fit_resample(X_train, y_train)\n",
    "\n",
    "X_train_nm = pd.DataFrame(X_train_nm)\n",
    "X_train_nm.columns = features\n",
    "X_train_nm\n",
    "\n",
    "y_train_nm = pd.DataFrame(y_train_nm)\n",
    "y_train_nm.columns = ['Class']\n",
    "y_train_nm\n",
    "\n",
    "data_train_under_nm = pd.concat([X_train_nm, y_train_nm], axis = 1)\n",
    "\n",
    "X_train_under_nm = data_train_under_nm.drop('Class', axis = 1)\n",
    "y_train_under_nm = data_train_under_nm['Class']\n",
    "\n",
    "print('Class frequencies after under-sampling via NearMiss:')\n",
    "print(y_train_under_nm.value_counts())\n",
    "y_train_under_nm.value_counts().plot(kind = 'bar', title = 'Class frequencies after under-sampling via NearMiss')"
   ]
  },
  {
   "cell_type": "code",
   "execution_count": null,
   "metadata": {
    "execution": {
     "iopub.execute_input": "2021-08-07T17:35:44.539714Z",
     "iopub.status.busy": "2021-08-07T17:35:44.539406Z",
     "iopub.status.idle": "2021-08-07T17:35:44.63831Z",
     "shell.execute_reply": "2021-08-07T17:35:44.637358Z",
     "shell.execute_reply.started": "2021-08-07T17:35:44.539686Z"
    },
    "id": "02aFGODUWX3p",
    "outputId": "8c9868b3-31a5-494b-fbde-d4c011c24c98"
   },
   "outputs": [],
   "source": [
    "# Amount vs Time for authentic and fraudulent transactions in the training set after random under-sampling via NearMiss\n",
    "\n",
    "class_list = list(y_train_under_nm)\n",
    "fraud_status = []\n",
    "for i in range(len(class_list)):\n",
    "    fraud_status.append(bool(class_list[i]))\n",
    "\n",
    "fig1 = px.scatter(data_train_under_nm,\n",
    "                 x = 'Time',\n",
    "                 y = 'Amount', \n",
    "                 facet_col = fraud_status,\n",
    "                 color = fraud_status,\n",
    "                 title = 'Amount vs Time',\n",
    "                 template = 'ggplot2'\n",
    "                )\n",
    "fig1.show()"
   ]
  },
  {
   "cell_type": "markdown",
   "metadata": {
    "id": "gvJooLVLWX3p"
   },
   "source": [
    "From the left plot it is clear that the majority class is not represented accurately in the under-sampling scheme via NearMiss."
   ]
  },
  {
   "cell_type": "code",
   "execution_count": null,
   "metadata": {
    "execution": {
     "iopub.execute_input": "2021-08-07T17:35:44.639944Z",
     "iopub.status.busy": "2021-08-07T17:35:44.63965Z",
     "iopub.status.idle": "2021-08-07T17:35:44.644542Z",
     "shell.execute_reply": "2021-08-07T17:35:44.643346Z",
     "shell.execute_reply.started": "2021-08-07T17:35:44.639916Z"
    },
    "id": "_vEf-NTdWX3p"
   },
   "outputs": [],
   "source": [
    "TrainingSets = ['Unaltered', 'RUS', 'ROS', 'RUS-IL', 'ROS-IL', 'SMOTE', 'NM']"
   ]
  },
  {
   "cell_type": "markdown",
   "metadata": {
    "id": "JpsMmAvtkPrs"
   },
   "source": [
    "<a name='4.-Feature-Scaling'></a>\n",
    "# 4. Feature Scaling"
   ]
  },
  {
   "cell_type": "markdown",
   "metadata": {
    "id": "6X127lA9KMj8"
   },
   "source": [
    "It may be natural for one of the features to contribute to the classification process more than another. But often this is caused artificially by the difference of range of values that the features take (often due to the units in which the features are measured). Many algorithms, especially the tree-based ones like decision tree and random forest, as well as graphical model-based classifiers like linear discriminant analysis and naive Bayes are invariant to scaling and hence are indifferent to feature scaling. On the other hand, the algorithms based on distances or similarities, which include $k$-nearest neighbours, support vector machine and stochastic gradient descent are sensitive to scaling. This necessitates the practitioner to scale the features appropriately before feeding the data to such classifiers."
   ]
  },
  {
   "cell_type": "code",
   "execution_count": null,
   "metadata": {
    "execution": {
     "iopub.execute_input": "2021-08-07T17:35:44.650185Z",
     "iopub.status.busy": "2021-08-07T17:35:44.649773Z",
     "iopub.status.idle": "2021-08-07T17:35:44.9595Z",
     "shell.execute_reply": "2021-08-07T17:35:44.958427Z",
     "shell.execute_reply.started": "2021-08-07T17:35:44.650152Z"
    },
    "id": "YRXN9-wbkR0C"
   },
   "outputs": [],
   "source": [
    "scaling = MinMaxScaler(feature_range = (-1,1)).fit(X_train)\n",
    "\n",
    "X_train_scaled_minmax = scaling.transform(X_train)\n",
    "X_train_under_scaled_minmax = scaling.transform(X_train_under)\n",
    "X_train_over_scaled_minmax = scaling.transform(X_train_over)\n",
    "X_train_under_imblearn_scaled_minmax = scaling.transform(X_train_under_imblearn)\n",
    "X_train_over_imblearn_scaled_minmax = scaling.transform(X_train_over_imblearn)\n",
    "X_train_over_smote_scaled_minmax = scaling.transform(X_train_over_smote)\n",
    "X_train_under_nm_scaled_minmax = scaling.transform(X_train_under_nm)\n",
    "\n",
    "X_test_scaled_minmax = scaling.transform(X_test)"
   ]
  },
  {
   "cell_type": "markdown",
   "metadata": {
    "id": "TirCL_7VWX3q"
   },
   "source": [
    "<a name='5.-Logistic-Regression'></a>\n",
    "# 5. Logistic Regression"
   ]
  },
  {
   "cell_type": "code",
   "execution_count": null,
   "metadata": {
    "execution": {
     "iopub.execute_input": "2021-08-07T17:35:44.962388Z",
     "iopub.status.busy": "2021-08-07T17:35:44.962076Z",
     "iopub.status.idle": "2021-08-07T17:35:44.966687Z",
     "shell.execute_reply": "2021-08-07T17:35:44.965712Z",
     "shell.execute_reply.started": "2021-08-07T17:35:44.962359Z"
    },
    "id": "E3d5IWD3WX3q"
   },
   "outputs": [],
   "source": [
    "logreg = LogisticRegression(max_iter = 1000)"
   ]
  },
  {
   "cell_type": "code",
   "execution_count": null,
   "metadata": {
    "execution": {
     "iopub.execute_input": "2021-08-07T17:35:44.968554Z",
     "iopub.status.busy": "2021-08-07T17:35:44.968192Z",
     "iopub.status.idle": "2021-08-07T17:35:44.993226Z",
     "shell.execute_reply": "2021-08-07T17:35:44.992084Z",
     "shell.execute_reply.started": "2021-08-07T17:35:44.968515Z"
    },
    "id": "G60479TfWX3q",
    "outputId": "e356f33d-c0ce-4dcc-bec3-ea9c93428dcb"
   },
   "outputs": [],
   "source": [
    "# Computation of confusion matrix, evaluation metrics and visualization of classes\n",
    "\n",
    "def classification(model, X_train, y_train, X_test, y_test):\n",
    "    model.fit(X_train, y_train)\n",
    "    y_pred = model.predict(X_test)\n",
    "\n",
    "    y_test = list(y_test)\n",
    "    y_pred = list(y_pred)\n",
    "\n",
    "    # Confusion matrix\n",
    "    \n",
    "    class_names = ['Authentic', 'Fraudulent']\n",
    "    tick_marks_y = [0.25, 1.2]\n",
    "    tick_marks_x = [0.5, 1.5]\n",
    "\n",
    "    confusion_matrix = metrics.confusion_matrix(y_test, y_pred)\n",
    "    confusion_matrix_df = pd.DataFrame(confusion_matrix, range(2), range(2))\n",
    "    plt.figure(figsize = (6, 4.75))\n",
    "    sns.set(font_scale = 1.4) # label size\n",
    "    plt.title(\"Confusion Matrix\")\n",
    "    sns.heatmap(confusion_matrix_df, annot = True, annot_kws = {\"size\": 16}, fmt = 'd') # font size\n",
    "    plt.yticks(tick_marks_y, class_names, rotation = 'vertical')\n",
    "    plt.xticks(tick_marks_x, class_names, rotation = 'horizontal')\n",
    "    plt.ylabel('True label')\n",
    "    plt.xlabel('Predicted label')\n",
    "    plt.grid(False)\n",
    "    plt.show()\n",
    "\n",
    "    # Evaluation metrics\n",
    "\n",
    "    TN = confusion_matrix[0, 0]\n",
    "    FP = confusion_matrix[0, 1]\n",
    "    FN = confusion_matrix[1, 0]\n",
    "    TP = confusion_matrix[1, 1]\n",
    "\n",
    "    accuracy = (TP + TN)/(TP + FN + TN + FP)\n",
    "    \n",
    "    if (FP + TP == 0):\n",
    "        precision = float('NaN')\n",
    "    else:\n",
    "        precision = TP/(TP + FP)\n",
    "        \n",
    "    if (TP + FN == 0):\n",
    "        recall = float('NaN')\n",
    "    else:\n",
    "        recall = TP/(TP + FN)\n",
    "    \n",
    "    FM_index = np.sqrt(precision * recall) # Fowlkes-Mallows index\n",
    "\n",
    "    if (TP == 0):\n",
    "        F0_5_score = float('NaN')\n",
    "        F1_score = float('NaN')\n",
    "        F2_score = float('NaN')\n",
    "    else:\n",
    "        F0_5_score = (1.25 * precision * recall)/((0.25 * precision) + recall)\n",
    "        F1_score = (2 * precision * recall)/(precision + recall)\n",
    "        F2_score = (5 * precision * recall)/((4 * precision) + recall)\n",
    "    \n",
    "    if (TN + FP == 0):\n",
    "        specificity = float('NaN')\n",
    "    else:\n",
    "        specificity = TN/(TN + FP)\n",
    "\n",
    "    G_mean = np.sqrt(recall * specificity)\n",
    "\n",
    "    MCC_num = (TN * TP) - (FP * FN)\n",
    "    MCC_denom = np.sqrt((FP + TP) * (FN + TP) * (TN + FP) * (TN + FN))\n",
    "    \n",
    "    if (MCC_denom == 0):\n",
    "        MCC = float('NaN')\n",
    "    else:\n",
    "        MCC = MCC_num / MCC_denom # Matthews Correlation Coefficient\n",
    "    \n",
    "    # Summary\n",
    "\n",
    "    EvalMetricLabels = ['MCC', 'F1-Score', 'F2-Score', 'Recall', 'Precision',\n",
    "                        'FM index', 'Specificity', 'G-mean', 'F0.5-Score', 'Accuracy']\n",
    "    EvalMetricValues = [MCC, F1_score, F2_score, recall, precision, FM_index, specificity, G_mean, F0_5_score, accuracy]\n",
    "    \n",
    "    global summary\n",
    "    summary = pd.DataFrame(columns = ['Metric', 'Performance score'])\n",
    "    summary['Metric'] = EvalMetricLabels\n",
    "    summary['Performance score'] = EvalMetricValues\n",
    "    \n",
    "    # Performance of the model through confusion matrix\n",
    "    \n",
    "    fig1 = make_subplots(rows = 1, cols = 2, specs = [[{\"type\": \"pie\"}, {\"type\": \"pie\"}]])\n",
    "\n",
    "    fig1.add_trace(go.Pie(\n",
    "        labels = ['TP', 'FN'],\n",
    "        values = [TP, FN],\n",
    "        domain = dict(x = [0, 0.4]),\n",
    "        name = 'Positive Class'), \n",
    "        row = 1, col = 1)\n",
    "\n",
    "    fig1.add_trace(go.Pie(\n",
    "        labels = ['TN', 'FP'],\n",
    "        values = [TN, FP],\n",
    "        domain = dict(x = [0.4, 0.8]),\n",
    "        name = 'Negative Class'),\n",
    "        row = 1, col = 2)\n",
    "\n",
    "    fig1.update_layout(height = 450, showlegend = True)\n",
    "    fig1.show()"
   ]
  },
  {
   "cell_type": "markdown",
   "metadata": {
    "id": "PFApyGA5WX3q"
   },
   "source": [
    "## Unaltered training set"
   ]
  },
  {
   "cell_type": "code",
   "execution_count": null,
   "metadata": {
    "execution": {
     "iopub.execute_input": "2021-08-07T17:35:44.994934Z",
     "iopub.status.busy": "2021-08-07T17:35:44.99457Z",
     "iopub.status.idle": "2021-08-07T17:36:01.809876Z",
     "shell.execute_reply": "2021-08-07T17:36:01.808753Z",
     "shell.execute_reply.started": "2021-08-07T17:35:44.994904Z"
    },
    "id": "lfm5e7JwWX3q",
    "outputId": "c2dd829c-b986-4e35-9a29-949b39e1e889"
   },
   "outputs": [],
   "source": [
    "# Elements of confusion matrix\n",
    "\n",
    "classification(logreg, X_train, y_train, X_test, y_test)\n",
    "\n",
    "# Summary of evaluation metrics\n",
    "\n",
    "summary_logreg_unaltered = summary.copy()\n",
    "summary_logreg_unaltered.set_index('Metric')\n",
    "\n",
    "y_score = logreg.decision_function(X_test)\n",
    "average_precision = average_precision_score(y_test, y_score)\n",
    "y_pred_proba = logreg.predict_proba(X_test)[::,1]\n",
    "roc_auc = metrics.roc_auc_score(y_test, y_pred_proba)\n",
    "\n",
    "summary_logreg_unaltered_extended = summary.copy()\n",
    "summary_logreg_unaltered_extended.loc[len(summary_logreg_unaltered_extended.index)] = ['AP', average_precision]\n",
    "summary_logreg_unaltered_extended.loc[len(summary_logreg_unaltered_extended.index)] = ['ROC-AUC', roc_auc]\n",
    "summary_logreg_unaltered_extended.set_index('Metric')\n",
    "\n",
    "summary_logreg_unaltered_index = summary_logreg_unaltered_extended.T\n",
    "summary_logreg_unaltered_index.columns = summary_logreg_unaltered_index.iloc[0]\n",
    "summary_logreg_unaltered_index.drop(summary_logreg_unaltered_index.index[0], inplace = True)\n",
    "summary_logreg_unaltered_index"
   ]
  },
  {
   "cell_type": "markdown",
   "metadata": {
    "id": "BSCtKQQJWX3q"
   },
   "source": [
    "**Observation:** While logistic regression model on unaltered training set performs exceedingly well on the negative class (authentic transactions), it does not work so well with the critical positive class (fraudulent transactions) as it misclassifies more than one-third of the transactions in that class."
   ]
  },
  {
   "cell_type": "markdown",
   "metadata": {
    "id": "_aM1vkB2WX3q"
   },
   "source": [
    "## Random under-sampling"
   ]
  },
  {
   "cell_type": "code",
   "execution_count": null,
   "metadata": {
    "execution": {
     "iopub.execute_input": "2021-08-07T17:36:01.812252Z",
     "iopub.status.busy": "2021-08-07T17:36:01.811599Z",
     "iopub.status.idle": "2021-08-07T17:36:02.500805Z",
     "shell.execute_reply": "2021-08-07T17:36:02.499682Z",
     "shell.execute_reply.started": "2021-08-07T17:36:01.812204Z"
    },
    "id": "5Q2L6ecnWX3r",
    "outputId": "1533aa3a-2b0d-4756-d68f-6d7de60dc0cd"
   },
   "outputs": [],
   "source": [
    "# Elements of confusion matrix\n",
    "\n",
    "classification(logreg, X_train_under, y_train_under, X_test, y_test)\n",
    "\n",
    "# Summary of evaluation metrics\n",
    "\n",
    "summary_logreg_under = summary\n",
    "summary_logreg_under.set_index('Metric')\n",
    "\n",
    "y_score = logreg.decision_function(X_test)\n",
    "average_precision = average_precision_score(y_test, y_score)\n",
    "y_pred_proba = logreg.predict_proba(X_test)[::,1]\n",
    "roc_auc = metrics.roc_auc_score(y_test, y_pred_proba)\n",
    "\n",
    "summary_logreg_under_extended = summary.copy()\n",
    "summary_logreg_under_extended.loc[len(summary_logreg_under_extended.index)] = ['AP', average_precision]\n",
    "summary_logreg_under_extended.loc[len(summary_logreg_under_extended.index)] = ['ROC-AUC', roc_auc]\n",
    "summary_logreg_under_extended.set_index('Metric')\n",
    "\n",
    "summary_logreg_under_index = summary_logreg_under_extended.T\n",
    "summary_logreg_under_index.columns = summary_logreg_under_index.iloc[0]\n",
    "summary_logreg_under_index.drop(summary_logreg_under_index.index[0], inplace = True)\n",
    "summary_logreg_under_index"
   ]
  },
  {
   "cell_type": "markdown",
   "metadata": {
    "id": "rivxQSjBWX3r"
   },
   "source": [
    "## Random over-sampling"
   ]
  },
  {
   "cell_type": "code",
   "execution_count": null,
   "metadata": {
    "execution": {
     "iopub.execute_input": "2021-08-07T17:36:02.503185Z",
     "iopub.status.busy": "2021-08-07T17:36:02.502506Z",
     "iopub.status.idle": "2021-08-07T17:36:12.773614Z",
     "shell.execute_reply": "2021-08-07T17:36:12.77256Z",
     "shell.execute_reply.started": "2021-08-07T17:36:02.503137Z"
    },
    "id": "UEQSOSaeWX3r",
    "outputId": "44638c22-f8bb-4307-dce7-21a750432696"
   },
   "outputs": [],
   "source": [
    "# Elements of confusion matrix\n",
    "\n",
    "classification(logreg, X_train_over, y_train_over, X_test, y_test)\n",
    "\n",
    "# Summary of evaluation metrics\n",
    "\n",
    "summary_logreg_over = summary\n",
    "summary_logreg_over.set_index('Metric')\n",
    "\n",
    "y_score = logreg.decision_function(X_test)\n",
    "average_precision = average_precision_score(y_test, y_score)\n",
    "y_pred_proba = logreg.predict_proba(X_test)[::,1]\n",
    "roc_auc = metrics.roc_auc_score(y_test, y_pred_proba)\n",
    "\n",
    "summary_logreg_over_extended = summary.copy()\n",
    "summary_logreg_over_extended.loc[len(summary_logreg_over_extended.index)] = ['AP', average_precision]\n",
    "summary_logreg_over_extended.loc[len(summary_logreg_over_extended.index)] = ['ROC-AUC', roc_auc]\n",
    "summary_logreg_over_extended.set_index('Metric')\n",
    "\n",
    "summary_logreg_over_index = summary_logreg_over_extended.T\n",
    "summary_logreg_over_index.columns = summary_logreg_over_index.iloc[0]\n",
    "summary_logreg_over_index.drop(summary_logreg_over_index.index[0], inplace = True)\n",
    "summary_logreg_over_index"
   ]
  },
  {
   "cell_type": "markdown",
   "metadata": {
    "id": "66RCkBtZWX3r"
   },
   "source": [
    "## Random under-sampling with imbalanced-learn library"
   ]
  },
  {
   "cell_type": "code",
   "execution_count": null,
   "metadata": {
    "execution": {
     "iopub.execute_input": "2021-08-07T17:36:12.775849Z",
     "iopub.status.busy": "2021-08-07T17:36:12.775198Z",
     "iopub.status.idle": "2021-08-07T17:36:13.427305Z",
     "shell.execute_reply": "2021-08-07T17:36:13.426283Z",
     "shell.execute_reply.started": "2021-08-07T17:36:12.775802Z"
    },
    "id": "pt4GRIhiWX3r",
    "outputId": "b6ea6d98-7465-4abb-e89b-72fef919cba1"
   },
   "outputs": [],
   "source": [
    "# Elements of confusion matrix\n",
    "\n",
    "classification(logreg, X_train_under_imblearn, y_train_under_imblearn, X_test, y_test)\n",
    "\n",
    "# Summary of evaluation metrics\n",
    "\n",
    "summary_logreg_under_imblearn = summary\n",
    "summary_logreg_under_imblearn.set_index('Metric')\n",
    "\n",
    "y_score = logreg.decision_function(X_test)\n",
    "average_precision = average_precision_score(y_test, y_score)\n",
    "y_pred_proba = logreg.predict_proba(X_test)[::,1]\n",
    "roc_auc = metrics.roc_auc_score(y_test, y_pred_proba)\n",
    "\n",
    "summary_logreg_under_imblearn_extended = summary.copy()\n",
    "summary_logreg_under_imblearn_extended.loc[len(summary_logreg_under_imblearn_extended.index)] = ['AP', average_precision]\n",
    "summary_logreg_under_imblearn_extended.loc[len(summary_logreg_under_imblearn_extended.index)] = ['ROC-AUC', roc_auc]\n",
    "summary_logreg_under_imblearn_extended.set_index('Metric')\n",
    "\n",
    "summary_logreg_under_imblearn_index = summary_logreg_under_imblearn_extended.T\n",
    "summary_logreg_under_imblearn_index.columns = summary_logreg_under_imblearn_index.iloc[0]\n",
    "summary_logreg_under_imblearn_index.drop(summary_logreg_under_imblearn_index.index[0], inplace = True)\n",
    "summary_logreg_under_imblearn_index"
   ]
  },
  {
   "cell_type": "markdown",
   "metadata": {
    "id": "62IqCTwtWX3s"
   },
   "source": [
    "## Random over-sampling with imbalanced-learn library"
   ]
  },
  {
   "cell_type": "code",
   "execution_count": null,
   "metadata": {
    "execution": {
     "iopub.execute_input": "2021-08-07T17:36:13.429572Z",
     "iopub.status.busy": "2021-08-07T17:36:13.428937Z",
     "iopub.status.idle": "2021-08-07T17:36:19.268358Z",
     "shell.execute_reply": "2021-08-07T17:36:19.267293Z",
     "shell.execute_reply.started": "2021-08-07T17:36:13.429525Z"
    },
    "id": "3f2fIULXWX3s",
    "outputId": "28596a3b-1bec-4a84-d14b-be6c72371352"
   },
   "outputs": [],
   "source": [
    "# Elements of confusion matrix\n",
    "\n",
    "classification(logreg, X_train_over_imblearn, y_train_over_imblearn, X_test, y_test)\n",
    "\n",
    "# Summary of evaluation metrics\n",
    "\n",
    "summary_logreg_over_imblearn = summary\n",
    "summary_logreg_over_imblearn.set_index('Metric')\n",
    "\n",
    "y_score = logreg.decision_function(X_test)\n",
    "average_precision = average_precision_score(y_test, y_score)\n",
    "y_pred_proba = logreg.predict_proba(X_test)[::,1]\n",
    "roc_auc = metrics.roc_auc_score(y_test, y_pred_proba)\n",
    "\n",
    "summary_logreg_over_imblearn_extended = summary.copy()\n",
    "summary_logreg_over_imblearn_extended.loc[len(summary_logreg_over_imblearn_extended.index)] = ['AP', average_precision]\n",
    "summary_logreg_over_imblearn_extended.loc[len(summary_logreg_over_imblearn_extended.index)] = ['ROC-AUC', roc_auc]\n",
    "summary_logreg_over_imblearn_extended.set_index('Metric')\n",
    "\n",
    "summary_logreg_over_imblearn_index = summary_logreg_over_imblearn_extended.T\n",
    "summary_logreg_over_imblearn_index.columns = summary_logreg_over_imblearn_index.iloc[0]\n",
    "summary_logreg_over_imblearn_index.drop(summary_logreg_over_imblearn_index.index[0], inplace = True)\n",
    "summary_logreg_over_imblearn_index"
   ]
  },
  {
   "cell_type": "markdown",
   "metadata": {
    "id": "c8fa6RRRWX3s"
   },
   "source": [
    "## Synthetic minority over-sampling technique (SMOTE)"
   ]
  },
  {
   "cell_type": "code",
   "execution_count": null,
   "metadata": {
    "execution": {
     "iopub.execute_input": "2021-08-07T17:36:19.270639Z",
     "iopub.status.busy": "2021-08-07T17:36:19.269991Z",
     "iopub.status.idle": "2021-08-07T17:36:28.817097Z",
     "shell.execute_reply": "2021-08-07T17:36:28.815975Z",
     "shell.execute_reply.started": "2021-08-07T17:36:19.270592Z"
    },
    "id": "cNTOc9HEWX3s",
    "outputId": "169b6d5d-710a-4573-9fdc-fb4cda6562aa"
   },
   "outputs": [],
   "source": [
    "# Elements of confusion matrix\n",
    "\n",
    "classification(logreg, X_train_over_smote, y_train_over_smote, X_test, y_test)\n",
    "\n",
    "# Summary of evaluation metrics\n",
    "\n",
    "summary_logreg_over_smote = summary\n",
    "summary_logreg_over_smote.set_index('Metric')\n",
    "\n",
    "y_score = logreg.decision_function(X_test)\n",
    "average_precision = average_precision_score(y_test, y_score)\n",
    "y_pred_proba = logreg.predict_proba(X_test)[::,1]\n",
    "roc_auc = metrics.roc_auc_score(y_test, y_pred_proba)\n",
    "\n",
    "summary_logreg_over_smote_extended = summary.copy()\n",
    "summary_logreg_over_smote_extended.loc[len(summary_logreg_over_smote_extended.index)] = ['AP', average_precision]\n",
    "summary_logreg_over_smote_extended.loc[len(summary_logreg_over_smote_extended.index)] = ['ROC-AUC', roc_auc]\n",
    "summary_logreg_over_smote_extended.set_index('Metric')\n",
    "\n",
    "summary_logreg_over_smote_index = summary_logreg_over_smote_extended.T\n",
    "summary_logreg_over_smote_index.columns = summary_logreg_over_smote_index.iloc[0]\n",
    "summary_logreg_over_smote_index.drop(summary_logreg_over_smote_index.index[0], inplace = True)\n",
    "summary_logreg_over_smote_index"
   ]
  },
  {
   "cell_type": "markdown",
   "metadata": {
    "id": "bNp29aHPWX3s"
   },
   "source": [
    "## Under-sampling via NearMiss"
   ]
  },
  {
   "cell_type": "code",
   "execution_count": null,
   "metadata": {
    "execution": {
     "iopub.execute_input": "2021-08-07T17:36:28.822756Z",
     "iopub.status.busy": "2021-08-07T17:36:28.822256Z",
     "iopub.status.idle": "2021-08-07T17:36:29.464352Z",
     "shell.execute_reply": "2021-08-07T17:36:29.463306Z",
     "shell.execute_reply.started": "2021-08-07T17:36:28.822702Z"
    },
    "id": "m4gJNsxWWX3s",
    "outputId": "d9577a52-bc8c-4c4a-e79b-9a801fede439"
   },
   "outputs": [],
   "source": [
    "# Elements of confusion matrix\n",
    "\n",
    "classification(logreg, X_train_under_nm, y_train_under_nm, X_test, y_test)\n",
    "\n",
    "# Summary of evaluation metrics\n",
    "\n",
    "summary_logreg_under_nm = summary\n",
    "summary_logreg_under_nm.set_index('Metric')\n",
    "\n",
    "y_score = logreg.decision_function(X_test)\n",
    "average_precision = average_precision_score(y_test, y_score)\n",
    "y_pred_proba = logreg.predict_proba(X_test)[::,1]\n",
    "roc_auc = metrics.roc_auc_score(y_test, y_pred_proba)\n",
    "\n",
    "summary_logreg_under_nm_extended = summary.copy()\n",
    "summary_logreg_under_nm_extended.loc[len(summary_logreg_under_nm_extended.index)] = ['AP', average_precision]\n",
    "summary_logreg_under_nm_extended.loc[len(summary_logreg_under_nm_extended.index)] = ['ROC-AUC', roc_auc]\n",
    "summary_logreg_under_nm_extended.set_index('Metric')\n",
    "\n",
    "summary_logreg_under_nm_index = summary_logreg_under_nm_extended.T\n",
    "summary_logreg_under_nm_index.columns = summary_logreg_under_nm_index.iloc[0]\n",
    "summary_logreg_under_nm_index.drop(summary_logreg_under_nm_index.index[0], inplace = True)\n",
    "summary_logreg_under_nm_index"
   ]
  },
  {
   "cell_type": "markdown",
   "metadata": {
    "id": "W3UzzgRHWX3t"
   },
   "source": [
    "## Summary of logistic regression models"
   ]
  },
  {
   "cell_type": "markdown",
   "metadata": {
    "id": "NzYzeCUeyYT9"
   },
   "source": [
    "Keeping in mind that the dataset is highly imbalanced and that the positive class (fraudulent transactions) is more important than the negative class (authentic transactions), we report **MCC**, **F1-Score**, **F2-Score** and **Recall** for each model considered. Additionally we report **Precision**, **FM index**, **Accuracy** and **Specificity**."
   ]
  },
  {
   "cell_type": "code",
   "execution_count": null,
   "metadata": {
    "execution": {
     "iopub.execute_input": "2021-08-07T17:36:29.466482Z",
     "iopub.status.busy": "2021-08-07T17:36:29.46588Z",
     "iopub.status.idle": "2021-08-07T17:36:29.528987Z",
     "shell.execute_reply": "2021-08-07T17:36:29.527978Z",
     "shell.execute_reply.started": "2021-08-07T17:36:29.46642Z"
    },
    "id": "ffUPoWaaWX3t",
    "outputId": "84ba39be-5593-473c-897a-391feb2218ab"
   },
   "outputs": [],
   "source": [
    "summary_logreg = pd.DataFrame(columns = ['Metric'])\n",
    "\n",
    "summary_logreg['Metric'] = EvalMetricLabels\n",
    "summary_logreg_list = [summary_logreg_unaltered, summary_logreg_under, summary_logreg_over, summary_logreg_under_imblearn,\n",
    "                       summary_logreg_over_imblearn, summary_logreg_over_smote, summary_logreg_under_nm]\n",
    "\n",
    "for i in summary_logreg_list:\n",
    "    summary_logreg = pd.merge(summary_logreg, i, on = 'Metric')\n",
    "    \n",
    "TrainingSetsMetric = TrainingSets.copy()\n",
    "TrainingSetsMetric.insert(0, 'Metric')\n",
    "\n",
    "summary_logreg.columns = TrainingSetsMetric\n",
    "summary_logreg.set_index('Metric', inplace = True)\n",
    "summary_logreg"
   ]
  },
  {
   "cell_type": "code",
   "execution_count": null,
   "metadata": {
    "execution": {
     "iopub.execute_input": "2021-08-07T17:36:29.530851Z",
     "iopub.status.busy": "2021-08-07T17:36:29.530274Z",
     "iopub.status.idle": "2021-08-07T17:36:29.543629Z",
     "shell.execute_reply": "2021-08-07T17:36:29.542479Z",
     "shell.execute_reply.started": "2021-08-07T17:36:29.530808Z"
    },
    "id": "EOrEUTshqwnu",
    "outputId": "4f078095-be99-4c10-fec4-c813edb87eba"
   },
   "outputs": [],
   "source": [
    "# Function to visually compare performances of the model applied on different training sets through evaluation metrics\n",
    "\n",
    "def summary_visual(summary_model):\n",
    "  fig1 = make_subplots(rows = 2, cols = 4, shared_yaxes = True, subplot_titles = EvalMetricLabels)\n",
    "\n",
    "  fig1.add_trace(go.Bar(x = list(summary_model.columns), y = list(summary_model.loc['MCC'])), 1, 1)\n",
    "  fig1.add_trace(go.Bar(x = list(summary_model.columns), y = list(summary_model.loc['F1-Score'])), 1, 2)\n",
    "  fig1.add_trace(go.Bar(x = list(summary_model.columns), y = list(summary_model.loc['F2-Score'])), 1, 3)\n",
    "  fig1.add_trace(go.Bar(x = list(summary_model.columns), y = list(summary_model.loc['Recall'])), 1, 4)\n",
    "  fig1.add_trace(go.Bar(x = list(summary_model.columns), y = list(summary_model.loc['Precision'])), 2, 1)\n",
    "  fig1.add_trace(go.Bar(x = list(summary_model.columns), y = list(summary_model.loc['FM index'])), 2, 2)\n",
    "  fig1.add_trace(go.Bar(x = list(summary_model.columns), y = list(summary_model.loc['Specificity'])), 2, 3)\n",
    "  fig1.add_trace(go.Bar(x = list(summary_model.columns), y = list(summary_model.loc['Accuracy'])), 2, 4)\n",
    "\n",
    "  fig1.update_layout(height = 600, width = 1000, coloraxis = dict(colorscale = 'Bluered_r'), showlegend = False)\n",
    "  fig1.show()"
   ]
  },
  {
   "cell_type": "code",
   "execution_count": null,
   "metadata": {
    "execution": {
     "iopub.execute_input": "2021-08-07T17:36:29.545235Z",
     "iopub.status.busy": "2021-08-07T17:36:29.544947Z",
     "iopub.status.idle": "2021-08-07T17:36:29.68295Z",
     "shell.execute_reply": "2021-08-07T17:36:29.681802Z",
     "shell.execute_reply.started": "2021-08-07T17:36:29.545209Z"
    },
    "id": "i_LG2dvJWX3t",
    "outputId": "fe17276f-d69d-45cd-f179-74b4b21b3419"
   },
   "outputs": [],
   "source": [
    "# Visual comparison of the model applied on different training sets through evaluation metrics\n",
    "\n",
    "summary_visual(summary_logreg)"
   ]
  },
  {
   "cell_type": "markdown",
   "metadata": {
    "id": "Lzyxk6dFWX3t"
   },
   "source": [
    "<a name='6.-KNN'></a>\n",
    "# 6. $k$-Nearest Neighbors ($k$-NN)"
   ]
  },
  {
   "cell_type": "code",
   "execution_count": null,
   "metadata": {
    "execution": {
     "iopub.execute_input": "2021-08-07T17:36:29.685013Z",
     "iopub.status.busy": "2021-08-07T17:36:29.684626Z",
     "iopub.status.idle": "2021-08-07T17:36:29.690328Z",
     "shell.execute_reply": "2021-08-07T17:36:29.689038Z",
     "shell.execute_reply.started": "2021-08-07T17:36:29.684972Z"
    },
    "id": "RkcTqZm3WX3t",
    "outputId": "3b8e0696-5c76-409b-874c-0b2d4e5e0f9b"
   },
   "outputs": [],
   "source": [
    "k = 29\n",
    "knn = KNeighborsClassifier(n_neighbors = k, n_jobs = -1)"
   ]
  },
  {
   "cell_type": "markdown",
   "metadata": {
    "id": "KzU4IFHGWX3t"
   },
   "source": [
    "## Unaltered training set"
   ]
  },
  {
   "cell_type": "code",
   "execution_count": null,
   "metadata": {
    "execution": {
     "iopub.execute_input": "2021-08-07T17:36:29.692952Z",
     "iopub.status.busy": "2021-08-07T17:36:29.692177Z",
     "iopub.status.idle": "2021-08-07T17:38:45.840634Z",
     "shell.execute_reply": "2021-08-07T17:38:45.839538Z",
     "shell.execute_reply.started": "2021-08-07T17:36:29.69291Z"
    },
    "id": "hbBBzZqcWX3t",
    "outputId": "a4a3b535-c2c9-41b5-93ad-8affc8f971ac"
   },
   "outputs": [],
   "source": [
    "# Elements of confusion matrix\n",
    "\n",
    "classification(knn, X_train_scaled_minmax, y_train, X_test_scaled_minmax, y_test)\n",
    "\n",
    "# Summary of evaluation metrics\n",
    "\n",
    "summary_knn_unaltered = summary\n",
    "summary_knn_unaltered.set_index('Metric')\n",
    "\n",
    "y_pred_proba = knn.predict_proba(X_test)[::,1]\n",
    "roc_auc = metrics.roc_auc_score(y_test, y_pred_proba)\n",
    "\n",
    "summary_knn_unaltered_extended = summary.copy()\n",
    "summary_knn_unaltered_extended.loc[len(summary_knn_unaltered_extended.index)] = ['ROC-AUC', roc_auc]\n",
    "summary_knn_unaltered_extended.set_index('Metric')\n",
    "\n",
    "summary_knn_unaltered_index = summary_knn_unaltered_extended.T\n",
    "summary_knn_unaltered_index.columns = summary_knn_unaltered_index.iloc[0]\n",
    "summary_knn_unaltered_index.drop(summary_knn_unaltered_index.index[0], inplace = True)\n",
    "summary_knn_unaltered_index"
   ]
  },
  {
   "cell_type": "markdown",
   "metadata": {
    "id": "kOVMro2dWX3u"
   },
   "source": [
    "## Random under-sampling"
   ]
  },
  {
   "cell_type": "code",
   "execution_count": null,
   "metadata": {
    "execution": {
     "iopub.execute_input": "2021-08-07T17:38:45.842331Z",
     "iopub.status.busy": "2021-08-07T17:38:45.842043Z",
     "iopub.status.idle": "2021-08-07T17:38:50.206039Z",
     "shell.execute_reply": "2021-08-07T17:38:50.205044Z",
     "shell.execute_reply.started": "2021-08-07T17:38:45.842304Z"
    },
    "id": "0uzU2oM-WX3u",
    "outputId": "44b3941a-21a0-4786-efcd-a5844afb4f8e"
   },
   "outputs": [],
   "source": [
    "# Elements of confusion matrix\n",
    "\n",
    "classification(knn, X_train_under_scaled_minmax, y_train_under, X_test_scaled_minmax, y_test)\n",
    "\n",
    "# Summary of evaluation metrics\n",
    "\n",
    "summary_knn_under = summary\n",
    "summary_knn_under.set_index('Metric')\n",
    "\n",
    "y_pred_proba = knn.predict_proba(X_test)[::,1]\n",
    "roc_auc = metrics.roc_auc_score(y_test, y_pred_proba)\n",
    "\n",
    "summary_knn_under_extended = summary.copy()\n",
    "summary_knn_under_extended.loc[len(summary_knn_under_extended.index)] = ['ROC-AUC', roc_auc]\n",
    "summary_knn_under_extended.set_index('Metric')\n",
    "\n",
    "summary_knn_under_index = summary_knn_under_extended.T\n",
    "summary_knn_under_index.columns = summary_knn_under_index.iloc[0]\n",
    "summary_knn_under_index.drop(summary_knn_under_index.index[0], inplace = True)\n",
    "summary_knn_under_index"
   ]
  },
  {
   "cell_type": "markdown",
   "metadata": {
    "id": "XiBqV8H5oJb0"
   },
   "source": [
    "## Random over-sampling"
   ]
  },
  {
   "cell_type": "code",
   "execution_count": null,
   "metadata": {
    "execution": {
     "iopub.execute_input": "2021-08-07T17:38:50.207853Z",
     "iopub.status.busy": "2021-08-07T17:38:50.207447Z",
     "iopub.status.idle": "2021-08-07T17:40:58.393135Z",
     "shell.execute_reply": "2021-08-07T17:40:58.391958Z",
     "shell.execute_reply.started": "2021-08-07T17:38:50.207811Z"
    },
    "id": "SQmR2QnkoHKC",
    "outputId": "6d0fcc94-1573-4408-b697-ef23f0b912c2"
   },
   "outputs": [],
   "source": [
    "# Elements of confusion matrix\n",
    "\n",
    "classification(knn, X_train_over_scaled_minmax, y_train_over, X_test_scaled_minmax, y_test)\n",
    "\n",
    "# Summary of evaluation metrics\n",
    "\n",
    "summary_knn_over = summary\n",
    "summary_knn_over.set_index('Metric')\n",
    "\n",
    "y_pred_proba = knn.predict_proba(X_test)[::,1]\n",
    "roc_auc = metrics.roc_auc_score(y_test, y_pred_proba)\n",
    "\n",
    "summary_knn_over_extended = summary.copy()\n",
    "summary_knn_over_extended.loc[len(summary_knn_over_extended.index)] = ['ROC-AUC', roc_auc]\n",
    "summary_knn_over_extended.set_index('Metric')\n",
    "\n",
    "summary_knn_over_index = summary_knn_over_extended.T\n",
    "summary_knn_over_index.columns = summary_knn_over_index.iloc[0]\n",
    "summary_knn_over_index.drop(summary_knn_over_index.index[0], inplace = True)\n",
    "summary_knn_over_index"
   ]
  },
  {
   "cell_type": "markdown",
   "metadata": {
    "id": "6x-OiDOSWX3u"
   },
   "source": [
    "## Random under-sampling with imbalanced-learn library"
   ]
  },
  {
   "cell_type": "code",
   "execution_count": null,
   "metadata": {
    "execution": {
     "iopub.execute_input": "2021-08-07T17:40:58.394874Z",
     "iopub.status.busy": "2021-08-07T17:40:58.394591Z",
     "iopub.status.idle": "2021-08-07T17:41:02.662503Z",
     "shell.execute_reply": "2021-08-07T17:41:02.661516Z",
     "shell.execute_reply.started": "2021-08-07T17:40:58.394847Z"
    },
    "id": "j6jXIds1WX3u",
    "outputId": "6a10baf5-ce9b-4f95-9576-7528de85bc17"
   },
   "outputs": [],
   "source": [
    "# Elements of confusion matrix\n",
    "\n",
    "classification(knn, X_train_under_imblearn_scaled_minmax, y_train_under_imblearn, X_test_scaled_minmax, y_test)\n",
    "\n",
    "# Summary of evaluation metrics\n",
    "\n",
    "summary_knn_under_imblearn = summary\n",
    "summary_knn_under_imblearn.set_index('Metric')\n",
    "\n",
    "y_pred_proba = knn.predict_proba(X_test)[::,1]\n",
    "roc_auc = metrics.roc_auc_score(y_test, y_pred_proba)\n",
    "\n",
    "summary_knn_under_imblearn_extended = summary.copy()\n",
    "summary_knn_under_imblearn_extended.loc[len(summary_knn_under_imblearn_extended.index)] = ['ROC-AUC', roc_auc]\n",
    "summary_knn_under_imblearn_extended.set_index('Metric')\n",
    "\n",
    "summary_knn_under_imblearn_index = summary_knn_under_imblearn_extended.T\n",
    "summary_knn_under_imblearn_index.columns = summary_knn_under_imblearn_index.iloc[0]\n",
    "summary_knn_under_imblearn_index.drop(summary_knn_under_imblearn_index.index[0], inplace = True)\n",
    "summary_knn_under_imblearn_index"
   ]
  },
  {
   "cell_type": "markdown",
   "metadata": {
    "id": "RizRmqMDqZlw"
   },
   "source": [
    "## Random over-sampling with imbalanced-learn library"
   ]
  },
  {
   "cell_type": "code",
   "execution_count": null,
   "metadata": {
    "execution": {
     "iopub.execute_input": "2021-08-07T17:41:02.664363Z",
     "iopub.status.busy": "2021-08-07T17:41:02.663937Z",
     "iopub.status.idle": "2021-08-07T17:43:09.850134Z",
     "shell.execute_reply": "2021-08-07T17:43:09.849127Z",
     "shell.execute_reply.started": "2021-08-07T17:41:02.664308Z"
    },
    "id": "ojY8Dpg_qb1g",
    "outputId": "aaeba4e9-1711-496d-f7e5-cbdc6c46e46a"
   },
   "outputs": [],
   "source": [
    "# Elements of confusion matrix\n",
    "\n",
    "classification(knn, X_train_over_imblearn_scaled_minmax, y_train_over_imblearn, X_test_scaled_minmax, y_test)\n",
    "\n",
    "# Summary of evaluation metrics\n",
    "\n",
    "summary_knn_over_imblearn = summary\n",
    "summary_knn_over_imblearn.set_index('Metric')\n",
    "\n",
    "y_pred_proba = knn.predict_proba(X_test)[::,1]\n",
    "roc_auc = metrics.roc_auc_score(y_test, y_pred_proba)\n",
    "\n",
    "summary_knn_over_imblearn_extended = summary.copy()\n",
    "summary_knn_over_imblearn_extended.loc[len(summary_knn_over_imblearn_extended.index)] = ['ROC-AUC', roc_auc]\n",
    "summary_knn_over_imblearn_extended.set_index('Metric')\n",
    "\n",
    "summary_knn_over_imblearn_index = summary_knn_over_imblearn_extended.T\n",
    "summary_knn_over_imblearn_index.columns = summary_knn_over_imblearn_index.iloc[0]\n",
    "summary_knn_over_imblearn_index.drop(summary_knn_over_imblearn_index.index[0], inplace = True)\n",
    "summary_knn_over_imblearn_index"
   ]
  },
  {
   "cell_type": "markdown",
   "metadata": {
    "id": "xNopmYDHrXnT"
   },
   "source": [
    "## Synthetic minority over-sampling technique (SMOTE)"
   ]
  },
  {
   "cell_type": "code",
   "execution_count": null,
   "metadata": {
    "execution": {
     "iopub.execute_input": "2021-08-07T17:43:09.851713Z",
     "iopub.status.busy": "2021-08-07T17:43:09.851384Z",
     "iopub.status.idle": "2021-08-07T17:45:20.822884Z",
     "shell.execute_reply": "2021-08-07T17:45:20.821952Z",
     "shell.execute_reply.started": "2021-08-07T17:43:09.851682Z"
    },
    "id": "4bArBHEmrZvI",
    "outputId": "4ded1bcb-1d16-490a-e623-3a439f63114f"
   },
   "outputs": [],
   "source": [
    "# Elements of confusion matrix\n",
    "\n",
    "classification(knn, X_train_over_smote_scaled_minmax, y_train_over_smote, X_test_scaled_minmax, y_test)\n",
    "\n",
    "# Summary of evaluation metrics\n",
    "\n",
    "summary_knn_over_smote = summary\n",
    "summary_knn_over_smote.set_index('Metric')\n",
    "\n",
    "y_pred_proba = knn.predict_proba(X_test)[::,1]\n",
    "roc_auc = metrics.roc_auc_score(y_test, y_pred_proba)\n",
    "\n",
    "summary_knn_over_smote_extended = summary.copy()\n",
    "summary_knn_over_smote_extended.loc[len(summary_knn_over_smote_extended.index)] = ['ROC-AUC', roc_auc]\n",
    "summary_knn_over_smote_extended.set_index('Metric')\n",
    "\n",
    "summary_knn_over_smote_index = summary_knn_over_smote_extended.T\n",
    "summary_knn_over_smote_index.columns = summary_knn_over_smote_index.iloc[0]\n",
    "summary_knn_over_smote_index.drop(summary_knn_over_smote_index.index[0], inplace = True)\n",
    "summary_knn_over_smote_index"
   ]
  },
  {
   "cell_type": "markdown",
   "metadata": {
    "id": "Kh9kZFbpWX3u"
   },
   "source": [
    "## Under-sampling via NearMiss"
   ]
  },
  {
   "cell_type": "code",
   "execution_count": null,
   "metadata": {
    "execution": {
     "iopub.execute_input": "2021-08-07T17:45:20.824568Z",
     "iopub.status.busy": "2021-08-07T17:45:20.824223Z",
     "iopub.status.idle": "2021-08-07T17:45:25.187752Z",
     "shell.execute_reply": "2021-08-07T17:45:25.186863Z",
     "shell.execute_reply.started": "2021-08-07T17:45:20.824535Z"
    },
    "id": "lG5QkgVcWX3u",
    "outputId": "cad8fac1-b148-41b7-8310-b34197334b49"
   },
   "outputs": [],
   "source": [
    "# Elements of confusion matrix\n",
    "\n",
    "classification(knn, X_train_under_nm_scaled_minmax, y_train_under_nm, X_test_scaled_minmax, y_test)\n",
    "\n",
    "# Summary of evaluation metrics\n",
    "\n",
    "summary_knn_under_nm = summary\n",
    "summary_knn_under_nm.set_index('Metric')\n",
    "\n",
    "y_pred_proba = knn.predict_proba(X_test)[::,1]\n",
    "roc_auc = metrics.roc_auc_score(y_test, y_pred_proba)\n",
    "\n",
    "summary_knn_under_nm_extended = summary.copy()\n",
    "summary_knn_under_nm_extended.loc[len(summary_knn_under_nm_extended.index)] = ['ROC-AUC', roc_auc]\n",
    "summary_knn_under_nm_extended.set_index('Metric')\n",
    "\n",
    "summary_knn_under_nm_index = summary_knn_under_nm_extended.T\n",
    "summary_knn_under_nm_index.columns = summary_knn_under_nm_index.iloc[0]\n",
    "summary_knn_under_nm_index.drop(summary_knn_under_nm_index.index[0], inplace = True)\n",
    "summary_knn_under_nm_index"
   ]
  },
  {
   "cell_type": "markdown",
   "metadata": {
    "id": "65YFnkQKNRcd"
   },
   "source": [
    "## Summary of $k$-NN classification models"
   ]
  },
  {
   "cell_type": "code",
   "execution_count": null,
   "metadata": {
    "execution": {
     "iopub.execute_input": "2021-08-07T17:45:25.189003Z",
     "iopub.status.busy": "2021-08-07T17:45:25.188741Z",
     "iopub.status.idle": "2021-08-07T17:45:25.234707Z",
     "shell.execute_reply": "2021-08-07T17:45:25.233557Z",
     "shell.execute_reply.started": "2021-08-07T17:45:25.188978Z"
    },
    "id": "KWAHMYM9NXBX",
    "outputId": "52481ede-6aff-4766-b1e3-a027562f4581"
   },
   "outputs": [],
   "source": [
    "summary_knn = pd.DataFrame(columns = ['Metric'])\n",
    "\n",
    "summary_knn['Metric'] = EvalMetricLabels\n",
    "summary_knn_list = [summary_knn_unaltered, summary_knn_under, summary_knn_over, summary_knn_under_imblearn,\n",
    "                    summary_knn_over_imblearn, summary_knn_over_smote, summary_knn_under_nm]\n",
    "\n",
    "for i in summary_knn_list:\n",
    "    summary_knn = pd.merge(summary_knn, i, on = 'Metric')\n",
    "    \n",
    "TrainingSetsMetric = TrainingSets.copy()\n",
    "TrainingSetsMetric.insert(0, 'Metric')\n",
    "\n",
    "summary_knn.columns = TrainingSetsMetric\n",
    "summary_knn.set_index('Metric', inplace = True)\n",
    "summary_knn"
   ]
  },
  {
   "cell_type": "code",
   "execution_count": null,
   "metadata": {
    "execution": {
     "iopub.execute_input": "2021-08-07T17:45:25.237787Z",
     "iopub.status.busy": "2021-08-07T17:45:25.237472Z",
     "iopub.status.idle": "2021-08-07T17:45:25.357026Z",
     "shell.execute_reply": "2021-08-07T17:45:25.355876Z",
     "shell.execute_reply.started": "2021-08-07T17:45:25.237751Z"
    },
    "id": "UqCmH3guNYLG",
    "outputId": "60c6d8d5-ae2a-4080-c442-4fb8b87f0ace"
   },
   "outputs": [],
   "source": [
    "# Visual comparison of the model applied on different training sets through various evaluation metrics\n",
    "\n",
    "summary_visual(summary_knn)"
   ]
  },
  {
   "cell_type": "markdown",
   "metadata": {
    "id": "Q6huNmkQbWpI"
   },
   "source": [
    "**Note:** A potential issue with $k$-NN classification models, which is relevant in this project is that, they are affected by **curse of dimensionality**, as well as **presence of outliers in the feature variables**. Despite that, it performs fairly well when applied on the unaltered (imbalanced) training set, in particular with respect to **MCC**, but **F2-score** as well."
   ]
  },
  {
   "cell_type": "markdown",
   "metadata": {
    "id": "-4XTQ0LuWX3u"
   },
   "source": [
    "<a name='7.-Decision-Tree'></a>\n",
    "# 7. Decision Tree"
   ]
  },
  {
   "cell_type": "code",
   "execution_count": null,
   "metadata": {
    "execution": {
     "iopub.execute_input": "2021-08-07T17:45:25.358777Z",
     "iopub.status.busy": "2021-08-07T17:45:25.358348Z",
     "iopub.status.idle": "2021-08-07T17:45:25.363263Z",
     "shell.execute_reply": "2021-08-07T17:45:25.362102Z",
     "shell.execute_reply.started": "2021-08-07T17:45:25.358735Z"
    },
    "id": "efROW6POWX3v",
    "outputId": "61f11686-313a-484a-8a70-c937784713e8"
   },
   "outputs": [],
   "source": [
    "dt = DecisionTreeClassifier()"
   ]
  },
  {
   "cell_type": "markdown",
   "metadata": {
    "id": "DODSpQEbJapo"
   },
   "source": [
    "## Unaltered training set"
   ]
  },
  {
   "cell_type": "code",
   "execution_count": null,
   "metadata": {
    "execution": {
     "iopub.execute_input": "2021-08-07T17:45:25.364928Z",
     "iopub.status.busy": "2021-08-07T17:45:25.364648Z",
     "iopub.status.idle": "2021-08-07T17:45:45.330277Z",
     "shell.execute_reply": "2021-08-07T17:45:45.329375Z",
     "shell.execute_reply.started": "2021-08-07T17:45:25.364902Z"
    },
    "id": "7JlxBGh0WX3v",
    "outputId": "5ad4e934-06d5-4946-f5da-b60d31fd227a"
   },
   "outputs": [],
   "source": [
    "# Elements of confusion matrix\n",
    "\n",
    "classification(dt, X_train, y_train, X_test, y_test)\n",
    "\n",
    "# Summary of evaluation metrics\n",
    "\n",
    "summary_dt_unaltered = summary\n",
    "summary_dt_unaltered.set_index('Metric')\n",
    "\n",
    "y_pred_proba = dt.predict_proba(X_test)[::,1]\n",
    "roc_auc = metrics.roc_auc_score(y_test, y_pred_proba)\n",
    "\n",
    "summary_dt_unaltered_extended = summary.copy()\n",
    "summary_dt_unaltered_extended.loc[len(summary_dt_unaltered_extended.index)] = ['ROC-AUC', roc_auc]\n",
    "summary_dt_unaltered_extended.set_index('Metric')\n",
    "\n",
    "summary_dt_unaltered_index = summary_dt_unaltered_extended.T\n",
    "summary_dt_unaltered_index.columns = summary_dt_unaltered_index.iloc[0]\n",
    "summary_dt_unaltered_index.drop(summary_dt_unaltered_index.index[0], inplace = True)\n",
    "summary_dt_unaltered_index"
   ]
  },
  {
   "cell_type": "markdown",
   "metadata": {
    "id": "iq8B2N0hkASC"
   },
   "source": [
    "## Random under-sampling"
   ]
  },
  {
   "cell_type": "code",
   "execution_count": null,
   "metadata": {
    "execution": {
     "iopub.execute_input": "2021-08-07T17:45:45.331818Z",
     "iopub.status.busy": "2021-08-07T17:45:45.331501Z",
     "iopub.status.idle": "2021-08-07T17:45:45.859347Z",
     "shell.execute_reply": "2021-08-07T17:45:45.858267Z",
     "shell.execute_reply.started": "2021-08-07T17:45:45.331791Z"
    },
    "id": "xz0cwk__WX3v",
    "outputId": "107a460c-971d-47b7-bff6-94b330287674"
   },
   "outputs": [],
   "source": [
    "# Elements of confusion matrix\n",
    "\n",
    "classification(dt, X_train_under, y_train_under, X_test, y_test)\n",
    "\n",
    "# Summary of evaluation metrics\n",
    "\n",
    "summary_dt_under = summary\n",
    "summary_dt_under.set_index('Metric')\n",
    "\n",
    "y_pred_proba = dt.predict_proba(X_test)[::,1]\n",
    "roc_auc = metrics.roc_auc_score(y_test, y_pred_proba)\n",
    "\n",
    "summary_dt_under_extended = summary.copy()\n",
    "summary_dt_under_extended.loc[len(summary_dt_under_extended.index)] = ['ROC-AUC', roc_auc]\n",
    "summary_dt_under_extended.set_index('Metric')\n",
    "\n",
    "summary_dt_under_index = summary_dt_under_extended.T\n",
    "summary_dt_under_index.columns = summary_dt_under_index.iloc[0]\n",
    "summary_dt_under_index.drop(summary_dt_under_index.index[0], inplace = True)\n",
    "summary_dt_under_index"
   ]
  },
  {
   "cell_type": "markdown",
   "metadata": {
    "id": "y6geZ0mrkvL4"
   },
   "source": [
    "## Random over-sampling"
   ]
  },
  {
   "cell_type": "code",
   "execution_count": null,
   "metadata": {
    "execution": {
     "iopub.execute_input": "2021-08-07T17:45:45.86072Z",
     "iopub.status.busy": "2021-08-07T17:45:45.860435Z",
     "iopub.status.idle": "2021-08-07T17:46:01.018188Z",
     "shell.execute_reply": "2021-08-07T17:46:01.017107Z",
     "shell.execute_reply.started": "2021-08-07T17:45:45.860694Z"
    },
    "id": "otyyLVS2Q1rU",
    "outputId": "e93afdcc-d799-4f47-d8b1-613b1edb3bd6"
   },
   "outputs": [],
   "source": [
    "# Elements of confusion matrix\n",
    "\n",
    "classification(dt, X_train_over, y_train_over, X_test, y_test)\n",
    "\n",
    "# Summary of evaluation metrics\n",
    "\n",
    "summary_dt_over = summary\n",
    "summary_dt_over.set_index('Metric')\n",
    "\n",
    "y_pred_proba = dt.predict_proba(X_test)[::,1]\n",
    "roc_auc = metrics.roc_auc_score(y_test, y_pred_proba)\n",
    "\n",
    "summary_dt_over_extended = summary.copy()\n",
    "summary_dt_over_extended.loc[len(summary_dt_over_extended.index)] = ['ROC-AUC', roc_auc]\n",
    "summary_dt_over_extended.set_index('Metric')\n",
    "\n",
    "summary_dt_over_index = summary_dt_over_extended.T\n",
    "summary_dt_over_index.columns = summary_dt_over_index.iloc[0]\n",
    "summary_dt_over_index.drop(summary_dt_over_index.index[0], inplace = True)\n",
    "summary_dt_over_index"
   ]
  },
  {
   "cell_type": "markdown",
   "metadata": {
    "id": "S0tUPVCvlgc_"
   },
   "source": [
    "## Random under-sampling with imbalanced-learn library"
   ]
  },
  {
   "cell_type": "code",
   "execution_count": null,
   "metadata": {
    "execution": {
     "iopub.execute_input": "2021-08-07T17:46:01.020424Z",
     "iopub.status.busy": "2021-08-07T17:46:01.019948Z",
     "iopub.status.idle": "2021-08-07T17:46:01.521004Z",
     "shell.execute_reply": "2021-08-07T17:46:01.520033Z",
     "shell.execute_reply.started": "2021-08-07T17:46:01.020379Z"
    },
    "id": "ts3qdgQ9Q1uk",
    "outputId": "01ff122a-d010-4aab-b234-7740c537472a"
   },
   "outputs": [],
   "source": [
    "# Elements of confusion matrix\n",
    "\n",
    "classification(dt, X_train_under_imblearn, y_train_under_imblearn, X_test, y_test)\n",
    "\n",
    "# Summary of evaluation metrics\n",
    "\n",
    "summary_dt_under_imblearn = summary\n",
    "summary_dt_under_imblearn.set_index('Metric')\n",
    "\n",
    "y_pred_proba = dt.predict_proba(X_test)[::,1]\n",
    "roc_auc = metrics.roc_auc_score(y_test, y_pred_proba)\n",
    "\n",
    "summary_dt_under_imblearn_extended = summary.copy()\n",
    "summary_dt_under_imblearn_extended.loc[len(summary_dt_under_imblearn_extended.index)] = ['ROC-AUC', roc_auc]\n",
    "summary_dt_under_imblearn_extended.set_index('Metric')\n",
    "\n",
    "summary_dt_under_imblearn_index = summary_dt_under_imblearn_extended.T\n",
    "summary_dt_under_imblearn_index.columns = summary_dt_under_imblearn_index.iloc[0]\n",
    "summary_dt_under_imblearn_index.drop(summary_dt_under_imblearn_index.index[0], inplace = True)\n",
    "summary_dt_under_imblearn_index"
   ]
  },
  {
   "cell_type": "markdown",
   "metadata": {
    "id": "-fuf9mJXpKB_"
   },
   "source": [
    "## Random over-sampling with imbalanced-learn library"
   ]
  },
  {
   "cell_type": "code",
   "execution_count": null,
   "metadata": {
    "execution": {
     "iopub.execute_input": "2021-08-07T17:46:01.52243Z",
     "iopub.status.busy": "2021-08-07T17:46:01.522148Z",
     "iopub.status.idle": "2021-08-07T17:46:16.489124Z",
     "shell.execute_reply": "2021-08-07T17:46:16.488095Z",
     "shell.execute_reply.started": "2021-08-07T17:46:01.522403Z"
    },
    "id": "mH2e9s8VQ1w8",
    "outputId": "b7a7b682-00ef-4eb5-b324-554e50bf4780"
   },
   "outputs": [],
   "source": [
    "# Elements of confusion matrix\n",
    "\n",
    "classification(dt, X_train_over_imblearn, y_train_over_imblearn, X_test, y_test)\n",
    "\n",
    "# Summary of evaluation metrics\n",
    "\n",
    "summary_dt_over_imblearn = summary\n",
    "summary_dt_over_imblearn.set_index('Metric')\n",
    "\n",
    "y_pred_proba = dt.predict_proba(X_test)[::,1]\n",
    "roc_auc = metrics.roc_auc_score(y_test, y_pred_proba)\n",
    "\n",
    "summary_dt_over_imblearn_extended = summary.copy()\n",
    "summary_dt_over_imblearn_extended.loc[len(summary_dt_over_imblearn_extended.index)] = ['ROC-AUC', roc_auc]\n",
    "summary_dt_over_imblearn_extended.set_index('Metric')\n",
    "\n",
    "summary_dt_over_imblearn_index = summary_dt_over_imblearn_extended.T\n",
    "summary_dt_over_imblearn_index.columns = summary_dt_over_imblearn_index.iloc[0]\n",
    "summary_dt_over_imblearn_index.drop(summary_dt_over_imblearn_index.index[0], inplace = True)\n",
    "summary_dt_over_imblearn_index"
   ]
  },
  {
   "cell_type": "markdown",
   "metadata": {
    "id": "TMlQUH-bp-CX"
   },
   "source": [
    "## Synthetic minority over-sampling technique (SMOTE)"
   ]
  },
  {
   "cell_type": "code",
   "execution_count": null,
   "metadata": {
    "execution": {
     "iopub.execute_input": "2021-08-07T17:46:16.491232Z",
     "iopub.status.busy": "2021-08-07T17:46:16.4908Z",
     "iopub.status.idle": "2021-08-07T17:47:11.386613Z",
     "shell.execute_reply": "2021-08-07T17:47:11.385633Z",
     "shell.execute_reply.started": "2021-08-07T17:46:16.491188Z"
    },
    "id": "GWbfBv5xQ1zZ",
    "outputId": "1bf03db2-fa79-4ece-fab4-929442b47811"
   },
   "outputs": [],
   "source": [
    "# Elements of confusion matrix\n",
    "\n",
    "classification(dt, X_train_over_smote, y_train_over_smote, X_test, y_test)\n",
    "\n",
    "# Summary of evaluation metrics\n",
    "\n",
    "summary_dt_over_smote = summary\n",
    "summary_dt_over_smote.set_index('Metric')\n",
    "\n",
    "y_pred_proba = dt.predict_proba(X_test)[::,1]\n",
    "roc_auc = metrics.roc_auc_score(y_test, y_pred_proba)\n",
    "\n",
    "summary_dt_over_smote_extended = summary.copy()\n",
    "summary_dt_over_smote_extended.loc[len(summary_dt_over_smote_extended.index)] = ['ROC-AUC', roc_auc]\n",
    "summary_dt_over_smote_extended.set_index('Metric')\n",
    "\n",
    "summary_dt_over_smote_index = summary_dt_over_smote_extended.T\n",
    "summary_dt_over_smote_index.columns = summary_dt_over_smote_index.iloc[0]\n",
    "summary_dt_over_smote_index.drop(summary_dt_over_smote_index.index[0], inplace = True)\n",
    "summary_dt_over_smote_index"
   ]
  },
  {
   "cell_type": "markdown",
   "metadata": {
    "id": "P8gzXOQEqKod"
   },
   "source": [
    "## Under-sampling via NearMiss"
   ]
  },
  {
   "cell_type": "code",
   "execution_count": null,
   "metadata": {
    "execution": {
     "iopub.execute_input": "2021-08-07T17:47:11.388365Z",
     "iopub.status.busy": "2021-08-07T17:47:11.388016Z",
     "iopub.status.idle": "2021-08-07T17:47:11.89761Z",
     "shell.execute_reply": "2021-08-07T17:47:11.896686Z",
     "shell.execute_reply.started": "2021-08-07T17:47:11.388333Z"
    },
    "id": "Wmt52CddQ11m",
    "outputId": "367e7bd6-072b-4b2e-ffaf-4fb82f8c19e9"
   },
   "outputs": [],
   "source": [
    "# Elements of confusion matrix\n",
    "\n",
    "classification(dt, X_train_under_nm, y_train_under_nm, X_test, y_test)\n",
    "\n",
    "# Summary of evaluation metrics\n",
    "\n",
    "summary_dt_under_nm = summary\n",
    "summary_dt_under_nm.set_index('Metric')\n",
    "\n",
    "y_pred_proba = dt.predict_proba(X_test)[::,1]\n",
    "roc_auc = metrics.roc_auc_score(y_test, y_pred_proba)\n",
    "\n",
    "summary_dt_under_nm_extended = summary.copy()\n",
    "summary_dt_under_nm_extended.loc[len(summary_dt_under_nm_extended.index)] = ['ROC-AUC', roc_auc]\n",
    "summary_dt_under_nm_extended.set_index('Metric')\n",
    "\n",
    "summary_dt_under_nm_index = summary_dt_under_nm_extended.T\n",
    "summary_dt_under_nm_index.columns = summary_dt_under_nm_index.iloc[0]\n",
    "summary_dt_under_nm_index.drop(summary_dt_under_nm_index.index[0])\n",
    "summary_dt_under_nm_index"
   ]
  },
  {
   "cell_type": "markdown",
   "metadata": {
    "id": "fIP52BGzy6i9"
   },
   "source": [
    "## Summary of decision tree classification models"
   ]
  },
  {
   "cell_type": "code",
   "execution_count": null,
   "metadata": {
    "execution": {
     "iopub.execute_input": "2021-08-07T17:47:11.89908Z",
     "iopub.status.busy": "2021-08-07T17:47:11.898808Z",
     "iopub.status.idle": "2021-08-07T17:47:11.943856Z",
     "shell.execute_reply": "2021-08-07T17:47:11.942989Z",
     "shell.execute_reply.started": "2021-08-07T17:47:11.899054Z"
    },
    "id": "5RsZWZNmy6Dd",
    "outputId": "8415e8c8-75ef-40f7-9956-121289a0327a"
   },
   "outputs": [],
   "source": [
    "summary_dt = pd.DataFrame(columns = ['Metric'])\n",
    "\n",
    "EvalMetricLabels_dt = EvalMetricLabels\n",
    "summary_dt['Metric'] = EvalMetricLabels\n",
    "summary_dt_list = [summary_dt_unaltered, summary_dt_under, summary_dt_over, summary_dt_under_imblearn,\n",
    "                    summary_dt_over_imblearn, summary_dt_over_smote, summary_dt_under_nm]\n",
    "\n",
    "for i in summary_dt_list:\n",
    "    summary_dt = pd.merge(summary_dt, i, on = 'Metric')\n",
    "    \n",
    "TrainingSetsMetric = TrainingSets.copy()\n",
    "TrainingSetsMetric.insert(0, 'Metric')\n",
    "\n",
    "summary_dt.columns = TrainingSetsMetric\n",
    "summary_dt.set_index('Metric', inplace = True)\n",
    "summary_dt"
   ]
  },
  {
   "cell_type": "code",
   "execution_count": null,
   "metadata": {
    "execution": {
     "iopub.execute_input": "2021-08-07T17:47:11.945276Z",
     "iopub.status.busy": "2021-08-07T17:47:11.944999Z",
     "iopub.status.idle": "2021-08-07T17:47:12.065595Z",
     "shell.execute_reply": "2021-08-07T17:47:12.064698Z",
     "shell.execute_reply.started": "2021-08-07T17:47:11.94525Z"
    },
    "id": "PUEQAT1IQ16E",
    "outputId": "d4ce2fba-790c-4244-e8a2-31cd4fd1f0b9"
   },
   "outputs": [],
   "source": [
    "# Visual comparison of the model applied on different training sets through various evaluation metrics\n",
    "\n",
    "summary_visual(summary_dt)"
   ]
  },
  {
   "cell_type": "markdown",
   "metadata": {
    "id": "ZcKkiBehceAa"
   },
   "source": [
    "<a name='8.-SVM'></a>\n",
    "# 8. Support Vector Machine (SVM)"
   ]
  },
  {
   "cell_type": "code",
   "execution_count": null,
   "metadata": {
    "execution": {
     "iopub.execute_input": "2021-08-07T17:47:12.066983Z",
     "iopub.status.busy": "2021-08-07T17:47:12.066719Z",
     "iopub.status.idle": "2021-08-07T17:47:12.071091Z",
     "shell.execute_reply": "2021-08-07T17:47:12.070059Z",
     "shell.execute_reply.started": "2021-08-07T17:47:12.066957Z"
    },
    "id": "-JCvAyWuWX3v",
    "outputId": "3897a5f8-5487-49d4-8ce3-4abaa388f608"
   },
   "outputs": [],
   "source": [
    "svm_linear = svm.SVC(kernel = 'linear')"
   ]
  },
  {
   "cell_type": "markdown",
   "metadata": {
    "id": "r150_iOThsGx"
   },
   "source": [
    "## Unaltered training set"
   ]
  },
  {
   "cell_type": "code",
   "execution_count": null,
   "metadata": {
    "execution": {
     "iopub.execute_input": "2021-08-07T17:47:12.072771Z",
     "iopub.status.busy": "2021-08-07T17:47:12.072489Z",
     "iopub.status.idle": "2021-08-07T17:54:21.39731Z",
     "shell.execute_reply": "2021-08-07T17:54:21.396265Z",
     "shell.execute_reply.started": "2021-08-07T17:47:12.072736Z"
    },
    "id": "R4QhRgH2hwyE",
    "outputId": "ce78b35d-f77e-4093-c7f2-173a3446437f"
   },
   "outputs": [],
   "source": [
    "# Elements of confusion matrix\n",
    "\n",
    "classification(svm_linear, X_train_scaled_minmax, y_train, X_test_scaled_minmax, y_test)\n",
    "\n",
    "# Summary of evaluation metrics\n",
    "\n",
    "summary_svm_linear_unaltered = summary\n",
    "summary_svm_linear_unaltered.set_index('Metric')\n",
    "\n",
    "summary_svm_linear_unaltered_index = summary_svm_linear_unaltered.T\n",
    "summary_svm_linear_unaltered_index.columns = summary_svm_linear_unaltered_index.iloc[0]\n",
    "summary_svm_linear_unaltered_index.drop(summary_svm_linear_unaltered_index.index[0], inplace = True)\n",
    "summary_svm_linear_unaltered_index\n",
    "\n",
    "# classification(svm_linear, X_train, y_train, X_test, y_test) # TP = 37, FN = 75, TN = 56840, FP = 10"
   ]
  },
  {
   "cell_type": "markdown",
   "metadata": {
    "id": "4QWnqWpyxQuJ"
   },
   "source": [
    "## Random under-sampling"
   ]
  },
  {
   "cell_type": "code",
   "execution_count": null,
   "metadata": {
    "execution": {
     "iopub.execute_input": "2021-08-07T17:54:21.399243Z",
     "iopub.status.busy": "2021-08-07T17:54:21.39895Z",
     "iopub.status.idle": "2021-08-07T17:54:22.139394Z",
     "shell.execute_reply": "2021-08-07T17:54:22.138505Z",
     "shell.execute_reply.started": "2021-08-07T17:54:21.399215Z"
    },
    "id": "PAspzmSUxfPP",
    "outputId": "cd99c5f1-81f4-49ee-8070-bdf9184eda82"
   },
   "outputs": [],
   "source": [
    "# Elements of confusion matrix\n",
    "\n",
    "classification(svm_linear, X_train_under_scaled_minmax, y_train_under, X_test_scaled_minmax, y_test)\n",
    "\n",
    "# Summary of evaluation metrics\n",
    "\n",
    "summary_svm_linear_under = summary\n",
    "summary_svm_linear_under.set_index('Metric')\n",
    "\n",
    "summary_svm_linear_under_index = summary_svm_linear_under.T\n",
    "summary_svm_linear_under_index.columns = summary_svm_linear_under_index.iloc[0]\n",
    "summary_svm_linear_under_index.drop(summary_svm_linear_under_index.index[0], inplace = True)\n",
    "summary_svm_linear_under_index"
   ]
  },
  {
   "cell_type": "markdown",
   "metadata": {
    "id": "_Ck4pEb-xgmI"
   },
   "source": [
    "## Random over-sampling"
   ]
  },
  {
   "cell_type": "code",
   "execution_count": null,
   "metadata": {
    "execution": {
     "iopub.execute_input": "2021-08-07T17:54:22.140965Z",
     "iopub.status.busy": "2021-08-07T17:54:22.14068Z",
     "iopub.status.idle": "2021-08-07T18:47:22.360605Z",
     "shell.execute_reply": "2021-08-07T18:47:22.359513Z",
     "shell.execute_reply.started": "2021-08-07T17:54:22.140937Z"
    },
    "id": "bNQpJM--A_q9",
    "outputId": "1a7f220f-e90a-4658-b26f-c4a735618293"
   },
   "outputs": [],
   "source": [
    "# Elements of confusion matrix\n",
    "\n",
    "classification(svm_linear, X_train_over_scaled_minmax, y_train_over, X_test_scaled_minmax, y_test)\n",
    "\n",
    "# Summary of evaluation metrics\n",
    "\n",
    "summary_svm_linear_over = summary\n",
    "summary_svm_linear_over.set_index('Metric')\n",
    "\n",
    "summary_svm_linear_over_index = summary_svm_linear_over.T\n",
    "summary_svm_linear_over_index.columns = summary_svm_linear_over_index.iloc[0]\n",
    "summary_svm_linear_over_index.drop(summary_svm_linear_over_index.index[0], inplace = True)\n",
    "summary_svm_linear_over_index"
   ]
  },
  {
   "cell_type": "markdown",
   "metadata": {
    "id": "GWFdibWextJn"
   },
   "source": [
    "## Random under-sampling with imbalanced-learning library"
   ]
  },
  {
   "cell_type": "code",
   "execution_count": null,
   "metadata": {
    "execution": {
     "iopub.execute_input": "2021-08-07T18:47:22.362512Z",
     "iopub.status.busy": "2021-08-07T18:47:22.362094Z",
     "iopub.status.idle": "2021-08-07T18:47:23.097333Z",
     "shell.execute_reply": "2021-08-07T18:47:23.096299Z",
     "shell.execute_reply.started": "2021-08-07T18:47:22.362469Z"
    },
    "id": "MQxxq0tzxrAK",
    "outputId": "47738504-9312-4035-ac67-e147da9d75e2"
   },
   "outputs": [],
   "source": [
    "# Elements of confusion matrix\n",
    "\n",
    "classification(svm_linear, X_train_under_imblearn_scaled_minmax, y_train_under_imblearn, X_test_scaled_minmax, y_test)\n",
    "\n",
    "# Summary of evaluation metrics\n",
    "\n",
    "summary_svm_linear_under_imblearn = summary\n",
    "summary_svm_linear_under_imblearn.set_index('Metric')\n",
    "\n",
    "summary_svm_linear_under_imblearn_index = summary_svm_linear_under_imblearn.T\n",
    "summary_svm_linear_under_imblearn_index.columns = summary_svm_linear_under_imblearn_index.iloc[0]\n",
    "summary_svm_linear_under_imblearn_index.drop(summary_svm_linear_under_imblearn_index.index[0], inplace = True)\n",
    "summary_svm_linear_under_imblearn_index"
   ]
  },
  {
   "cell_type": "markdown",
   "metadata": {
    "id": "F0q3ZFluyh7t"
   },
   "source": [
    "## Random over-sampling with imbalanced-learning library"
   ]
  },
  {
   "cell_type": "code",
   "execution_count": null,
   "metadata": {
    "execution": {
     "iopub.execute_input": "2021-08-07T18:47:23.09875Z",
     "iopub.status.busy": "2021-08-07T18:47:23.098486Z",
     "iopub.status.idle": "2021-08-07T19:39:52.484609Z",
     "shell.execute_reply": "2021-08-07T19:39:52.483575Z",
     "shell.execute_reply.started": "2021-08-07T18:47:23.098724Z"
    },
    "id": "Fs9Vd8PkxrJ7",
    "outputId": "d8c78418-287a-47cf-9ee4-399cfc440fe7"
   },
   "outputs": [],
   "source": [
    "# Elements of confusion matrix\n",
    "\n",
    "classification(svm_linear, X_train_over_imblearn_scaled_minmax, y_train_over_imblearn, X_test_scaled_minmax, y_test)\n",
    "\n",
    "# Summary of evaluation metrics\n",
    "\n",
    "summary_svm_linear_over_imblearn = summary\n",
    "summary_svm_linear_over_imblearn.set_index('Metric')\n",
    "\n",
    "summary_svm_linear_over_imblearn_index = summary_svm_linear_over_imblearn.T\n",
    "summary_svm_linear_over_imblearn_index.columns = summary_svm_linear_over_imblearn_index.iloc[0]\n",
    "summary_svm_linear_over_imblearn_index.drop(summary_svm_linear_over_imblearn_index.index[0], inplace = True)\n",
    "summary_svm_linear_over_imblearn_index"
   ]
  },
  {
   "cell_type": "markdown",
   "metadata": {
    "id": "tnUf18VLzO4c"
   },
   "source": [
    "## Synthetic minority over-sampling technique (SMOTE)"
   ]
  },
  {
   "cell_type": "code",
   "execution_count": null,
   "metadata": {
    "execution": {
     "iopub.execute_input": "2021-08-07T19:39:52.486191Z",
     "iopub.status.busy": "2021-08-07T19:39:52.485879Z",
     "iopub.status.idle": "2021-08-07T20:00:27.292798Z",
     "shell.execute_reply": "2021-08-07T20:00:27.291758Z",
     "shell.execute_reply.started": "2021-08-07T19:39:52.486161Z"
    },
    "id": "Veu5-Ql6xrTL",
    "outputId": "a36af31f-550c-40ab-a91a-f35707bbc4df"
   },
   "outputs": [],
   "source": [
    "# Elements of confusion matrix\n",
    "\n",
    "classification(svm_linear, X_train_over_smote_scaled_minmax, y_train_over_smote, X_test_scaled_minmax, y_test)\n",
    "\n",
    "# Summary of evaluation metrics\n",
    "\n",
    "summary_svm_linear_over_smote = summary\n",
    "summary_svm_linear_over_smote.set_index('Metric')\n",
    "\n",
    "summary_svm_linear_over_smote_index = summary_svm_linear_over_smote.T\n",
    "summary_svm_linear_over_smote_index.columns = summary_svm_linear_over_smote_index.iloc[0]\n",
    "summary_svm_linear_over_smote_index.drop(summary_svm_linear_over_smote_index.index[0], inplace = True)\n",
    "summary_svm_linear_over_smote_index"
   ]
  },
  {
   "cell_type": "markdown",
   "metadata": {
    "id": "Ph3kMciwzrno"
   },
   "source": [
    "## Under-sampling via NearMiss"
   ]
  },
  {
   "cell_type": "code",
   "execution_count": null,
   "metadata": {
    "execution": {
     "iopub.execute_input": "2021-08-07T20:00:27.2945Z",
     "iopub.status.busy": "2021-08-07T20:00:27.294109Z",
     "iopub.status.idle": "2021-08-07T20:00:28.040128Z",
     "shell.execute_reply": "2021-08-07T20:00:28.039167Z",
     "shell.execute_reply.started": "2021-08-07T20:00:27.294438Z"
    },
    "id": "eUqXRKNrxrhO",
    "outputId": "d9fabf53-93c2-41c3-e23b-2c3022761ca4"
   },
   "outputs": [],
   "source": [
    "# Elements of confusion matrix\n",
    "\n",
    "classification(svm_linear, X_train_under_nm_scaled_minmax, y_train_under_nm, X_test_scaled_minmax, y_test)\n",
    "\n",
    "# Summary of evaluation metrics\n",
    "\n",
    "summary_svm_linear_under_nm = summary\n",
    "summary_svm_linear_under_nm.set_index('Metric')\n",
    "\n",
    "summary_svm_linear_under_nm_index = summary_svm_linear_under_nm.T\n",
    "summary_svm_linear_under_nm_index.columns = summary_svm_linear_under_nm_index.iloc[0]\n",
    "summary_svm_linear_under_nm_index.drop(summary_svm_linear_under_nm_index.index[0], inplace = True)\n",
    "summary_svm_linear_under_nm_index"
   ]
  },
  {
   "cell_type": "markdown",
   "metadata": {
    "id": "OjyaLpF30FDR"
   },
   "source": [
    "## Summary of linear SVM classification models"
   ]
  },
  {
   "cell_type": "code",
   "execution_count": null,
   "metadata": {
    "execution": {
     "iopub.execute_input": "2021-08-07T20:00:28.042084Z",
     "iopub.status.busy": "2021-08-07T20:00:28.041685Z",
     "iopub.status.idle": "2021-08-07T20:00:28.08783Z",
     "shell.execute_reply": "2021-08-07T20:00:28.086648Z",
     "shell.execute_reply.started": "2021-08-07T20:00:28.042043Z"
    },
    "id": "NosBke6UhXvx",
    "outputId": "323226ce-ad8a-4b9b-d784-3c1040eeb2d3"
   },
   "outputs": [],
   "source": [
    "summary_svm_linear = pd.DataFrame(columns = ['Metric'])\n",
    "\n",
    "summary_svm_linear['Metric'] = EvalMetricLabels\n",
    "summary_svm_linear_list = [summary_svm_linear_unaltered, summary_svm_linear_under, summary_svm_linear_over,\n",
    "                           summary_svm_linear_under_imblearn, summary_svm_linear_over_imblearn,\n",
    "                           summary_svm_linear_over_smote, summary_svm_linear_under_nm]\n",
    "\n",
    "for i in summary_svm_linear_list:\n",
    "    summary_svm_linear = pd.merge(summary_svm_linear, i, on = 'Metric')\n",
    "\n",
    "TrainingSetsMetric = TrainingSets.copy()\n",
    "TrainingSetsMetric.insert(0, 'Metric')\n",
    "\n",
    "summary_svm_linear.columns = TrainingSetsMetric\n",
    "summary_svm_linear.set_index('Metric', inplace = True)\n",
    "summary_svm_linear"
   ]
  },
  {
   "cell_type": "code",
   "execution_count": null,
   "metadata": {
    "execution": {
     "iopub.execute_input": "2021-08-07T20:00:28.089857Z",
     "iopub.status.busy": "2021-08-07T20:00:28.089415Z",
     "iopub.status.idle": "2021-08-07T20:00:28.331191Z",
     "shell.execute_reply": "2021-08-07T20:00:28.330049Z",
     "shell.execute_reply.started": "2021-08-07T20:00:28.089814Z"
    },
    "id": "IREU7327hYeh",
    "outputId": "4d1fe3e3-52ee-44d9-a589-c37537d6d95c"
   },
   "outputs": [],
   "source": [
    "# Visual comparison of the model applied on different training sets through various evaluation metrics\n",
    "\n",
    "summary_visual(summary_svm_linear)\n",
    "\n",
    "fig1 = make_subplots(rows = 4, cols = 2, shared_yaxes = True, subplot_titles = EvalMetricLabels)\n",
    "\n",
    "fig1.add_trace(go.Bar(x = list(summary_svm_linear.columns), y = list(summary_svm_linear.loc['MCC'])), 1, 1)\n",
    "fig1.add_trace(go.Bar(x = list(summary_svm_linear.columns), y = list(summary_svm_linear.loc['F1-Score'])), 1, 2)\n",
    "fig1.add_trace(go.Bar(x = list(summary_svm_linear.columns), y = list(summary_svm_linear.loc['F2-Score'])), 2, 1)\n",
    "fig1.add_trace(go.Bar(x = list(summary_svm_linear.columns), y = list(summary_svm_linear.loc['Recall'])), 2, 2)\n",
    "fig1.add_trace(go.Bar(x = list(summary_svm_linear.columns), y = list(summary_svm_linear.loc['Precision'])), 3, 1)\n",
    "fig1.add_trace(go.Bar(x = list(summary_svm_linear.columns), y = list(summary_svm_linear.loc['FM index'])), 3, 2)\n",
    "fig1.add_trace(go.Bar(x = list(summary_svm_linear.columns), y = list(summary_svm_linear.loc['Accuracy'])), 4, 1)\n",
    "fig1.add_trace(go.Bar(x = list(summary_svm_linear.columns), y = list(summary_svm_linear.loc['Specificity'])), 4, 2)\n",
    "\n",
    "fig1.update_layout(height = 2000, width = 800, coloraxis = dict(colorscale='Bluered_r'), showlegend = False)\n",
    "fig1.show()"
   ]
  },
  {
   "cell_type": "markdown",
   "metadata": {
    "id": "gjiDP_nBKSZu"
   },
   "source": [
    "<a name='9.-Naive-Bayes'></a>\n",
    "# 9. Naive Bayes"
   ]
  },
  {
   "cell_type": "code",
   "execution_count": null,
   "metadata": {
    "execution": {
     "iopub.execute_input": "2021-08-07T20:00:28.333241Z",
     "iopub.status.busy": "2021-08-07T20:00:28.332848Z",
     "iopub.status.idle": "2021-08-07T20:00:28.338102Z",
     "shell.execute_reply": "2021-08-07T20:00:28.337004Z",
     "shell.execute_reply.started": "2021-08-07T20:00:28.3332Z"
    },
    "id": "h_rZ1KgULMGM",
    "outputId": "41f912d6-922a-40ef-bcf9-6c19da80e10e"
   },
   "outputs": [],
   "source": [
    "nb = GaussianNB()"
   ]
  },
  {
   "cell_type": "markdown",
   "metadata": {
    "id": "NVCjAdPA7g5s"
   },
   "source": [
    "## Unaltered training set"
   ]
  },
  {
   "cell_type": "code",
   "execution_count": null,
   "metadata": {
    "execution": {
     "iopub.execute_input": "2021-08-07T20:00:28.340116Z",
     "iopub.status.busy": "2021-08-07T20:00:28.339799Z",
     "iopub.status.idle": "2021-08-07T20:00:29.032317Z",
     "shell.execute_reply": "2021-08-07T20:00:29.031434Z",
     "shell.execute_reply.started": "2021-08-07T20:00:28.340087Z"
    },
    "id": "l9i0Df2Q8NCJ",
    "outputId": "66a68e94-3add-4490-8d9d-d08892904336"
   },
   "outputs": [],
   "source": [
    "# Elements of confusion matrix\n",
    "\n",
    "classification(nb, X_train, y_train, X_test, y_test)\n",
    "\n",
    "# Summary of evaluation metrics\n",
    "\n",
    "summary_nb_unaltered = summary.copy()\n",
    "summary_nb_unaltered.set_index('Metric')\n",
    "\n",
    "y_pred_proba = nb.predict_proba(X_test)[::,1]\n",
    "roc_auc = metrics.roc_auc_score(y_test, y_pred_proba)\n",
    "\n",
    "summary_nb_unaltered_extended = summary.copy()\n",
    "summary_nb_unaltered_extended.loc[len(summary_nb_unaltered_extended.index)] = ['ROC-AUC', roc_auc]\n",
    "summary_nb_unaltered_extended.set_index('Metric')\n",
    "\n",
    "summary_nb_unaltered_index = summary_nb_unaltered_extended.T\n",
    "summary_nb_unaltered_index.columns = summary_nb_unaltered_index.iloc[0]\n",
    "summary_nb_unaltered_index.drop(summary_nb_unaltered_index.index[0], inplace = True)\n",
    "summary_nb_unaltered_index"
   ]
  },
  {
   "cell_type": "markdown",
   "metadata": {
    "id": "y-nvqzwg-omw"
   },
   "source": [
    "## Random under-sampling"
   ]
  },
  {
   "cell_type": "code",
   "execution_count": null,
   "metadata": {
    "execution": {
     "iopub.execute_input": "2021-08-07T20:00:29.041224Z",
     "iopub.status.busy": "2021-08-07T20:00:29.040904Z",
     "iopub.status.idle": "2021-08-07T20:00:29.562646Z",
     "shell.execute_reply": "2021-08-07T20:00:29.561547Z",
     "shell.execute_reply.started": "2021-08-07T20:00:29.041194Z"
    },
    "id": "9cEivDHM-tzR",
    "outputId": "11f92c80-229f-4268-c629-73c3f956535f"
   },
   "outputs": [],
   "source": [
    "# Elements of confusion matrix\n",
    "\n",
    "classification(nb, X_train_under, y_train_under, X_test, y_test)\n",
    "\n",
    "# Summary of evaluation metrics\n",
    "\n",
    "summary_nb_under = summary.copy()\n",
    "summary_nb_under.set_index('Metric')\n",
    "\n",
    "y_pred_proba = nb.predict_proba(X_test)[::,1]\n",
    "roc_auc = metrics.roc_auc_score(y_test, y_pred_proba)\n",
    "\n",
    "summary_nb_under_extended = summary.copy()\n",
    "summary_nb_under_extended.loc[len(summary_nb_under_extended.index)] = ['ROC-AUC', roc_auc]\n",
    "summary_nb_under_extended.set_index('Metric')\n",
    "\n",
    "summary_nb_under_index = summary_nb_under_extended.T\n",
    "summary_nb_under_index.columns = summary_nb_under_index.iloc[0]\n",
    "summary_nb_under_index.drop(summary_nb_under_index.index[0], inplace = True)\n",
    "summary_nb_under_index"
   ]
  },
  {
   "cell_type": "markdown",
   "metadata": {
    "id": "YrsPPkNhAok4"
   },
   "source": [
    "## Random over-sampling"
   ]
  },
  {
   "cell_type": "code",
   "execution_count": null,
   "metadata": {
    "execution": {
     "iopub.execute_input": "2021-08-07T20:00:29.565262Z",
     "iopub.status.busy": "2021-08-07T20:00:29.564948Z",
     "iopub.status.idle": "2021-08-07T20:00:30.448628Z",
     "shell.execute_reply": "2021-08-07T20:00:30.447494Z",
     "shell.execute_reply.started": "2021-08-07T20:00:29.565236Z"
    },
    "id": "O8xUFhcA-uP5",
    "outputId": "899f74a2-2fd4-41b7-c199-42303770ffd9"
   },
   "outputs": [],
   "source": [
    "# Elements of confusion matrix\n",
    "\n",
    "classification(nb, X_train_over, y_train_over, X_test, y_test)\n",
    "\n",
    "# Summary of evaluation metrics\n",
    "\n",
    "summary_nb_over = summary.copy()\n",
    "summary_nb_over.set_index('Metric')\n",
    "\n",
    "y_pred_proba = nb.predict_proba(X_test)[::,1]\n",
    "roc_auc = metrics.roc_auc_score(y_test, y_pred_proba)\n",
    "\n",
    "summary_nb_over_extended = summary.copy()\n",
    "summary_nb_over_extended.loc[len(summary_nb_over_extended.index)] = ['ROC-AUC', roc_auc]\n",
    "summary_nb_over_extended.set_index('Metric')\n",
    "\n",
    "summary_nb_over_index = summary_nb_over_extended.T\n",
    "summary_nb_over_index.columns = summary_nb_over_index.iloc[0]\n",
    "summary_nb_over_index.drop(summary_nb_over_index.index[0], inplace = True)\n",
    "summary_nb_over_index"
   ]
  },
  {
   "cell_type": "markdown",
   "metadata": {
    "id": "rdjiwBfUCypt"
   },
   "source": [
    "## Random under-sampling with imbalanced-learn library"
   ]
  },
  {
   "cell_type": "code",
   "execution_count": null,
   "metadata": {
    "execution": {
     "iopub.execute_input": "2021-08-07T20:00:30.450179Z",
     "iopub.status.busy": "2021-08-07T20:00:30.449875Z",
     "iopub.status.idle": "2021-08-07T20:00:30.973138Z",
     "shell.execute_reply": "2021-08-07T20:00:30.972131Z",
     "shell.execute_reply.started": "2021-08-07T20:00:30.45015Z"
    },
    "id": "P1x38Nue-vhY",
    "outputId": "f4240dc0-3123-4f2c-f6ee-ba414710fc3d"
   },
   "outputs": [],
   "source": [
    "# Elements of confusion matrix\n",
    "\n",
    "classification(nb, X_train_under_imblearn, y_train_under_imblearn, X_test, y_test)\n",
    "\n",
    "# Summary of evaluation metrics\n",
    "\n",
    "summary_nb_under_imblearn = summary.copy()\n",
    "summary_nb_under_imblearn.set_index('Metric')\n",
    "\n",
    "y_pred_proba = nb.predict_proba(X_test)[::,1]\n",
    "roc_auc = metrics.roc_auc_score(y_test, y_pred_proba)\n",
    "\n",
    "summary_nb_under_imblearn_extended = summary.copy()\n",
    "summary_nb_under_imblearn_extended.loc[len(summary_nb_under_imblearn_extended.index)] = ['ROC-AUC', roc_auc]\n",
    "summary_nb_under_imblearn_extended.set_index('Metric')\n",
    "\n",
    "summary_nb_under_imblearn_index = summary_nb_under_imblearn_extended.T\n",
    "summary_nb_under_imblearn_index.columns = summary_nb_under_imblearn_index.iloc[0]\n",
    "summary_nb_under_imblearn_index.drop(summary_nb_under_imblearn_index.index[0], inplace = True)\n",
    "summary_nb_under_imblearn_index"
   ]
  },
  {
   "cell_type": "markdown",
   "metadata": {
    "id": "6QXs7aagJfEJ"
   },
   "source": [
    "## Random over-sampling with imbalanced-learn library"
   ]
  },
  {
   "cell_type": "code",
   "execution_count": null,
   "metadata": {
    "execution": {
     "iopub.execute_input": "2021-08-07T20:00:30.975188Z",
     "iopub.status.busy": "2021-08-07T20:00:30.974777Z",
     "iopub.status.idle": "2021-08-07T20:00:31.705976Z",
     "shell.execute_reply": "2021-08-07T20:00:31.704797Z",
     "shell.execute_reply.started": "2021-08-07T20:00:30.975145Z"
    },
    "id": "jVr2Tb40J7ic",
    "outputId": "1db34e74-6771-4295-9a9d-88d900e2a455"
   },
   "outputs": [],
   "source": [
    "# Elements of confusion matrix\n",
    "\n",
    "classification(nb, X_train_over_imblearn, y_train_over_imblearn, X_test, y_test)\n",
    "\n",
    "# Summary of evaluation metrics\n",
    "\n",
    "summary_nb_over_imblearn = summary.copy()\n",
    "summary_nb_over_imblearn.set_index('Metric')\n",
    "\n",
    "y_pred_proba = nb.predict_proba(X_test)[::,1]\n",
    "roc_auc = metrics.roc_auc_score(y_test, y_pred_proba)\n",
    "\n",
    "summary_nb_over_imblearn_extended = summary.copy()\n",
    "summary_nb_over_imblearn_extended.loc[len(summary_nb_over_imblearn_extended.index)] = ['ROC-AUC', roc_auc]\n",
    "summary_nb_over_imblearn_extended.set_index('Metric')\n",
    "\n",
    "summary_nb_over_imblearn_index = summary_nb_over_imblearn_extended.T\n",
    "summary_nb_over_imblearn_index.columns = summary_nb_over_imblearn_index.iloc[0]\n",
    "summary_nb_over_imblearn_index.drop(summary_nb_over_imblearn_index.index[0], inplace = True)\n",
    "summary_nb_over_imblearn_index"
   ]
  },
  {
   "cell_type": "markdown",
   "metadata": {
    "id": "Iz2T-pPVMOB3"
   },
   "source": [
    "## Synthetic minority over-sampling technique (SMOTE)"
   ]
  },
  {
   "cell_type": "code",
   "execution_count": null,
   "metadata": {
    "execution": {
     "iopub.execute_input": "2021-08-07T20:00:31.707489Z",
     "iopub.status.busy": "2021-08-07T20:00:31.707182Z",
     "iopub.status.idle": "2021-08-07T20:00:32.409493Z",
     "shell.execute_reply": "2021-08-07T20:00:32.40858Z",
     "shell.execute_reply.started": "2021-08-07T20:00:31.707445Z"
    },
    "id": "Ax1CZTCE-vWr",
    "outputId": "be3a1e57-3134-4c1d-810c-e83ada191da1"
   },
   "outputs": [],
   "source": [
    "# Elements of confusion matrix\n",
    "\n",
    "classification(nb, X_train_over_smote, y_train_over_smote, X_test, y_test)\n",
    "\n",
    "# Summary of evaluation metrics\n",
    "\n",
    "summary_nb_over_smote = summary.copy()\n",
    "summary_nb_over_smote.set_index('Metric')\n",
    "\n",
    "y_pred_proba = nb.predict_proba(X_test)[::,1]\n",
    "roc_auc = metrics.roc_auc_score(y_test, y_pred_proba)\n",
    "\n",
    "summary_nb_over_smote_extended = summary.copy()\n",
    "summary_nb_over_smote_extended.loc[len(summary_nb_over_smote_extended.index)] = ['ROC-AUC', roc_auc]\n",
    "summary_nb_over_smote_extended.set_index('Metric')\n",
    "\n",
    "summary_nb_over_smote_index = summary_nb_over_smote_extended.T\n",
    "summary_nb_over_smote_index.columns = summary_nb_over_smote_index.iloc[0]\n",
    "summary_nb_over_smote_index.drop(summary_nb_over_smote_index.index[0], inplace = True)\n",
    "summary_nb_over_smote_index"
   ]
  },
  {
   "cell_type": "markdown",
   "metadata": {
    "id": "02mRCglMfPlf"
   },
   "source": [
    "## Under-sampling via NearMiss"
   ]
  },
  {
   "cell_type": "code",
   "execution_count": null,
   "metadata": {
    "execution": {
     "iopub.execute_input": "2021-08-07T20:00:32.411543Z",
     "iopub.status.busy": "2021-08-07T20:00:32.410927Z",
     "iopub.status.idle": "2021-08-07T20:00:32.92652Z",
     "shell.execute_reply": "2021-08-07T20:00:32.92557Z",
     "shell.execute_reply.started": "2021-08-07T20:00:32.411501Z"
    },
    "id": "lH-9iDoS-vCH",
    "outputId": "4de3e31b-2ce3-49ac-f82b-6fce37b005c8"
   },
   "outputs": [],
   "source": [
    "# Elements of confusion matrix\n",
    "\n",
    "classification(nb, X_train_under_nm, y_train_under_nm, X_test, y_test)\n",
    "\n",
    "# Summary of evaluation metrics\n",
    "\n",
    "summary_nb_under_nm = summary.copy()\n",
    "summary_nb_under_nm.set_index('Metric')\n",
    "\n",
    "y_pred_proba = nb.predict_proba(X_test)[::,1]\n",
    "roc_auc = metrics.roc_auc_score(y_test, y_pred_proba)\n",
    "\n",
    "summary_nb_under_nm_extended = summary.copy()\n",
    "summary_nb_under_nm_extended.loc[len(summary_nb_under_nm_extended.index)] = ['ROC-AUC', roc_auc]\n",
    "summary_nb_under_nm_extended.set_index('Metric')\n",
    "\n",
    "summary_nb_under_nm_index = summary_nb_under_nm_extended.T\n",
    "summary_nb_under_nm_index.columns = summary_nb_under_nm_index.iloc[0]\n",
    "summary_nb_under_nm_index.drop(summary_nb_under_nm_index.index[0], inplace = True)\n",
    "summary_nb_under_nm_index"
   ]
  },
  {
   "cell_type": "markdown",
   "metadata": {
    "id": "ywUxPlMClXGw"
   },
   "source": [
    "## Summary of naive Bayes models"
   ]
  },
  {
   "cell_type": "code",
   "execution_count": null,
   "metadata": {
    "execution": {
     "iopub.execute_input": "2021-08-07T20:00:32.928946Z",
     "iopub.status.busy": "2021-08-07T20:00:32.928382Z",
     "iopub.status.idle": "2021-08-07T20:00:32.976309Z",
     "shell.execute_reply": "2021-08-07T20:00:32.975507Z",
     "shell.execute_reply.started": "2021-08-07T20:00:32.928911Z"
    },
    "id": "K0XL2Yql-urU",
    "outputId": "f8fab684-a825-4dfe-85df-b33510514707"
   },
   "outputs": [],
   "source": [
    "summary_nb = pd.DataFrame(columns = ['Metric'])\n",
    "\n",
    "summary_nb['Metric'] = EvalMetricLabels\n",
    "summary_nb_list = [summary_nb_unaltered, summary_nb_under, summary_nb_over, summary_nb_under_imblearn,\n",
    "                       summary_nb_over_imblearn, summary_nb_over_smote, summary_nb_under_nm]\n",
    "\n",
    "for i in summary_nb_list:\n",
    "    summary_nb = pd.merge(summary_nb, i, on = 'Metric')\n",
    "    \n",
    "TrainingSetsMetric = TrainingSets.copy()\n",
    "TrainingSetsMetric.insert(0, 'Metric')\n",
    "\n",
    "summary_nb.columns = TrainingSetsMetric\n",
    "summary_nb.set_index('Metric', inplace = True)\n",
    "summary_nb"
   ]
  },
  {
   "cell_type": "code",
   "execution_count": null,
   "metadata": {
    "execution": {
     "iopub.execute_input": "2021-08-07T20:00:32.978014Z",
     "iopub.status.busy": "2021-08-07T20:00:32.977547Z",
     "iopub.status.idle": "2021-08-07T20:00:33.097653Z",
     "shell.execute_reply": "2021-08-07T20:00:33.096825Z",
     "shell.execute_reply.started": "2021-08-07T20:00:32.977982Z"
    },
    "id": "MvaU6yWNuSqB",
    "outputId": "2bdffa50-dbeb-45c5-c959-0840f7442efe"
   },
   "outputs": [],
   "source": [
    "# Visual comparison of the model applied on different training sets through various evaluation metrics\n",
    "\n",
    "summary_visual(summary_nb)"
   ]
  },
  {
   "cell_type": "markdown",
   "metadata": {
    "id": "SGOqAYNmLNPh"
   },
   "source": [
    "<a name='10.-Random-Forest'></a>\n",
    "# 10. Random Forest"
   ]
  },
  {
   "cell_type": "markdown",
   "metadata": {
    "id": "H2tph6Xh7RMZ"
   },
   "source": [
    "The Random Forest classifier employs multiple decision trees, thereby avoiding the reliance upon feature selection of a singular decision tree."
   ]
  },
  {
   "cell_type": "code",
   "execution_count": null,
   "metadata": {
    "execution": {
     "iopub.execute_input": "2021-08-07T20:00:33.099417Z",
     "iopub.status.busy": "2021-08-07T20:00:33.098914Z",
     "iopub.status.idle": "2021-08-07T20:00:33.103472Z",
     "shell.execute_reply": "2021-08-07T20:00:33.102534Z",
     "shell.execute_reply.started": "2021-08-07T20:00:33.099384Z"
    },
    "id": "wBcE4ITYLZhf",
    "outputId": "7d1c5ebd-6f13-4a65-db43-e6e8f0080bac"
   },
   "outputs": [],
   "source": [
    "rf = RandomForestClassifier(n_estimators = 100)"
   ]
  },
  {
   "cell_type": "markdown",
   "metadata": {
    "id": "4cIk9cjC4gMK"
   },
   "source": [
    "## Unaltered training set"
   ]
  },
  {
   "cell_type": "code",
   "execution_count": null,
   "metadata": {
    "execution": {
     "iopub.execute_input": "2021-08-07T20:00:33.104778Z",
     "iopub.status.busy": "2021-08-07T20:00:33.104506Z",
     "iopub.status.idle": "2021-08-07T20:04:37.569049Z",
     "shell.execute_reply": "2021-08-07T20:04:37.567925Z",
     "shell.execute_reply.started": "2021-08-07T20:00:33.104751Z"
    },
    "id": "KIKTrdWF4_cq",
    "outputId": "c7235982-09e5-4e0f-ba5e-9e2b3dd99552"
   },
   "outputs": [],
   "source": [
    "# Elements of confusion matrix\n",
    "\n",
    "classification(rf, X_train, y_train, X_test, y_test)\n",
    "\n",
    "# Summary of evaluation metrics\n",
    "\n",
    "summary_rf_unaltered = summary.copy()\n",
    "summary_rf_unaltered.set_index('Metric')\n",
    "\n",
    "y_pred_proba = rf.predict_proba(X_test)[::,1]\n",
    "roc_auc = metrics.roc_auc_score(y_test, y_pred_proba)\n",
    "\n",
    "summary_rf_unaltered_extended = summary.copy()\n",
    "summary_rf_unaltered_extended.loc[len(summary_rf_unaltered_extended.index)] = ['ROC-AUC', roc_auc]\n",
    "summary_rf_unaltered_extended.set_index('Metric')\n",
    "\n",
    "summary_rf_unaltered_index = summary_rf_unaltered_extended.T\n",
    "summary_rf_unaltered_index.columns = summary_rf_unaltered_index.iloc[0]\n",
    "summary_rf_unaltered_index.drop(summary_rf_unaltered_index.index[0], inplace = True)\n",
    "summary_rf_unaltered_index"
   ]
  },
  {
   "cell_type": "markdown",
   "metadata": {
    "id": "PTueSnH7FFlh"
   },
   "source": [
    "## Random under-sampling"
   ]
  },
  {
   "cell_type": "code",
   "execution_count": null,
   "metadata": {
    "execution": {
     "iopub.execute_input": "2021-08-07T20:04:37.57111Z",
     "iopub.status.busy": "2021-08-07T20:04:37.570692Z",
     "iopub.status.idle": "2021-08-07T20:04:39.299749Z",
     "shell.execute_reply": "2021-08-07T20:04:39.298556Z",
     "shell.execute_reply.started": "2021-08-07T20:04:37.571068Z"
    },
    "id": "lmkk-glMFLF8",
    "outputId": "da8f30df-c5b9-4316-c874-de03f0d364eb"
   },
   "outputs": [],
   "source": [
    "# Elements of confusion matrix\n",
    "\n",
    "classification(rf, X_train_under, y_train_under, X_test, y_test)\n",
    "\n",
    "# Summary of evaluation metrics\n",
    "\n",
    "summary_rf_under = summary.copy()\n",
    "summary_rf_under.set_index('Metric')\n",
    "\n",
    "y_pred_proba = rf.predict_proba(X_test)[::,1]\n",
    "roc_auc = metrics.roc_auc_score(y_test, y_pred_proba)\n",
    "\n",
    "summary_rf_under_extended = summary.copy()\n",
    "summary_rf_under_extended.loc[len(summary_rf_under_extended.index)] = ['ROC-AUC', roc_auc]\n",
    "summary_rf_under_extended.set_index('Metric')\n",
    "\n",
    "summary_rf_under_index = summary_rf_under_extended.T\n",
    "summary_rf_under_index.columns = summary_rf_under_index.iloc[0]\n",
    "summary_rf_under_index.drop(summary_rf_under_index.index[0], inplace = True)\n",
    "summary_rf_under_index"
   ]
  },
  {
   "cell_type": "markdown",
   "metadata": {
    "id": "XaVd2z89F6sL"
   },
   "source": [
    "## Random over-sampling"
   ]
  },
  {
   "cell_type": "code",
   "execution_count": null,
   "metadata": {
    "execution": {
     "iopub.execute_input": "2021-08-07T20:04:39.301558Z",
     "iopub.status.busy": "2021-08-07T20:04:39.301147Z",
     "iopub.status.idle": "2021-08-07T20:07:49.398866Z",
     "shell.execute_reply": "2021-08-07T20:07:49.397582Z",
     "shell.execute_reply.started": "2021-08-07T20:04:39.301525Z"
    },
    "id": "V4YI3wK_GAGr",
    "outputId": "dd445305-14b9-4cb4-f758-6919cc7ce43b"
   },
   "outputs": [],
   "source": [
    "# Elements of confusion matrix\n",
    "\n",
    "classification(rf, X_train_over, y_train_over, X_test, y_test)\n",
    "\n",
    "# Summary of evaluation metrics\n",
    "\n",
    "summary_rf_over = summary.copy()\n",
    "summary_rf_over.set_index('Metric')\n",
    "\n",
    "y_pred_proba = rf.predict_proba(X_test)[::,1]\n",
    "roc_auc = metrics.roc_auc_score(y_test, y_pred_proba)\n",
    "\n",
    "summary_rf_over_extended = summary.copy()\n",
    "summary_rf_over_extended.loc[len(summary_rf_over_extended.index)] = ['ROC-AUC', roc_auc]\n",
    "summary_rf_over_extended.set_index('Metric')\n",
    "\n",
    "summary_rf_over_index = summary_rf_over_extended.T\n",
    "summary_rf_over_index.columns = summary_rf_over_index.iloc[0]\n",
    "summary_rf_over_index.drop(summary_rf_over_index.index[0], inplace = True)\n",
    "summary_rf_over_index"
   ]
  },
  {
   "cell_type": "markdown",
   "metadata": {
    "id": "UQLSUgKzNeFB"
   },
   "source": [
    "## Random under-sampling with imbalanced-learn library"
   ]
  },
  {
   "cell_type": "code",
   "execution_count": null,
   "metadata": {
    "execution": {
     "iopub.execute_input": "2021-08-07T20:07:49.40065Z",
     "iopub.status.busy": "2021-08-07T20:07:49.400343Z",
     "iopub.status.idle": "2021-08-07T20:07:51.177158Z",
     "shell.execute_reply": "2021-08-07T20:07:51.176051Z",
     "shell.execute_reply.started": "2021-08-07T20:07:49.400621Z"
    },
    "id": "FYDhjA5jNnzg",
    "outputId": "31d4c220-d3fb-4369-ab64-f16deecf51e0"
   },
   "outputs": [],
   "source": [
    "# Elements of confusion matrix\n",
    "\n",
    "classification(rf, X_train_under_imblearn, y_train_under_imblearn, X_test, y_test)\n",
    "\n",
    "# Summary of evaluation metrics\n",
    "\n",
    "summary_rf_under_imblearn = summary.copy()\n",
    "summary_rf_under_imblearn.set_index('Metric')\n",
    "\n",
    "y_pred_proba = rf.predict_proba(X_test)[::,1]\n",
    "roc_auc = metrics.roc_auc_score(y_test, y_pred_proba)\n",
    "\n",
    "summary_rf_under_imblearn_extended = summary.copy()\n",
    "summary_rf_under_imblearn_extended.loc[len(summary_rf_under_imblearn_extended.index)] = ['ROC-AUC', roc_auc]\n",
    "summary_rf_under_imblearn_extended.set_index('Metric')\n",
    "\n",
    "summary_rf_under_imblearn_index = summary_rf_under_imblearn_extended.T\n",
    "summary_rf_under_imblearn_index.columns = summary_rf_under_imblearn_index.iloc[0]\n",
    "summary_rf_under_imblearn_index.drop(summary_rf_under_imblearn_index.index[0], inplace = True)\n",
    "summary_rf_under_imblearn_index"
   ]
  },
  {
   "cell_type": "markdown",
   "metadata": {
    "id": "lc17tm7kSLuN"
   },
   "source": [
    "## Random over-sampling with imbalanced-learn library"
   ]
  },
  {
   "cell_type": "code",
   "execution_count": null,
   "metadata": {
    "execution": {
     "iopub.execute_input": "2021-08-07T20:07:51.179694Z",
     "iopub.status.busy": "2021-08-07T20:07:51.179389Z",
     "iopub.status.idle": "2021-08-07T20:10:59.822438Z",
     "shell.execute_reply": "2021-08-07T20:10:59.821392Z",
     "shell.execute_reply.started": "2021-08-07T20:07:51.179667Z"
    },
    "id": "GP6QPlpKSP_y",
    "outputId": "b3fc8e08-fe7d-409d-971b-2261a70f249c"
   },
   "outputs": [],
   "source": [
    "# Elements of confusion matrix\n",
    "\n",
    "classification(rf, X_train_over_imblearn, y_train_over_imblearn, X_test, y_test)\n",
    "\n",
    "# Summary of evaluation metrics\n",
    "\n",
    "summary_rf_over_imblearn = summary.copy()\n",
    "summary_rf_over_imblearn.set_index('Metric')\n",
    "\n",
    "y_pred_proba = rf.predict_proba(X_test)[::,1]\n",
    "roc_auc = metrics.roc_auc_score(y_test, y_pred_proba)\n",
    "\n",
    "summary_rf_over_imblearn_extended = summary.copy()\n",
    "summary_rf_over_imblearn_extended.loc[len(summary_rf_over_imblearn_extended.index)] = ['ROC-AUC', roc_auc]\n",
    "summary_rf_over_imblearn_extended.set_index('Metric')\n",
    "\n",
    "summary_rf_over_imblearn_index = summary_rf_over_imblearn_extended.T\n",
    "summary_rf_over_imblearn_index.columns = summary_rf_over_imblearn_index.iloc[0]\n",
    "summary_rf_over_imblearn_index.drop(summary_rf_over_imblearn_index.index[0], inplace = True)\n",
    "summary_rf_over_imblearn_index"
   ]
  },
  {
   "cell_type": "markdown",
   "metadata": {
    "id": "fl9vfw9NVdl7"
   },
   "source": [
    "## Synthetic minority over-sampling technique (SMOTE)"
   ]
  },
  {
   "cell_type": "code",
   "execution_count": null,
   "metadata": {
    "execution": {
     "iopub.execute_input": "2021-08-07T20:10:59.823896Z",
     "iopub.status.busy": "2021-08-07T20:10:59.823617Z",
     "iopub.status.idle": "2021-08-07T20:18:13.74581Z",
     "shell.execute_reply": "2021-08-07T20:18:13.744796Z",
     "shell.execute_reply.started": "2021-08-07T20:10:59.82387Z"
    },
    "id": "dxEDZ0qsVwXj",
    "outputId": "1c35a236-c448-4cd1-912c-c9328a507758"
   },
   "outputs": [],
   "source": [
    "# Elements of confusion matrix\n",
    "\n",
    "classification(rf, X_train_over_smote, y_train_over_smote, X_test, y_test)\n",
    "\n",
    "# Summary of evaluation metrics\n",
    "\n",
    "summary_rf_over_smote = summary.copy()\n",
    "summary_rf_over_smote.set_index('Metric')\n",
    "\n",
    "y_pred_proba = rf.predict_proba(X_test)[::,1]\n",
    "roc_auc = metrics.roc_auc_score(y_test, y_pred_proba)\n",
    "\n",
    "summary_rf_over_smote_extended = summary.copy()\n",
    "summary_rf_over_smote_extended.loc[len(summary_rf_over_smote_extended.index)] = ['ROC-AUC', roc_auc]\n",
    "summary_rf_over_smote_extended.set_index('Metric')\n",
    "\n",
    "summary_rf_over_smote_index = summary_rf_over_smote_extended.T\n",
    "summary_rf_over_smote_index.columns = summary_rf_over_smote_index.iloc[0]\n",
    "summary_rf_over_smote_index.drop(summary_rf_over_smote_index.index[0], inplace = True)\n",
    "summary_rf_over_smote_index"
   ]
  },
  {
   "cell_type": "markdown",
   "metadata": {
    "id": "NmN910K3VkOI"
   },
   "source": [
    "## Under-sampling via NearMiss"
   ]
  },
  {
   "cell_type": "code",
   "execution_count": null,
   "metadata": {
    "execution": {
     "iopub.execute_input": "2021-08-07T20:18:13.747565Z",
     "iopub.status.busy": "2021-08-07T20:18:13.746996Z",
     "iopub.status.idle": "2021-08-07T20:18:15.455777Z",
     "shell.execute_reply": "2021-08-07T20:18:15.454482Z",
     "shell.execute_reply.started": "2021-08-07T20:18:13.747522Z"
    },
    "id": "VhwVvYTpVxOt",
    "outputId": "421836cc-1bb8-4ad6-dd3d-04c86af46e62"
   },
   "outputs": [],
   "source": [
    "# Elements of confusion matrix\n",
    "\n",
    "classification(rf, X_train_under_nm, y_train_under_nm, X_test, y_test)\n",
    "\n",
    "# Summary of evaluation metrics\n",
    "\n",
    "summary_rf_under_nm = summary.copy()\n",
    "summary_rf_under_nm.set_index('Metric')\n",
    "\n",
    "y_pred_proba = rf.predict_proba(X_test)[::,1]\n",
    "roc_auc = metrics.roc_auc_score(y_test, y_pred_proba)\n",
    "\n",
    "summary_rf_under_nm_extended = summary.copy()\n",
    "summary_rf_under_nm_extended.loc[len(summary_rf_under_nm_extended.index)] = ['ROC-AUC', roc_auc]\n",
    "summary_rf_under_nm_extended.set_index('Metric')\n",
    "\n",
    "summary_rf_under_nm_index = summary_rf_under_nm_extended.T\n",
    "summary_rf_under_nm_index.columns = summary_rf_under_nm_index.iloc[0]\n",
    "summary_rf_under_nm_index.drop(summary_rf_under_nm_index.index[0], inplace = True)\n",
    "summary_rf_under_nm_index"
   ]
  },
  {
   "cell_type": "markdown",
   "metadata": {
    "id": "dvtYJoXFVnm4"
   },
   "source": [
    "## Summary of random forest models"
   ]
  },
  {
   "cell_type": "code",
   "execution_count": null,
   "metadata": {
    "execution": {
     "iopub.execute_input": "2021-08-07T20:18:15.457289Z",
     "iopub.status.busy": "2021-08-07T20:18:15.457016Z",
     "iopub.status.idle": "2021-08-07T20:18:15.500475Z",
     "shell.execute_reply": "2021-08-07T20:18:15.499654Z",
     "shell.execute_reply.started": "2021-08-07T20:18:15.457263Z"
    },
    "id": "1PguLLJcVvAu",
    "outputId": "a530161d-ce51-4931-e939-d79497242269"
   },
   "outputs": [],
   "source": [
    "summary_rf = pd.DataFrame(columns = ['Metric'])\n",
    "\n",
    "summary_rf['Metric'] = EvalMetricLabels\n",
    "summary_rf_list = [summary_rf_unaltered, summary_rf_under, summary_rf_over, summary_rf_under_imblearn,\n",
    "                   summary_rf_over_imblearn, summary_rf_over_smote, summary_rf_under_nm]\n",
    "\n",
    "for i in summary_rf_list:\n",
    "    summary_rf = pd.merge(summary_rf, i, on = 'Metric')\n",
    "    \n",
    "TrainingSetsMetric = TrainingSets.copy()\n",
    "TrainingSetsMetric.insert(0, 'Metric')\n",
    "\n",
    "summary_rf.columns = TrainingSetsMetric\n",
    "summary_rf.set_index('Metric', inplace = True)\n",
    "summary_rf"
   ]
  },
  {
   "cell_type": "code",
   "execution_count": null,
   "metadata": {
    "execution": {
     "iopub.execute_input": "2021-08-07T20:18:15.501878Z",
     "iopub.status.busy": "2021-08-07T20:18:15.501591Z",
     "iopub.status.idle": "2021-08-07T20:18:15.623617Z",
     "shell.execute_reply": "2021-08-07T20:18:15.622532Z",
     "shell.execute_reply.started": "2021-08-07T20:18:15.501843Z"
    },
    "id": "b6u4vxQvVvZ6",
    "outputId": "4c4cb089-37e3-43a1-c90c-b57f2cd7bf24"
   },
   "outputs": [],
   "source": [
    "# Visual comparison of the model applied on different training sets through various evaluation metrics\n",
    "\n",
    "summary_visual(summary_rf)"
   ]
  },
  {
   "cell_type": "markdown",
   "metadata": {
    "id": "WN-9VsUnmzhr"
   },
   "source": [
    "<a name='11.-LDA'></a>\n",
    "# 11. Linear discriminant analysis (LDA)"
   ]
  },
  {
   "cell_type": "code",
   "execution_count": null,
   "metadata": {
    "execution": {
     "iopub.execute_input": "2021-08-07T20:18:15.625517Z",
     "iopub.status.busy": "2021-08-07T20:18:15.625118Z",
     "iopub.status.idle": "2021-08-07T20:18:15.631148Z",
     "shell.execute_reply": "2021-08-07T20:18:15.629183Z",
     "shell.execute_reply.started": "2021-08-07T20:18:15.625485Z"
    },
    "id": "soxTd99gm7_D",
    "outputId": "f2069d07-9505-44f7-b739-f1b58674641b"
   },
   "outputs": [],
   "source": [
    "lda = LinearDiscriminantAnalysis()"
   ]
  },
  {
   "cell_type": "markdown",
   "metadata": {
    "id": "OdoCRcJSm-_J"
   },
   "source": [
    "## Unaltered training set"
   ]
  },
  {
   "cell_type": "code",
   "execution_count": null,
   "metadata": {
    "execution": {
     "iopub.execute_input": "2021-08-07T20:18:15.632956Z",
     "iopub.status.busy": "2021-08-07T20:18:15.632632Z",
     "iopub.status.idle": "2021-08-07T20:18:17.325405Z",
     "shell.execute_reply": "2021-08-07T20:18:17.324354Z",
     "shell.execute_reply.started": "2021-08-07T20:18:15.632929Z"
    },
    "id": "bPZx2svinCvL",
    "outputId": "d2638236-92d6-4cc1-a39e-a93d70a08612"
   },
   "outputs": [],
   "source": [
    "# Elements of confusion matrix\n",
    "\n",
    "classification(lda, X_train, y_train, X_test, y_test)\n",
    "\n",
    "# Summary of evaluation metrics\n",
    "\n",
    "summary_lda_unaltered = summary.copy()\n",
    "summary_lda_unaltered.set_index('Metric')\n",
    "\n",
    "y_score = lda.decision_function(X_test)\n",
    "average_precision = average_precision_score(y_test, y_score)\n",
    "y_pred_proba = lda.predict_proba(X_test)[::,1]\n",
    "roc_auc = metrics.roc_auc_score(y_test, y_pred_proba)\n",
    "\n",
    "summary_lda_unaltered_extended = summary.copy()\n",
    "summary_lda_unaltered_extended.loc[len(summary_lda_unaltered_extended.index)] = ['AP', average_precision]\n",
    "summary_lda_unaltered_extended.loc[len(summary_lda_unaltered_extended.index)] = ['ROC-AUC', roc_auc]\n",
    "summary_lda_unaltered_extended.set_index('Metric')\n",
    "\n",
    "summary_lda_unaltered_index = summary_lda_unaltered_extended.T\n",
    "summary_lda_unaltered_index.columns = summary_lda_unaltered_index.iloc[0]\n",
    "summary_lda_unaltered_index.drop(summary_lda_unaltered_index.index[0], inplace = True)\n",
    "summary_lda_unaltered_index"
   ]
  },
  {
   "cell_type": "markdown",
   "metadata": {
    "id": "wEh44bKWtmSd"
   },
   "source": [
    "## Random under-sampling"
   ]
  },
  {
   "cell_type": "code",
   "execution_count": null,
   "metadata": {
    "execution": {
     "iopub.execute_input": "2021-08-07T20:18:17.333049Z",
     "iopub.status.busy": "2021-08-07T20:18:17.33042Z",
     "iopub.status.idle": "2021-08-07T20:18:17.999695Z",
     "shell.execute_reply": "2021-08-07T20:18:17.998548Z",
     "shell.execute_reply.started": "2021-08-07T20:18:17.332984Z"
    },
    "id": "-wWBadJHttJC",
    "outputId": "5447fadf-2454-4fc0-89d0-0f91c347fdf1"
   },
   "outputs": [],
   "source": [
    "# Elements of confusion matrix\n",
    "\n",
    "classification(lda, X_train_under, y_train_under, X_test, y_test)\n",
    "\n",
    "# Summary of evaluation metrics\n",
    "\n",
    "summary_lda_under = summary\n",
    "summary_lda_under.set_index('Metric')\n",
    "\n",
    "y_score = lda.decision_function(X_test)\n",
    "average_precision = average_precision_score(y_test, y_score)\n",
    "y_pred_proba = lda.predict_proba(X_test)[::,1]\n",
    "roc_auc = metrics.roc_auc_score(y_test, y_pred_proba)\n",
    "\n",
    "summary_lda_under_extended = summary.copy()\n",
    "summary_lda_under_extended.loc[len(summary_lda_under_extended.index)] = ['AP', average_precision]\n",
    "summary_lda_under_extended.loc[len(summary_lda_under_extended.index)] = ['ROC-AUC', roc_auc]\n",
    "summary_lda_under_extended.set_index('Metric')\n",
    "\n",
    "summary_lda_under_index = summary_lda_under_extended.T\n",
    "summary_lda_under_index.columns = summary_lda_under_index.iloc[0]\n",
    "summary_lda_under_index.drop(summary_lda_under_index.index[0], inplace = True)\n",
    "summary_lda_under_index"
   ]
  },
  {
   "cell_type": "markdown",
   "metadata": {
    "id": "2ffDXxA4Sh3Q"
   },
   "source": [
    "## Random over-sampling"
   ]
  },
  {
   "cell_type": "code",
   "execution_count": null,
   "metadata": {
    "execution": {
     "iopub.execute_input": "2021-08-07T20:18:18.001771Z",
     "iopub.status.busy": "2021-08-07T20:18:18.001169Z",
     "iopub.status.idle": "2021-08-07T20:18:20.854995Z",
     "shell.execute_reply": "2021-08-07T20:18:20.854011Z",
     "shell.execute_reply.started": "2021-08-07T20:18:18.001729Z"
    },
    "id": "tYCnKjfsSkyn",
    "outputId": "d44912a8-63ac-49d7-ef91-0fde7f29d65b"
   },
   "outputs": [],
   "source": [
    "# Elements of confusion matrix\n",
    "\n",
    "classification(lda, X_train_over, y_train_over, X_test, y_test)\n",
    "\n",
    "# Summary of evaluation metrics\n",
    "\n",
    "summary_lda_over = summary\n",
    "summary_lda_over.set_index('Metric')\n",
    "\n",
    "y_score = lda.decision_function(X_test)\n",
    "average_precision = average_precision_score(y_test, y_score)\n",
    "y_pred_proba = lda.predict_proba(X_test)[::,1]\n",
    "roc_auc = metrics.roc_auc_score(y_test, y_pred_proba)\n",
    "\n",
    "summary_lda_over_extended = summary.copy()\n",
    "summary_lda_over_extended.loc[len(summary_lda_over_extended.index)] = ['AP', average_precision]\n",
    "summary_lda_over_extended.loc[len(summary_lda_over_extended.index)] = ['ROC-AUC', roc_auc]\n",
    "summary_lda_over_extended.set_index('Metric')\n",
    "\n",
    "summary_lda_over_index = summary_lda_over_extended.T\n",
    "summary_lda_over_index.columns = summary_lda_over_index.iloc[0]\n",
    "summary_lda_over_index.drop(summary_lda_over_index.index[0], inplace = True)\n",
    "summary_lda_over_index"
   ]
  },
  {
   "cell_type": "markdown",
   "metadata": {
    "id": "S_dl-ilKSmQg"
   },
   "source": [
    "## Random under-sampling with imbalanced-learn library"
   ]
  },
  {
   "cell_type": "code",
   "execution_count": null,
   "metadata": {
    "execution": {
     "iopub.execute_input": "2021-08-07T20:18:20.857102Z",
     "iopub.status.busy": "2021-08-07T20:18:20.856552Z",
     "iopub.status.idle": "2021-08-07T20:18:21.479174Z",
     "shell.execute_reply": "2021-08-07T20:18:21.478173Z",
     "shell.execute_reply.started": "2021-08-07T20:18:20.85706Z"
    },
    "id": "c83dlrlfSrwR",
    "outputId": "28c4b629-b142-4265-efd5-5dd2ad435543"
   },
   "outputs": [],
   "source": [
    "# Elements of confusion matrix\n",
    "\n",
    "classification(lda, X_train_under_imblearn, y_train_under_imblearn, X_test, y_test)\n",
    "\n",
    "# Summary of evaluation metrics\n",
    "\n",
    "summary_lda_under_imblearn = summary\n",
    "summary_lda_under_imblearn.set_index('Metric')\n",
    "\n",
    "y_score = lda.decision_function(X_test)\n",
    "average_precision = average_precision_score(y_test, y_score)\n",
    "y_pred_proba = lda.predict_proba(X_test)[::,1]\n",
    "roc_auc = metrics.roc_auc_score(y_test, y_pred_proba)\n",
    "\n",
    "summary_lda_under_imblearn_extended = summary.copy()\n",
    "summary_lda_under_imblearn_extended.loc[len(summary_lda_under_imblearn_extended.index)] = ['AP', average_precision]\n",
    "summary_lda_under_imblearn_extended.loc[len(summary_lda_under_imblearn_extended.index)] = ['ROC-AUC', roc_auc]\n",
    "summary_lda_under_imblearn_extended.set_index('Metric')\n",
    "\n",
    "summary_lda_under_imblearn_index = summary_lda_under_imblearn_extended.T\n",
    "summary_lda_under_imblearn_index.columns = summary_lda_under_imblearn_index.iloc[0]\n",
    "summary_lda_under_imblearn_index.drop(summary_lda_under_imblearn_index.index[0], inplace = True)\n",
    "summary_lda_under_imblearn_index"
   ]
  },
  {
   "cell_type": "markdown",
   "metadata": {
    "id": "Rx--6FjgSsTI"
   },
   "source": [
    "## Random over-sampling with imbalanced-learn library"
   ]
  },
  {
   "cell_type": "code",
   "execution_count": null,
   "metadata": {
    "execution": {
     "iopub.execute_input": "2021-08-07T20:18:21.481378Z",
     "iopub.status.busy": "2021-08-07T20:18:21.48081Z",
     "iopub.status.idle": "2021-08-07T20:18:24.299595Z",
     "shell.execute_reply": "2021-08-07T20:18:24.298536Z",
     "shell.execute_reply.started": "2021-08-07T20:18:21.481334Z"
    },
    "id": "WmYHNrNlTb2r",
    "outputId": "89e8a9ad-8a42-4f75-d7f8-ebff255b467d"
   },
   "outputs": [],
   "source": [
    "# Elements of confusion matrix\n",
    "\n",
    "classification(lda, X_train_over_imblearn, y_train_over_imblearn, X_test, y_test)\n",
    "\n",
    "# Summary of evaluation metrics\n",
    "\n",
    "summary_lda_over_imblearn = summary\n",
    "summary_lda_over_imblearn.set_index('Metric')\n",
    "\n",
    "y_score = lda.decision_function(X_test)\n",
    "average_precision = average_precision_score(y_test, y_score)\n",
    "y_pred_proba = lda.predict_proba(X_test)[::,1]\n",
    "roc_auc = metrics.roc_auc_score(y_test, y_pred_proba)\n",
    "\n",
    "summary_lda_over_imblearn_extended = summary.copy()\n",
    "summary_lda_over_imblearn_extended.loc[len(summary_lda_over_imblearn_extended.index)] = ['AP', average_precision]\n",
    "summary_lda_over_imblearn_extended.loc[len(summary_lda_over_imblearn_extended.index)] = ['ROC-AUC', roc_auc]\n",
    "summary_lda_over_imblearn_extended.set_index('Metric')\n",
    "\n",
    "summary_lda_over_imblearn_index = summary_lda_over_imblearn_extended.T\n",
    "summary_lda_over_imblearn_index.columns = summary_lda_over_imblearn_index.iloc[0]\n",
    "summary_lda_over_imblearn_index.drop(summary_lda_over_imblearn_index.index[0], inplace = True)\n",
    "summary_lda_over_imblearn_index"
   ]
  },
  {
   "cell_type": "markdown",
   "metadata": {
    "id": "xN1UCfq-Uisg"
   },
   "source": [
    "## Synthetic minority over-sampling technique (SMOTE)"
   ]
  },
  {
   "cell_type": "code",
   "execution_count": null,
   "metadata": {
    "execution": {
     "iopub.execute_input": "2021-08-07T20:18:24.301992Z",
     "iopub.status.busy": "2021-08-07T20:18:24.301301Z",
     "iopub.status.idle": "2021-08-07T20:18:27.135405Z",
     "shell.execute_reply": "2021-08-07T20:18:27.134297Z",
     "shell.execute_reply.started": "2021-08-07T20:18:24.30195Z"
    },
    "id": "W5fHHtubUjt8",
    "outputId": "2cb957b6-d601-4691-917c-c4db11311813"
   },
   "outputs": [],
   "source": [
    "# Elements of confusion matrix\n",
    "\n",
    "classification(lda, X_train_over_smote, y_train_over_smote, X_test, y_test)\n",
    "\n",
    "# Summary of evaluation metrics\n",
    "\n",
    "summary_lda_over_smote = summary\n",
    "summary_lda_over_smote.set_index('Metric')\n",
    "\n",
    "y_score = lda.decision_function(X_test)\n",
    "average_precision = average_precision_score(y_test, y_score)\n",
    "y_pred_proba = lda.predict_proba(X_test)[::,1]\n",
    "roc_auc = metrics.roc_auc_score(y_test, y_pred_proba)\n",
    "\n",
    "summary_lda_over_smote_extended = summary.copy()\n",
    "summary_lda_over_smote_extended.loc[len(summary_lda_over_smote_extended.index)] = ['AP', average_precision]\n",
    "summary_lda_over_smote_extended.loc[len(summary_lda_over_smote_extended.index)] = ['ROC-AUC', roc_auc]\n",
    "summary_lda_over_smote_extended.set_index('Metric')\n",
    "\n",
    "summary_lda_over_smote_index = summary_lda_over_smote_extended.T\n",
    "summary_lda_over_smote_index.columns = summary_lda_over_smote_index.iloc[0]\n",
    "summary_lda_over_smote_index.drop(summary_lda_over_smote_index.index[0], inplace = True)\n",
    "summary_lda_over_smote_index"
   ]
  },
  {
   "cell_type": "markdown",
   "metadata": {
    "id": "NTL0l7NmUzbp"
   },
   "source": [
    "## Under-sampling via NearMiss"
   ]
  },
  {
   "cell_type": "code",
   "execution_count": null,
   "metadata": {
    "execution": {
     "iopub.execute_input": "2021-08-07T20:18:27.137633Z",
     "iopub.status.busy": "2021-08-07T20:18:27.136998Z",
     "iopub.status.idle": "2021-08-07T20:18:27.757727Z",
     "shell.execute_reply": "2021-08-07T20:18:27.756638Z",
     "shell.execute_reply.started": "2021-08-07T20:18:27.137592Z"
    },
    "id": "Vou-Jf6pU1HX",
    "outputId": "195dd5c5-380a-4145-b2c8-129a2fccb8c8"
   },
   "outputs": [],
   "source": [
    "# Elements of confusion matrix\n",
    "\n",
    "classification(lda, X_train_under_nm, y_train_under_nm, X_test, y_test)\n",
    "\n",
    "# Summary of evaluation metrics\n",
    "\n",
    "summary_lda_under_nm = summary\n",
    "summary_lda_under_nm.set_index('Metric')\n",
    "\n",
    "y_score = lda.decision_function(X_test)\n",
    "average_precision = average_precision_score(y_test, y_score)\n",
    "y_pred_proba = lda.predict_proba(X_test)[::,1]\n",
    "roc_auc = metrics.roc_auc_score(y_test, y_pred_proba)\n",
    "\n",
    "summary_lda_under_nm_extended = summary.copy()\n",
    "summary_lda_under_nm_extended.loc[len(summary_lda_under_nm_extended.index)] = ['AP', average_precision]\n",
    "summary_lda_under_nm_extended.loc[len(summary_lda_under_nm_extended.index)] = ['ROC-AUC', roc_auc]\n",
    "summary_lda_under_nm_extended.set_index('Metric')\n",
    "\n",
    "summary_lda_under_nm_index = summary_lda_under_nm_extended.T\n",
    "summary_lda_under_nm_index.columns = summary_lda_under_nm_index.iloc[0]\n",
    "summary_lda_under_nm_index.drop(summary_lda_under_nm_index.index[0], inplace = True)\n",
    "summary_lda_under_nm_index"
   ]
  },
  {
   "cell_type": "markdown",
   "metadata": {
    "id": "XxXSn3GdjpPM"
   },
   "source": [
    "## Summary of LDA models"
   ]
  },
  {
   "cell_type": "code",
   "execution_count": null,
   "metadata": {
    "execution": {
     "iopub.execute_input": "2021-08-07T20:18:27.765765Z",
     "iopub.status.busy": "2021-08-07T20:18:27.762919Z",
     "iopub.status.idle": "2021-08-07T20:18:27.826535Z",
     "shell.execute_reply": "2021-08-07T20:18:27.825574Z",
     "shell.execute_reply.started": "2021-08-07T20:18:27.7657Z"
    },
    "id": "mhCRYmLHkY0j",
    "outputId": "518e35a3-9d5d-46a3-ac6f-59513b581336"
   },
   "outputs": [],
   "source": [
    "summary_lda = pd.DataFrame(columns = ['Metric'])\n",
    "\n",
    "summary_lda['Metric'] = EvalMetricLabels\n",
    "summary_lda_list = [summary_lda_unaltered, summary_lda_under, summary_lda_over, summary_lda_under_imblearn,\n",
    "                    summary_lda_over_imblearn, summary_lda_over_smote, summary_lda_under_nm]\n",
    "\n",
    "for i in summary_lda_list:\n",
    "    summary_lda = pd.merge(summary_lda, i, on = 'Metric')\n",
    "    \n",
    "TrainingSetsMetric = TrainingSets.copy()\n",
    "TrainingSetsMetric.insert(0, 'Metric')\n",
    "\n",
    "summary_lda.columns = TrainingSetsMetric\n",
    "summary_lda.set_index('Metric', inplace = True)\n",
    "summary_lda"
   ]
  },
  {
   "cell_type": "code",
   "execution_count": null,
   "metadata": {
    "execution": {
     "iopub.execute_input": "2021-08-07T20:18:27.828344Z",
     "iopub.status.busy": "2021-08-07T20:18:27.827941Z",
     "iopub.status.idle": "2021-08-07T20:18:27.952092Z",
     "shell.execute_reply": "2021-08-07T20:18:27.951115Z",
     "shell.execute_reply.started": "2021-08-07T20:18:27.828303Z"
    },
    "id": "T3bH_s3Qkucr",
    "outputId": "ed4e0fd9-cdfc-4c78-db62-4b3ebb66b491"
   },
   "outputs": [],
   "source": [
    "# Visual comparison of the model applied on different training sets through various evaluation metrics\n",
    "\n",
    "summary_visual(summary_lda)"
   ]
  },
  {
   "cell_type": "markdown",
   "metadata": {
    "id": "r_ol3H63AYHY"
   },
   "source": [
    "<a name='12.-SGD'></a>\n",
    "# 12. Stochastic Gradient Descent (SGD)"
   ]
  },
  {
   "cell_type": "code",
   "execution_count": null,
   "metadata": {
    "execution": {
     "iopub.execute_input": "2021-08-07T20:18:27.953808Z",
     "iopub.status.busy": "2021-08-07T20:18:27.953505Z",
     "iopub.status.idle": "2021-08-07T20:18:27.958404Z",
     "shell.execute_reply": "2021-08-07T20:18:27.957342Z",
     "shell.execute_reply.started": "2021-08-07T20:18:27.953771Z"
    },
    "id": "nn_sn1YjAdxI",
    "outputId": "3947ff58-74d0-40a9-d1d6-c9a8aeea80a1"
   },
   "outputs": [],
   "source": [
    "sgd = SGDClassifier(loss = 'hinge')"
   ]
  },
  {
   "cell_type": "markdown",
   "metadata": {
    "id": "ltPNe5PoIqUx"
   },
   "source": [
    "## Unaltered training set"
   ]
  },
  {
   "cell_type": "code",
   "execution_count": null,
   "metadata": {
    "execution": {
     "iopub.execute_input": "2021-08-07T20:18:27.960015Z",
     "iopub.status.busy": "2021-08-07T20:18:27.959726Z",
     "iopub.status.idle": "2021-08-07T20:18:28.981002Z",
     "shell.execute_reply": "2021-08-07T20:18:28.979903Z",
     "shell.execute_reply.started": "2021-08-07T20:18:27.959986Z"
    },
    "id": "lglkVQjhI01E",
    "outputId": "b94e3927-e8d6-4640-f896-6f45912f9c2c"
   },
   "outputs": [],
   "source": [
    "# Elements of confusion matrix\n",
    "\n",
    "classification(sgd, X_train_scaled_minmax, y_train, X_test_scaled_minmax, y_test)\n",
    "\n",
    "# Summary of evaluation metrics\n",
    "\n",
    "summary_sgd_unaltered = summary.copy()\n",
    "summary_sgd_unaltered.set_index('Metric')\n",
    "\n",
    "y_score = sgd.decision_function(X_test)\n",
    "average_precision = average_precision_score(y_test, y_score)\n",
    "\n",
    "summary_sgd_unaltered_extended = summary.copy()\n",
    "summary_sgd_unaltered_extended.loc[len(summary_sgd_unaltered_extended.index)] = ['AP', average_precision]\n",
    "summary_sgd_unaltered_extended.set_index('Metric')\n",
    "\n",
    "summary_sgd_unaltered_index = summary_sgd_unaltered_extended.T\n",
    "summary_sgd_unaltered_index.columns = summary_sgd_unaltered_index.iloc[0]\n",
    "summary_sgd_unaltered_index.drop(summary_sgd_unaltered_index.index[0], inplace = True)\n",
    "summary_sgd_unaltered_index"
   ]
  },
  {
   "cell_type": "markdown",
   "metadata": {
    "id": "DuQ5fwCpSxut"
   },
   "source": [
    "## Random under-sampling"
   ]
  },
  {
   "cell_type": "code",
   "execution_count": null,
   "metadata": {
    "execution": {
     "iopub.execute_input": "2021-08-07T20:18:28.983221Z",
     "iopub.status.busy": "2021-08-07T20:18:28.982639Z",
     "iopub.status.idle": "2021-08-07T20:18:29.546906Z",
     "shell.execute_reply": "2021-08-07T20:18:29.54557Z",
     "shell.execute_reply.started": "2021-08-07T20:18:28.983176Z"
    },
    "id": "enzglarVSzIQ",
    "outputId": "89e9af65-1083-45a4-b343-7dac2f16dc6d"
   },
   "outputs": [],
   "source": [
    "# Elements of confusion matrix\n",
    "\n",
    "classification(sgd, X_train_under_scaled_minmax, y_train_under, X_test_scaled_minmax, y_test)\n",
    "\n",
    "# Summary of evaluation metrics\n",
    "\n",
    "summary_sgd_under = summary\n",
    "summary_sgd_under.set_index('Metric')\n",
    "\n",
    "y_score = sgd.decision_function(X_test)\n",
    "average_precision = average_precision_score(y_test, y_score)\n",
    "\n",
    "summary_sgd_under_extended = summary.copy()\n",
    "summary_sgd_under_extended.loc[len(summary_sgd_under_extended.index)] = ['AP', average_precision]\n",
    "summary_sgd_under_extended.set_index('Metric')\n",
    "\n",
    "summary_sgd_under_index = summary_sgd_under_extended.T\n",
    "summary_sgd_under_index.columns = summary_sgd_under_index.iloc[0]\n",
    "summary_sgd_under_index.drop(summary_sgd_under_index.index[0], inplace = True)\n",
    "summary_sgd_under_index"
   ]
  },
  {
   "cell_type": "markdown",
   "metadata": {
    "id": "Ik39iq7kTAE4"
   },
   "source": [
    "## Random over-sampling"
   ]
  },
  {
   "cell_type": "code",
   "execution_count": null,
   "metadata": {
    "execution": {
     "iopub.execute_input": "2021-08-07T20:18:29.549274Z",
     "iopub.status.busy": "2021-08-07T20:18:29.548616Z",
     "iopub.status.idle": "2021-08-07T20:18:31.25137Z",
     "shell.execute_reply": "2021-08-07T20:18:31.250195Z",
     "shell.execute_reply.started": "2021-08-07T20:18:29.549229Z"
    },
    "id": "RaE6Kb_WTCOA",
    "outputId": "d0825120-abce-45af-d7d5-79be92e24450"
   },
   "outputs": [],
   "source": [
    "# Elements of confusion matrix\n",
    "\n",
    "classification(sgd, X_train_over_scaled_minmax, y_train_over, X_test_scaled_minmax, y_test)\n",
    "\n",
    "# Summary of evaluation metrics\n",
    "\n",
    "summary_sgd_over = summary\n",
    "summary_sgd_over.set_index('Metric')\n",
    "\n",
    "y_score = sgd.decision_function(X_test)\n",
    "average_precision = average_precision_score(y_test, y_score)\n",
    "\n",
    "summary_sgd_over_extended = summary.copy()\n",
    "summary_sgd_over_extended.loc[len(summary_sgd_over_extended.index)] = ['AP', average_precision]\n",
    "summary_sgd_over_extended.set_index('Metric')\n",
    "\n",
    "summary_sgd_over_index = summary_sgd_over_extended.T\n",
    "summary_sgd_over_index.columns = summary_sgd_over_index.iloc[0]\n",
    "summary_sgd_over_index.drop(summary_sgd_over_index.index[0], inplace = True)\n",
    "summary_sgd_over_index"
   ]
  },
  {
   "cell_type": "markdown",
   "metadata": {
    "id": "lX3Zmi9nTJey"
   },
   "source": [
    "## Random under-sampling with imbalanced-learn library"
   ]
  },
  {
   "cell_type": "code",
   "execution_count": null,
   "metadata": {
    "execution": {
     "iopub.execute_input": "2021-08-07T20:18:31.253616Z",
     "iopub.status.busy": "2021-08-07T20:18:31.253134Z",
     "iopub.status.idle": "2021-08-07T20:18:31.820119Z",
     "shell.execute_reply": "2021-08-07T20:18:31.819009Z",
     "shell.execute_reply.started": "2021-08-07T20:18:31.253573Z"
    },
    "id": "hXNBBt6CTK1n",
    "outputId": "6f6d717a-b08f-4574-bf7e-90a47e8a9cad"
   },
   "outputs": [],
   "source": [
    "# Elements of confusion matrix\n",
    "\n",
    "classification(sgd, X_train_under_imblearn_scaled_minmax, y_train_under_imblearn, X_test_scaled_minmax, y_test)\n",
    "\n",
    "# Summary of evaluation metrics\n",
    "\n",
    "summary_sgd_under_imblearn = summary\n",
    "summary_sgd_under_imblearn.set_index('Metric')\n",
    "\n",
    "y_score = sgd.decision_function(X_test)\n",
    "average_precision = average_precision_score(y_test, y_score)\n",
    "\n",
    "summary_sgd_under_imblearn_extended = summary.copy()\n",
    "summary_sgd_under_imblearn_extended.loc[len(summary_sgd_under_imblearn_extended.index)] = ['AP', average_precision]\n",
    "summary_sgd_under_imblearn_extended.set_index('Metric')\n",
    "\n",
    "summary_sgd_under_imblearn_index = summary_sgd_under_imblearn_extended.T\n",
    "summary_sgd_under_imblearn_index.columns = summary_sgd_under_imblearn_index.iloc[0]\n",
    "summary_sgd_under_imblearn_index.drop(summary_sgd_under_imblearn_index.index[0], inplace = True)\n",
    "summary_sgd_under_imblearn_index"
   ]
  },
  {
   "cell_type": "markdown",
   "metadata": {
    "id": "qgzWZXOhTL_B"
   },
   "source": [
    "## Random over-sampling with imbalanced-learn library"
   ]
  },
  {
   "cell_type": "code",
   "execution_count": null,
   "metadata": {
    "execution": {
     "iopub.execute_input": "2021-08-07T20:18:31.822087Z",
     "iopub.status.busy": "2021-08-07T20:18:31.821679Z",
     "iopub.status.idle": "2021-08-07T20:18:33.546096Z",
     "shell.execute_reply": "2021-08-07T20:18:33.54502Z",
     "shell.execute_reply.started": "2021-08-07T20:18:31.822045Z"
    },
    "id": "VrTOmqiDTOOj",
    "outputId": "b248ac8e-857b-4461-ad41-637704219208"
   },
   "outputs": [],
   "source": [
    "# Elements of confusion matrix\n",
    "\n",
    "classification(sgd, X_train_over_imblearn_scaled_minmax, y_train_over_imblearn, X_test_scaled_minmax, y_test)\n",
    "\n",
    "# Summary of evaluation metrics\n",
    "\n",
    "summary_sgd_over_imblearn = summary\n",
    "summary_sgd_over_imblearn.set_index('Metric')\n",
    "\n",
    "y_score = sgd.decision_function(X_test)\n",
    "average_precision = average_precision_score(y_test, y_score)\n",
    "\n",
    "summary_sgd_over_imblearn_extended = summary.copy()\n",
    "summary_sgd_over_imblearn_extended.loc[len(summary_sgd_over_imblearn_extended.index)] = ['AP', average_precision]\n",
    "summary_sgd_over_imblearn_extended.set_index('Metric')\n",
    "\n",
    "summary_sgd_over_imblearn_index = summary_sgd_over_imblearn_extended.T\n",
    "summary_sgd_over_imblearn_index.columns = summary_sgd_over_imblearn_index.iloc[0]\n",
    "summary_sgd_over_imblearn_index.drop(summary_sgd_over_imblearn_index.index[0], inplace = True)\n",
    "summary_sgd_over_imblearn_index"
   ]
  },
  {
   "cell_type": "markdown",
   "metadata": {
    "id": "G5akor8vUmbH"
   },
   "source": [
    "## Synthetic minority over-sampling technique (SMOTE)"
   ]
  },
  {
   "cell_type": "code",
   "execution_count": null,
   "metadata": {
    "execution": {
     "iopub.execute_input": "2021-08-07T20:18:33.553947Z",
     "iopub.status.busy": "2021-08-07T20:18:33.551269Z",
     "iopub.status.idle": "2021-08-07T20:18:35.10461Z",
     "shell.execute_reply": "2021-08-07T20:18:35.103662Z",
     "shell.execute_reply.started": "2021-08-07T20:18:33.553892Z"
    },
    "id": "6LMaiUpUUnSE",
    "outputId": "474fe1bc-313d-4737-986c-3c2e4275c9e7"
   },
   "outputs": [],
   "source": [
    "# Elements of confusion matrix\n",
    "\n",
    "classification(sgd, X_train_over_smote_scaled_minmax, y_train_over_smote, X_test_scaled_minmax, y_test)\n",
    "\n",
    "# Summary of evaluation metrics\n",
    "\n",
    "summary_sgd_over_smote = summary\n",
    "summary_sgd_over_smote.set_index('Metric')\n",
    "\n",
    "y_score = sgd.decision_function(X_test)\n",
    "average_precision = average_precision_score(y_test, y_score)\n",
    "\n",
    "summary_sgd_over_smote_extended = summary.copy()\n",
    "summary_sgd_over_smote_extended.loc[len(summary_sgd_over_smote_extended.index)] = ['AP', average_precision]\n",
    "summary_sgd_over_smote_extended.set_index('Metric')\n",
    "\n",
    "summary_sgd_over_smote_index = summary_sgd_over_smote_extended.T\n",
    "summary_sgd_over_smote_index.columns = summary_sgd_over_smote_index.iloc[0]\n",
    "summary_sgd_over_smote_index.drop(summary_sgd_over_smote_index.index[0], inplace = True)\n",
    "summary_sgd_over_smote_index"
   ]
  },
  {
   "cell_type": "markdown",
   "metadata": {
    "id": "GGM_qPjmVK7u"
   },
   "source": [
    "## Under-sampling via NearMiss"
   ]
  },
  {
   "cell_type": "code",
   "execution_count": null,
   "metadata": {
    "execution": {
     "iopub.execute_input": "2021-08-07T20:18:35.106422Z",
     "iopub.status.busy": "2021-08-07T20:18:35.106026Z",
     "iopub.status.idle": "2021-08-07T20:18:35.882432Z",
     "shell.execute_reply": "2021-08-07T20:18:35.881261Z",
     "shell.execute_reply.started": "2021-08-07T20:18:35.106379Z"
    },
    "id": "TAW59wOoVL2z",
    "outputId": "e6938ee4-3190-47fe-fe11-1f1e16d98c99"
   },
   "outputs": [],
   "source": [
    "# Elements of confusion matrix\n",
    "\n",
    "classification(sgd, X_train_under_nm_scaled_minmax, y_train_under_nm, X_test_scaled_minmax, y_test)\n",
    "\n",
    "# Summary of evaluation metrics\n",
    "\n",
    "summary_sgd_under_nm = summary\n",
    "summary_sgd_under_nm.set_index('Metric')\n",
    "\n",
    "y_score = sgd.decision_function(X_test)\n",
    "average_precision = average_precision_score(y_test, y_score)\n",
    "\n",
    "summary_sgd_under_nm_extended = summary.copy()\n",
    "summary_sgd_under_nm_extended.loc[len(summary_sgd_under_nm_extended.index)] = ['AP', average_precision]\n",
    "summary_sgd_under_nm_extended.set_index('Metric')\n",
    "\n",
    "summary_sgd_under_nm_index = summary_sgd_under_nm_extended.T\n",
    "summary_sgd_under_nm_index.columns = summary_sgd_under_nm_index.iloc[0]\n",
    "summary_sgd_under_nm_index.drop(summary_sgd_under_nm_index.index[0], inplace = True)\n",
    "summary_sgd_under_nm_index"
   ]
  },
  {
   "cell_type": "markdown",
   "metadata": {
    "id": "jihKX3Y4kxvw"
   },
   "source": [
    "## Summary of SGD models"
   ]
  },
  {
   "cell_type": "code",
   "execution_count": null,
   "metadata": {
    "execution": {
     "iopub.execute_input": "2021-08-07T20:18:35.884724Z",
     "iopub.status.busy": "2021-08-07T20:18:35.884267Z",
     "iopub.status.idle": "2021-08-07T20:18:35.950628Z",
     "shell.execute_reply": "2021-08-07T20:18:35.949442Z",
     "shell.execute_reply.started": "2021-08-07T20:18:35.884678Z"
    },
    "id": "U3FAtk5akyT2",
    "outputId": "9a8b0761-8675-454f-a077-05798888f3eb"
   },
   "outputs": [],
   "source": [
    "summary_sgd = pd.DataFrame(columns = ['Metric'])\n",
    "\n",
    "summary_sgd['Metric'] = EvalMetricLabels\n",
    "summary_sgd_list = [summary_sgd_unaltered, summary_sgd_under, summary_sgd_over, summary_sgd_under_imblearn,\n",
    "                    summary_sgd_over_imblearn, summary_sgd_over_smote, summary_sgd_under_nm]\n",
    "\n",
    "for i in summary_sgd_list:\n",
    "    summary_sgd = pd.merge(summary_sgd, i, on = 'Metric')\n",
    "    \n",
    "TrainingSetsMetric = TrainingSets.copy()\n",
    "TrainingSetsMetric.insert(0, 'Metric')\n",
    "\n",
    "summary_sgd.columns = TrainingSetsMetric\n",
    "summary_sgd.set_index('Metric', inplace = True)\n",
    "summary_sgd"
   ]
  },
  {
   "cell_type": "code",
   "execution_count": null,
   "metadata": {
    "execution": {
     "iopub.execute_input": "2021-08-07T20:18:35.952166Z",
     "iopub.status.busy": "2021-08-07T20:18:35.951834Z",
     "iopub.status.idle": "2021-08-07T20:18:36.069348Z",
     "shell.execute_reply": "2021-08-07T20:18:36.068403Z",
     "shell.execute_reply.started": "2021-08-07T20:18:35.952131Z"
    },
    "id": "CaQDSSmdky04",
    "outputId": "b8d33507-dd53-4d24-ba30-220937dfe8e1"
   },
   "outputs": [],
   "source": [
    "# Visual comparison of the model applied on different training sets through various evaluation metrics\n",
    "\n",
    "summary_visual(summary_sgd)"
   ]
  },
  {
   "cell_type": "markdown",
   "metadata": {
    "id": "vxU2TCdXMp5d"
   },
   "source": [
    "<a name='13.-Ridge-Classifier'></a>\n",
    "# 13. Ridge Classifier"
   ]
  },
  {
   "cell_type": "code",
   "execution_count": null,
   "metadata": {
    "execution": {
     "iopub.execute_input": "2021-08-07T20:18:36.07094Z",
     "iopub.status.busy": "2021-08-07T20:18:36.070634Z",
     "iopub.status.idle": "2021-08-07T20:18:36.074564Z",
     "shell.execute_reply": "2021-08-07T20:18:36.073891Z",
     "shell.execute_reply.started": "2021-08-07T20:18:36.07091Z"
    },
    "id": "g4StjWNpM8Pt",
    "outputId": "f7b2543d-a189-41bb-f168-b96fb3f39f2f"
   },
   "outputs": [],
   "source": [
    "ridge = RidgeClassifier()"
   ]
  },
  {
   "cell_type": "markdown",
   "metadata": {
    "id": "D1DC0xx8caiI"
   },
   "source": [
    "We use normalised features as the ridge classifier employs $l^2$ regularization through an additive penalty term in the objective function."
   ]
  },
  {
   "cell_type": "markdown",
   "metadata": {
    "id": "vRXbI4SViIZB"
   },
   "source": [
    "## Unaltered training set"
   ]
  },
  {
   "cell_type": "code",
   "execution_count": null,
   "metadata": {
    "execution": {
     "iopub.execute_input": "2021-08-07T20:18:36.075952Z",
     "iopub.status.busy": "2021-08-07T20:18:36.075561Z",
     "iopub.status.idle": "2021-08-07T20:18:36.797349Z",
     "shell.execute_reply": "2021-08-07T20:18:36.796193Z",
     "shell.execute_reply.started": "2021-08-07T20:18:36.075924Z"
    },
    "id": "fpxzV5RyiL43",
    "outputId": "c1c539ba-6103-4cf9-f0d0-80bc849cd7b4"
   },
   "outputs": [],
   "source": [
    "# Elements of confusion matrix\n",
    "\n",
    "classification(ridge, X_train_scaled_minmax, y_train, X_test_scaled_minmax, y_test)\n",
    "\n",
    "# Summary of evaluation metrics\n",
    "\n",
    "summary_ridge_unaltered = summary.copy()\n",
    "summary_ridge_unaltered.set_index('Metric')\n",
    "\n",
    "y_score = ridge.decision_function(X_test)\n",
    "average_precision = average_precision_score(y_test, y_score)\n",
    "\n",
    "summary_ridge_unaltered_extended = summary.copy()\n",
    "summary_ridge_unaltered_extended.loc[len(summary_ridge_unaltered_extended.index)] = ['AP', average_precision]\n",
    "summary_ridge_unaltered_extended.set_index('Metric')\n",
    "\n",
    "summary_ridge_unaltered_index = summary_ridge_unaltered_extended.T\n",
    "summary_ridge_unaltered_index.columns = summary_ridge_unaltered_index.iloc[0]\n",
    "summary_ridge_unaltered_index.drop(summary_ridge_unaltered_index.index[0], inplace = True)\n",
    "summary_ridge_unaltered_index"
   ]
  },
  {
   "cell_type": "markdown",
   "metadata": {
    "id": "kFWdXRq6iH3v"
   },
   "source": [
    "## Random under-sampling"
   ]
  },
  {
   "cell_type": "code",
   "execution_count": null,
   "metadata": {
    "execution": {
     "iopub.execute_input": "2021-08-07T20:18:36.799567Z",
     "iopub.status.busy": "2021-08-07T20:18:36.79895Z",
     "iopub.status.idle": "2021-08-07T20:18:37.354746Z",
     "shell.execute_reply": "2021-08-07T20:18:37.353685Z",
     "shell.execute_reply.started": "2021-08-07T20:18:36.799521Z"
    },
    "id": "ipVh6h2dS33E",
    "outputId": "42ef21e5-a42e-4e38-d5f8-6c7c408b3516"
   },
   "outputs": [],
   "source": [
    "# Elements of confusion matrix\n",
    "\n",
    "classification(ridge, X_train_under_scaled_minmax, y_train_under, X_test_scaled_minmax, y_test)\n",
    "\n",
    "# Summary of evaluation metrics\n",
    "\n",
    "summary_ridge_under = summary.copy()\n",
    "summary_ridge_under.set_index('Metric')\n",
    "\n",
    "y_score = ridge.decision_function(X_test)\n",
    "average_precision = average_precision_score(y_test, y_score)\n",
    "\n",
    "summary_ridge_under_extended = summary.copy()\n",
    "summary_ridge_under_extended.loc[len(summary_ridge_under_extended.index)] = ['AP', average_precision]\n",
    "summary_ridge_under_extended.set_index('Metric')\n",
    "\n",
    "summary_ridge_under_index = summary_ridge_under_extended.T\n",
    "summary_ridge_under_index.columns = summary_ridge_under_index.iloc[0]\n",
    "summary_ridge_under_index.drop(summary_ridge_under_index.index[0], inplace = True)\n",
    "summary_ridge_under_index"
   ]
  },
  {
   "cell_type": "markdown",
   "metadata": {
    "id": "7b6DpSxLPStO"
   },
   "source": [
    "## Random over-sampling"
   ]
  },
  {
   "cell_type": "code",
   "execution_count": null,
   "metadata": {
    "execution": {
     "iopub.execute_input": "2021-08-07T20:18:37.36007Z",
     "iopub.status.busy": "2021-08-07T20:18:37.359446Z",
     "iopub.status.idle": "2021-08-07T20:18:38.374873Z",
     "shell.execute_reply": "2021-08-07T20:18:38.373857Z",
     "shell.execute_reply.started": "2021-08-07T20:18:37.360023Z"
    },
    "id": "PVP9kej7S67S",
    "outputId": "e38c8f72-ef86-49bb-9e2b-5582ee870a94"
   },
   "outputs": [],
   "source": [
    "# Elements of confusion matrix\n",
    "\n",
    "classification(ridge, X_train_over_scaled_minmax, y_train_over, X_test_scaled_minmax, y_test)\n",
    "\n",
    "# Summary of evaluation metrics\n",
    "\n",
    "summary_ridge_over = summary.copy()\n",
    "summary_ridge_over.set_index('Metric')\n",
    "\n",
    "y_score = ridge.decision_function(X_test)\n",
    "average_precision = average_precision_score(y_test, y_score)\n",
    "\n",
    "summary_ridge_over_extended = summary.copy()\n",
    "summary_ridge_over_extended.loc[len(summary_ridge_over_extended.index)] = ['AP', average_precision]\n",
    "summary_ridge_over_extended.set_index('Metric')\n",
    "\n",
    "summary_ridge_over_index = summary_ridge_over_extended.T\n",
    "summary_ridge_over_index.columns = summary_ridge_over_index.iloc[0]\n",
    "summary_ridge_over_index.drop(summary_ridge_over_index.index[0], inplace = True)\n",
    "summary_ridge_over_index"
   ]
  },
  {
   "cell_type": "markdown",
   "metadata": {
    "id": "jlOmtredTTwp"
   },
   "source": [
    "## Random under-sampling with imbalanced-learn library"
   ]
  },
  {
   "cell_type": "code",
   "execution_count": null,
   "metadata": {
    "execution": {
     "iopub.execute_input": "2021-08-07T20:18:38.377059Z",
     "iopub.status.busy": "2021-08-07T20:18:38.376476Z",
     "iopub.status.idle": "2021-08-07T20:18:38.888711Z",
     "shell.execute_reply": "2021-08-07T20:18:38.887591Z",
     "shell.execute_reply.started": "2021-08-07T20:18:38.377015Z"
    },
    "id": "Mwk2yu7bTU0z",
    "outputId": "dc7d9749-272f-45ee-cd10-059367313e69"
   },
   "outputs": [],
   "source": [
    "# Elements of confusion matrix\n",
    "\n",
    "classification(ridge, X_train_under_imblearn_scaled_minmax, y_train_under_imblearn, X_test_scaled_minmax, y_test)\n",
    "\n",
    "# Summary of evaluation metrics\n",
    "\n",
    "summary_ridge_under_imblearn = summary.copy()\n",
    "summary_ridge_under_imblearn.set_index('Metric')\n",
    "\n",
    "y_score = ridge.decision_function(X_test)\n",
    "average_precision = average_precision_score(y_test, y_score)\n",
    "\n",
    "summary_ridge_under_imblearn_extended = summary.copy()\n",
    "summary_ridge_under_imblearn_extended.loc[len(summary_ridge_under_imblearn_extended.index)] = ['AP', average_precision]\n",
    "summary_ridge_under_imblearn_extended.set_index('Metric')\n",
    "\n",
    "summary_ridge_under_imblearn_index = summary_ridge_under_imblearn_extended.T\n",
    "summary_ridge_under_imblearn_index.columns = summary_ridge_under_imblearn_index.iloc[0]\n",
    "summary_ridge_under_imblearn_index.drop(summary_ridge_under_imblearn_index.index[0], inplace = True)\n",
    "summary_ridge_under_imblearn_index"
   ]
  },
  {
   "cell_type": "markdown",
   "metadata": {
    "id": "dPoQyQuGTVS_"
   },
   "source": [
    "## Random over-sampling with imbalanced-learn library"
   ]
  },
  {
   "cell_type": "code",
   "execution_count": null,
   "metadata": {
    "execution": {
     "iopub.execute_input": "2021-08-07T20:18:38.896728Z",
     "iopub.status.busy": "2021-08-07T20:18:38.893957Z",
     "iopub.status.idle": "2021-08-07T20:18:39.940853Z",
     "shell.execute_reply": "2021-08-07T20:18:39.939582Z",
     "shell.execute_reply.started": "2021-08-07T20:18:38.896671Z"
    },
    "id": "JvsS8NNDTXru",
    "outputId": "04afdad8-93e0-4851-c8a2-936b1acd642b"
   },
   "outputs": [],
   "source": [
    "# Elements of confusion matrix\n",
    "\n",
    "classification(ridge, X_train_over_imblearn_scaled_minmax, y_train_over_imblearn, X_test_scaled_minmax, y_test)\n",
    "\n",
    "# Summary of evaluation metrics\n",
    "\n",
    "summary_ridge_over_imblearn = summary.copy()\n",
    "summary_ridge_over_imblearn.set_index('Metric')\n",
    "\n",
    "y_score = ridge.decision_function(X_test)\n",
    "average_precision = average_precision_score(y_test, y_score)\n",
    "\n",
    "summary_ridge_over_imblearn_extended = summary.copy()\n",
    "summary_ridge_over_imblearn_extended.loc[len(summary_ridge_over_imblearn_extended.index)] = ['AP', average_precision]\n",
    "summary_ridge_over_imblearn_extended.set_index('Metric')\n",
    "\n",
    "summary_ridge_over_imblearn_index = summary_ridge_over_imblearn_extended.T\n",
    "summary_ridge_over_imblearn_index.columns = summary_ridge_over_imblearn_index.iloc[0]\n",
    "summary_ridge_over_imblearn_index.drop(summary_ridge_over_imblearn_index.index[0], inplace = True)\n",
    "summary_ridge_over_imblearn_index"
   ]
  },
  {
   "cell_type": "markdown",
   "metadata": {
    "id": "WhSQ-e9IUpV5"
   },
   "source": [
    "## Synthetic minority over-sampling technique (SMOTE)"
   ]
  },
  {
   "cell_type": "code",
   "execution_count": null,
   "metadata": {
    "execution": {
     "iopub.execute_input": "2021-08-07T20:18:39.943022Z",
     "iopub.status.busy": "2021-08-07T20:18:39.942587Z",
     "iopub.status.idle": "2021-08-07T20:18:40.960032Z",
     "shell.execute_reply": "2021-08-07T20:18:40.957666Z",
     "shell.execute_reply.started": "2021-08-07T20:18:39.94298Z"
    },
    "id": "Jhk1tPmJUrOn",
    "outputId": "e11f96c4-d062-4e82-e807-e47723dded37"
   },
   "outputs": [],
   "source": [
    "# Elements of confusion matrix\n",
    "\n",
    "classification(ridge, X_train_over_smote_scaled_minmax, y_train_over_smote, X_test_scaled_minmax, y_test)\n",
    "\n",
    "# Summary of evaluation metrics\n",
    "\n",
    "summary_ridge_over_smote = summary.copy()\n",
    "summary_ridge_over_smote.set_index('Metric')\n",
    "\n",
    "y_score = ridge.decision_function(X_test)\n",
    "average_precision = average_precision_score(y_test, y_score)\n",
    "\n",
    "summary_ridge_over_smote_extended = summary.copy()\n",
    "summary_ridge_over_smote_extended.loc[len(summary_ridge_over_smote_extended.index)] = ['AP', average_precision]\n",
    "summary_ridge_over_smote_extended.set_index('Metric')\n",
    "\n",
    "summary_ridge_over_smote_index = summary_ridge_over_smote_extended.T\n",
    "summary_ridge_over_smote_index.columns = summary_ridge_over_smote_index.iloc[0]\n",
    "summary_ridge_over_smote_index.drop(summary_ridge_over_smote_index.index[0], inplace = True)\n",
    "summary_ridge_over_smote_index"
   ]
  },
  {
   "cell_type": "markdown",
   "metadata": {
    "id": "qKQFVe77VNtc"
   },
   "source": [
    "## Under-sampling via NearMiss"
   ]
  },
  {
   "cell_type": "code",
   "execution_count": null,
   "metadata": {
    "execution": {
     "iopub.execute_input": "2021-08-07T20:18:40.962197Z",
     "iopub.status.busy": "2021-08-07T20:18:40.961725Z",
     "iopub.status.idle": "2021-08-07T20:18:41.514751Z",
     "shell.execute_reply": "2021-08-07T20:18:41.513651Z",
     "shell.execute_reply.started": "2021-08-07T20:18:40.962153Z"
    },
    "id": "gGj0RG23VOnw",
    "outputId": "b59266fc-09ff-4455-ebe5-79ee42e3c365"
   },
   "outputs": [],
   "source": [
    "# Elements of confusion matrix\n",
    "\n",
    "classification(ridge, X_train_under_nm_scaled_minmax, y_train_under_nm, X_test_scaled_minmax, y_test)\n",
    "\n",
    "# Summary of evaluation metrics\n",
    "\n",
    "summary_ridge_under_nm = summary.copy()\n",
    "summary_ridge_under_nm.set_index('Metric')\n",
    "\n",
    "y_score = ridge.decision_function(X_test)\n",
    "average_precision = average_precision_score(y_test, y_score)\n",
    "\n",
    "summary_ridge_under_nm_extended = summary.copy()\n",
    "summary_ridge_under_nm_extended.loc[len(summary_ridge_under_nm_extended.index)] = ['AP', average_precision]\n",
    "summary_ridge_under_nm_extended.set_index('Metric')\n",
    "\n",
    "summary_ridge_under_nm_index = summary_ridge_under_nm_extended.T\n",
    "summary_ridge_under_nm_index.columns = summary_ridge_under_nm_index.iloc[0]\n",
    "summary_ridge_under_nm_index.drop(summary_ridge_under_nm_index.index[0], inplace = True)\n",
    "summary_ridge_under_nm_index"
   ]
  },
  {
   "cell_type": "markdown",
   "metadata": {
    "id": "zKsjPzhPk2KT"
   },
   "source": [
    "## Summary of ridge classifiers"
   ]
  },
  {
   "cell_type": "code",
   "execution_count": null,
   "metadata": {
    "execution": {
     "iopub.execute_input": "2021-08-07T20:18:41.517177Z",
     "iopub.status.busy": "2021-08-07T20:18:41.51647Z",
     "iopub.status.idle": "2021-08-07T20:18:41.582879Z",
     "shell.execute_reply": "2021-08-07T20:18:41.582012Z",
     "shell.execute_reply.started": "2021-08-07T20:18:41.517101Z"
    },
    "id": "lhWkr5Tbk2sd",
    "outputId": "52895e18-7055-4c4c-96ea-b51384c2f51d"
   },
   "outputs": [],
   "source": [
    "summary_ridge = pd.DataFrame(columns = ['Metric'])\n",
    "\n",
    "summary_ridge['Metric'] = EvalMetricLabels\n",
    "summary_ridge_list = [summary_ridge_unaltered, summary_ridge_under, summary_ridge_over, summary_ridge_under_imblearn,\n",
    "                      summary_ridge_over_imblearn, summary_ridge_over_smote, summary_ridge_under_nm]\n",
    "\n",
    "for i in summary_ridge_list:\n",
    "    summary_ridge = pd.merge(summary_ridge, i, on = 'Metric')\n",
    "    \n",
    "TrainingSetsMetric = TrainingSets.copy()\n",
    "TrainingSetsMetric.insert(0, 'Metric')\n",
    "\n",
    "summary_ridge.columns = TrainingSetsMetric\n",
    "summary_ridge.set_index('Metric', inplace = True)\n",
    "summary_ridge"
   ]
  },
  {
   "cell_type": "code",
   "execution_count": null,
   "metadata": {
    "execution": {
     "iopub.execute_input": "2021-08-07T20:18:41.584651Z",
     "iopub.status.busy": "2021-08-07T20:18:41.584141Z",
     "iopub.status.idle": "2021-08-07T20:18:41.703867Z",
     "shell.execute_reply": "2021-08-07T20:18:41.702953Z",
     "shell.execute_reply.started": "2021-08-07T20:18:41.584619Z"
    },
    "id": "XHyuRdhKk3I9",
    "outputId": "79df4026-47e6-48fb-c534-a97bd47cc1d8"
   },
   "outputs": [],
   "source": [
    "# Visual comparison of the model applied on different training sets through various evaluation metrics\n",
    "\n",
    "summary_visual(summary_ridge)"
   ]
  },
  {
   "cell_type": "markdown",
   "metadata": {
    "id": "SQ3a3KNkLbZV"
   },
   "source": [
    "<a name='14.-Conclusion'></a>\n",
    "# 14. Conclusion"
   ]
  },
  {
   "cell_type": "markdown",
   "metadata": {
    "id": "y-YUU3mrLvgE"
   },
   "source": [
    "We choose the training set for each model on which it performs best and tabulate their performance in terms of **F2-Score**, which considers the facts that the dataset is imbalanced, the positive class (fraudulent transactions) is more important than the negative class (authentic transactions) and also that false negatives are more costly than false positives. Additionally, we report **MCC** (captures all-round performance across classes) and **Recall** (focuses only on the crucial postive class)."
   ]
  },
  {
   "cell_type": "code",
   "execution_count": null,
   "metadata": {
    "execution": {
     "iopub.execute_input": "2021-08-07T20:18:41.705481Z",
     "iopub.status.busy": "2021-08-07T20:18:41.705Z",
     "iopub.status.idle": "2021-08-07T20:18:41.731587Z",
     "shell.execute_reply": "2021-08-07T20:18:41.730586Z",
     "shell.execute_reply.started": "2021-08-07T20:18:41.705419Z"
    },
    "id": "JpVebtZdwR-v",
    "outputId": "5d5c4240-d77f-4e95-a43e-f38cb354b3f9"
   },
   "outputs": [],
   "source": [
    "# Comparison of classification models\n",
    "\n",
    "\"\"\"\n",
    "In the final table, models are sorted in decreasing order of their performance on the testing set, measured in F2-Score\n",
    "\n",
    "The training set which is fed to a classifier is mentioned in parenthesis following the name of that classifier\n",
    "\n",
    "Unaltered: unaltered training set\n",
    "ROS-IL: random over-sampling of minority class via imbalanced-learn library\n",
    "SMOTE: Over-sampling of minority class via synthetic minority over-sampling technique (SMOTE)\n",
    "\"\"\"\n",
    "\n",
    "models = ['Logistic Regression (Unaltered)', 'KNN (Unaltered)', 'Decision Tree (ROS-IL)',\n",
    "          'Linear SVM (Unaltered)', 'Naive Bayes (SMOTE)', 'Random Forest (SMOTE)',\n",
    "          'LDA (Unaltered)', 'SGD (Unaltered)', 'Ridge Classifier (Unaltered)']\n",
    "metrics = ['F2-Score', 'MCC', 'Recall']\n",
    "cols = ['Classification model'] + metrics\n",
    "\n",
    "model_comparison = pd.DataFrame(columns = cols)\n",
    "model_comparison['Classification model'] = models\n",
    "\n",
    "summary_list = [summary_logreg_unaltered_index, summary_knn_unaltered_index, summary_dt_over_imblearn_index,\n",
    "                summary_svm_linear_unaltered_index, summary_nb_over_smote_index, summary_rf_over_smote_index,\n",
    "                summary_lda_unaltered_index, summary_sgd_unaltered_index, summary_ridge_unaltered_index]\n",
    "\n",
    "F2_score = []\n",
    "MCC = []\n",
    "Recall = []\n",
    "\n",
    "for i in summary_list:\n",
    "  F2_score.append(float(i['F2-Score']))\n",
    "  MCC.append(float(i['MCC']))\n",
    "  Recall.append(float(i['Recall']))\n",
    "\n",
    "model_comparison['F2-Score'] = F2_score\n",
    "model_comparison['MCC'] = MCC\n",
    "model_comparison['Recall'] = Recall\n",
    "\n",
    "model_comparison.set_index('Classification model', inplace = True)\n",
    "model_comparison_descending_F2 = model_comparison.sort_values(by = ['F2-Score'], ascending = False)\n",
    "model_comparison_descending_F2"
   ]
  },
  {
   "cell_type": "markdown",
   "metadata": {
    "id": "Q6gQR880GFWm"
   },
   "source": [
    "The **Random Forest** algorithm applied on the training set obtained after oversampling the minority class (fraudulent transactions) via **SMOTE** appears to be the best classification model for the problem at hand.\n",
    "\n",
    "**SMOTE** is one of the best choices to oversample the minority class when the data is imbalanced. It is not surprising that **Random Forest** turns out to be one of the most suitable classifiers for the problem due to the following reasons:\n",
    "\n",
    "- The algorithm works well in dealing with large datasets with high dimensions.\n",
    "\n",
    "- It is less affected by the presence of outliers in feature variables compared to other algorithms.\n",
    "\n",
    "- It does not make any distributional assumption on the feature variables.\n",
    "\n",
    "- It handles collinearity (linear dependence among features) implicitly.\n",
    "\n",
    "- It automatically ignores the features which are not useful, effectively doing feature selection on its own."
   ]
  }
 ],
 "metadata": {
  "kernelspec": {
   "display_name": "Python 3",
   "language": "python",
   "name": "python3"
  },
  "language_info": {
   "codemirror_mode": {
    "name": "ipython",
    "version": 3
   },
   "file_extension": ".py",
   "mimetype": "text/x-python",
   "name": "python",
   "nbconvert_exporter": "python",
   "pygments_lexer": "ipython3",
   "version": "3.8.8"
  }
 },
 "nbformat": 4,
 "nbformat_minor": 4
}
