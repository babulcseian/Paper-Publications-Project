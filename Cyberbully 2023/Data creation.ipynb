{
 "cells": [
  {
   "cell_type": "code",
   "execution_count": 1,
   "id": "8b83d63b",
   "metadata": {},
   "outputs": [],
   "source": [
    "import pandas as pd"
   ]
  },
  {
   "cell_type": "markdown",
   "id": "bd4cd5fa",
   "metadata": {},
   "source": [
    "# Aggression Dataset"
   ]
  },
  {
   "cell_type": "code",
   "execution_count": 2,
   "id": "ab267bdc",
   "metadata": {},
   "outputs": [
    {
     "data": {
      "text/html": [
       "<div>\n",
       "<style scoped>\n",
       "    .dataframe tbody tr th:only-of-type {\n",
       "        vertical-align: middle;\n",
       "    }\n",
       "\n",
       "    .dataframe tbody tr th {\n",
       "        vertical-align: top;\n",
       "    }\n",
       "\n",
       "    .dataframe thead th {\n",
       "        text-align: right;\n",
       "    }\n",
       "</style>\n",
       "<table border=\"1\" class=\"dataframe\">\n",
       "  <thead>\n",
       "    <tr style=\"text-align: right;\">\n",
       "      <th></th>\n",
       "      <th>index</th>\n",
       "      <th>Text</th>\n",
       "      <th>ed_label_0</th>\n",
       "      <th>ed_label_1</th>\n",
       "      <th>oh_label</th>\n",
       "    </tr>\n",
       "  </thead>\n",
       "  <tbody>\n",
       "    <tr>\n",
       "      <th>0</th>\n",
       "      <td>0</td>\n",
       "      <td>`- This is not ``creative``.  Those are the di...</td>\n",
       "      <td>0.900000</td>\n",
       "      <td>0.100000</td>\n",
       "      <td>0</td>\n",
       "    </tr>\n",
       "    <tr>\n",
       "      <th>1</th>\n",
       "      <td>1</td>\n",
       "      <td>`  :: the term ``standard model`` is itself le...</td>\n",
       "      <td>1.000000</td>\n",
       "      <td>0.000000</td>\n",
       "      <td>0</td>\n",
       "    </tr>\n",
       "    <tr>\n",
       "      <th>2</th>\n",
       "      <td>2</td>\n",
       "      <td>True or false, the situation as of March 200...</td>\n",
       "      <td>1.000000</td>\n",
       "      <td>0.000000</td>\n",
       "      <td>0</td>\n",
       "    </tr>\n",
       "    <tr>\n",
       "      <th>3</th>\n",
       "      <td>3</td>\n",
       "      <td>Next, maybe you could work on being less cond...</td>\n",
       "      <td>0.555556</td>\n",
       "      <td>0.444444</td>\n",
       "      <td>0</td>\n",
       "    </tr>\n",
       "    <tr>\n",
       "      <th>4</th>\n",
       "      <td>4</td>\n",
       "      <td>This page will need disambiguation.</td>\n",
       "      <td>1.000000</td>\n",
       "      <td>0.000000</td>\n",
       "      <td>0</td>\n",
       "    </tr>\n",
       "  </tbody>\n",
       "</table>\n",
       "</div>"
      ],
      "text/plain": [
       "   index                                               Text  ed_label_0  \\\n",
       "0      0  `- This is not ``creative``.  Those are the di...    0.900000   \n",
       "1      1  `  :: the term ``standard model`` is itself le...    1.000000   \n",
       "2      2    True or false, the situation as of March 200...    1.000000   \n",
       "3      3   Next, maybe you could work on being less cond...    0.555556   \n",
       "4      4               This page will need disambiguation.     1.000000   \n",
       "\n",
       "   ed_label_1  oh_label  \n",
       "0    0.100000         0  \n",
       "1    0.000000         0  \n",
       "2    0.000000         0  \n",
       "3    0.444444         0  \n",
       "4    0.000000         0  "
      ]
     },
     "execution_count": 2,
     "metadata": {},
     "output_type": "execute_result"
    }
   ],
   "source": [
    "path = '/Ml files/cyberbully detection/'\n",
    "aggression_df=pd.read_csv(path + \"Initial files/aggression_parsed_dataset.csv\")\n",
    "aggression_df.head()"
   ]
  },
  {
   "cell_type": "code",
   "execution_count": 3,
   "id": "7f8d9750",
   "metadata": {},
   "outputs": [
    {
     "data": {
      "text/html": [
       "<div>\n",
       "<style scoped>\n",
       "    .dataframe tbody tr th:only-of-type {\n",
       "        vertical-align: middle;\n",
       "    }\n",
       "\n",
       "    .dataframe tbody tr th {\n",
       "        vertical-align: top;\n",
       "    }\n",
       "\n",
       "    .dataframe thead th {\n",
       "        text-align: right;\n",
       "    }\n",
       "</style>\n",
       "<table border=\"1\" class=\"dataframe\">\n",
       "  <thead>\n",
       "    <tr style=\"text-align: right;\">\n",
       "      <th></th>\n",
       "      <th>index</th>\n",
       "      <th>Text</th>\n",
       "      <th>non_aggressive_confidence</th>\n",
       "      <th>aggressive_confidence</th>\n",
       "      <th>aggressive_label</th>\n",
       "    </tr>\n",
       "  </thead>\n",
       "  <tbody>\n",
       "    <tr>\n",
       "      <th>0</th>\n",
       "      <td>0</td>\n",
       "      <td>`- This is not ``creative``.  Those are the di...</td>\n",
       "      <td>0.900000</td>\n",
       "      <td>0.100000</td>\n",
       "      <td>non_aggressive</td>\n",
       "    </tr>\n",
       "    <tr>\n",
       "      <th>1</th>\n",
       "      <td>1</td>\n",
       "      <td>`  :: the term ``standard model`` is itself le...</td>\n",
       "      <td>1.000000</td>\n",
       "      <td>0.000000</td>\n",
       "      <td>non_aggressive</td>\n",
       "    </tr>\n",
       "    <tr>\n",
       "      <th>2</th>\n",
       "      <td>2</td>\n",
       "      <td>True or false, the situation as of March 200...</td>\n",
       "      <td>1.000000</td>\n",
       "      <td>0.000000</td>\n",
       "      <td>non_aggressive</td>\n",
       "    </tr>\n",
       "    <tr>\n",
       "      <th>3</th>\n",
       "      <td>3</td>\n",
       "      <td>Next, maybe you could work on being less cond...</td>\n",
       "      <td>0.555556</td>\n",
       "      <td>0.444444</td>\n",
       "      <td>non_aggressive</td>\n",
       "    </tr>\n",
       "    <tr>\n",
       "      <th>4</th>\n",
       "      <td>4</td>\n",
       "      <td>This page will need disambiguation.</td>\n",
       "      <td>1.000000</td>\n",
       "      <td>0.000000</td>\n",
       "      <td>non_aggressive</td>\n",
       "    </tr>\n",
       "  </tbody>\n",
       "</table>\n",
       "</div>"
      ],
      "text/plain": [
       "   index                                               Text  \\\n",
       "0      0  `- This is not ``creative``.  Those are the di...   \n",
       "1      1  `  :: the term ``standard model`` is itself le...   \n",
       "2      2    True or false, the situation as of March 200...   \n",
       "3      3   Next, maybe you could work on being less cond...   \n",
       "4      4               This page will need disambiguation.    \n",
       "\n",
       "   non_aggressive_confidence  aggressive_confidence aggressive_label  \n",
       "0                   0.900000               0.100000   non_aggressive  \n",
       "1                   1.000000               0.000000   non_aggressive  \n",
       "2                   1.000000               0.000000   non_aggressive  \n",
       "3                   0.555556               0.444444   non_aggressive  \n",
       "4                   1.000000               0.000000   non_aggressive  "
      ]
     },
     "execution_count": 3,
     "metadata": {},
     "output_type": "execute_result"
    }
   ],
   "source": [
    "aggression_df = aggression_df.rename(columns={'ed_label_0': 'non_aggressive_confidence','ed_label_1': 'aggressive_confidence','oh_label': 'aggressive_label'})\n",
    "aggression_df.aggressive_label = aggression_df.aggressive_label.map({0:'non_aggressive', 1:'aggresssive'})\n",
    "aggression_df.head()"
   ]
  },
  {
   "cell_type": "code",
   "execution_count": 4,
   "id": "71f42f3b",
   "metadata": {},
   "outputs": [
    {
     "data": {
      "text/plain": [
       "(115864, 5)"
      ]
     },
     "execution_count": 4,
     "metadata": {},
     "output_type": "execute_result"
    }
   ],
   "source": [
    "aggression_df.shape"
   ]
  },
  {
   "cell_type": "markdown",
   "id": "03c0d5b5",
   "metadata": {},
   "source": [
    "# Attack Dataset"
   ]
  },
  {
   "cell_type": "code",
   "execution_count": 5,
   "id": "533d730c",
   "metadata": {},
   "outputs": [
    {
     "data": {
      "text/html": [
       "<div>\n",
       "<style scoped>\n",
       "    .dataframe tbody tr th:only-of-type {\n",
       "        vertical-align: middle;\n",
       "    }\n",
       "\n",
       "    .dataframe tbody tr th {\n",
       "        vertical-align: top;\n",
       "    }\n",
       "\n",
       "    .dataframe thead th {\n",
       "        text-align: right;\n",
       "    }\n",
       "</style>\n",
       "<table border=\"1\" class=\"dataframe\">\n",
       "  <thead>\n",
       "    <tr style=\"text-align: right;\">\n",
       "      <th></th>\n",
       "      <th>index</th>\n",
       "      <th>Text</th>\n",
       "      <th>ed_label_0</th>\n",
       "      <th>ed_label_1</th>\n",
       "      <th>oh_label</th>\n",
       "    </tr>\n",
       "  </thead>\n",
       "  <tbody>\n",
       "    <tr>\n",
       "      <th>0</th>\n",
       "      <td>0</td>\n",
       "      <td>`- This is not ``creative``.  Those are the di...</td>\n",
       "      <td>1.000000</td>\n",
       "      <td>0.000000</td>\n",
       "      <td>0</td>\n",
       "    </tr>\n",
       "    <tr>\n",
       "      <th>1</th>\n",
       "      <td>1</td>\n",
       "      <td>`  :: the term ``standard model`` is itself le...</td>\n",
       "      <td>1.000000</td>\n",
       "      <td>0.000000</td>\n",
       "      <td>0</td>\n",
       "    </tr>\n",
       "    <tr>\n",
       "      <th>2</th>\n",
       "      <td>2</td>\n",
       "      <td>True or false, the situation as of March 200...</td>\n",
       "      <td>1.000000</td>\n",
       "      <td>0.000000</td>\n",
       "      <td>0</td>\n",
       "    </tr>\n",
       "    <tr>\n",
       "      <th>3</th>\n",
       "      <td>3</td>\n",
       "      <td>Next, maybe you could work on being less cond...</td>\n",
       "      <td>0.555556</td>\n",
       "      <td>0.444444</td>\n",
       "      <td>0</td>\n",
       "    </tr>\n",
       "    <tr>\n",
       "      <th>4</th>\n",
       "      <td>4</td>\n",
       "      <td>This page will need disambiguation.</td>\n",
       "      <td>1.000000</td>\n",
       "      <td>0.000000</td>\n",
       "      <td>0</td>\n",
       "    </tr>\n",
       "  </tbody>\n",
       "</table>\n",
       "</div>"
      ],
      "text/plain": [
       "   index                                               Text  ed_label_0  \\\n",
       "0      0  `- This is not ``creative``.  Those are the di...    1.000000   \n",
       "1      1  `  :: the term ``standard model`` is itself le...    1.000000   \n",
       "2      2    True or false, the situation as of March 200...    1.000000   \n",
       "3      3   Next, maybe you could work on being less cond...    0.555556   \n",
       "4      4               This page will need disambiguation.     1.000000   \n",
       "\n",
       "   ed_label_1  oh_label  \n",
       "0    0.000000         0  \n",
       "1    0.000000         0  \n",
       "2    0.000000         0  \n",
       "3    0.444444         0  \n",
       "4    0.000000         0  "
      ]
     },
     "execution_count": 5,
     "metadata": {},
     "output_type": "execute_result"
    }
   ],
   "source": [
    "attack_df=pd.read_csv(path + \"Initial files/attack_parsed_dataset.csv\")\n",
    "attack_df.head()"
   ]
  },
  {
   "cell_type": "code",
   "execution_count": 6,
   "id": "00f0a948",
   "metadata": {},
   "outputs": [
    {
     "data": {
      "text/html": [
       "<div>\n",
       "<style scoped>\n",
       "    .dataframe tbody tr th:only-of-type {\n",
       "        vertical-align: middle;\n",
       "    }\n",
       "\n",
       "    .dataframe tbody tr th {\n",
       "        vertical-align: top;\n",
       "    }\n",
       "\n",
       "    .dataframe thead th {\n",
       "        text-align: right;\n",
       "    }\n",
       "</style>\n",
       "<table border=\"1\" class=\"dataframe\">\n",
       "  <thead>\n",
       "    <tr style=\"text-align: right;\">\n",
       "      <th></th>\n",
       "      <th>index</th>\n",
       "      <th>Text</th>\n",
       "      <th>non_attack_confidence</th>\n",
       "      <th>attack_confidence</th>\n",
       "      <th>attack_label</th>\n",
       "    </tr>\n",
       "  </thead>\n",
       "  <tbody>\n",
       "    <tr>\n",
       "      <th>0</th>\n",
       "      <td>0</td>\n",
       "      <td>`- This is not ``creative``.  Those are the di...</td>\n",
       "      <td>1.000000</td>\n",
       "      <td>0.000000</td>\n",
       "      <td>non_attack</td>\n",
       "    </tr>\n",
       "    <tr>\n",
       "      <th>1</th>\n",
       "      <td>1</td>\n",
       "      <td>`  :: the term ``standard model`` is itself le...</td>\n",
       "      <td>1.000000</td>\n",
       "      <td>0.000000</td>\n",
       "      <td>non_attack</td>\n",
       "    </tr>\n",
       "    <tr>\n",
       "      <th>2</th>\n",
       "      <td>2</td>\n",
       "      <td>True or false, the situation as of March 200...</td>\n",
       "      <td>1.000000</td>\n",
       "      <td>0.000000</td>\n",
       "      <td>non_attack</td>\n",
       "    </tr>\n",
       "    <tr>\n",
       "      <th>3</th>\n",
       "      <td>3</td>\n",
       "      <td>Next, maybe you could work on being less cond...</td>\n",
       "      <td>0.555556</td>\n",
       "      <td>0.444444</td>\n",
       "      <td>non_attack</td>\n",
       "    </tr>\n",
       "    <tr>\n",
       "      <th>4</th>\n",
       "      <td>4</td>\n",
       "      <td>This page will need disambiguation.</td>\n",
       "      <td>1.000000</td>\n",
       "      <td>0.000000</td>\n",
       "      <td>non_attack</td>\n",
       "    </tr>\n",
       "  </tbody>\n",
       "</table>\n",
       "</div>"
      ],
      "text/plain": [
       "   index                                               Text  \\\n",
       "0      0  `- This is not ``creative``.  Those are the di...   \n",
       "1      1  `  :: the term ``standard model`` is itself le...   \n",
       "2      2    True or false, the situation as of March 200...   \n",
       "3      3   Next, maybe you could work on being less cond...   \n",
       "4      4               This page will need disambiguation.    \n",
       "\n",
       "   non_attack_confidence  attack_confidence attack_label  \n",
       "0               1.000000           0.000000   non_attack  \n",
       "1               1.000000           0.000000   non_attack  \n",
       "2               1.000000           0.000000   non_attack  \n",
       "3               0.555556           0.444444   non_attack  \n",
       "4               1.000000           0.000000   non_attack  "
      ]
     },
     "execution_count": 6,
     "metadata": {},
     "output_type": "execute_result"
    }
   ],
   "source": [
    "attack_df = attack_df.rename(columns={'ed_label_0': 'non_attack_confidence','ed_label_1': 'attack_confidence','oh_label': 'attack_label'})\n",
    "attack_df.attack_label = attack_df.attack_label.map({0:'non_attack', 1:'attack'})\n",
    "attack_df.head()"
   ]
  },
  {
   "cell_type": "code",
   "execution_count": 7,
   "id": "684adb2c",
   "metadata": {},
   "outputs": [
    {
     "data": {
      "text/plain": [
       "(115864, 5)"
      ]
     },
     "execution_count": 7,
     "metadata": {},
     "output_type": "execute_result"
    }
   ],
   "source": [
    "attack_df.shape"
   ]
  },
  {
   "cell_type": "code",
   "execution_count": 8,
   "id": "2f036957",
   "metadata": {},
   "outputs": [
    {
     "data": {
      "text/html": [
       "<div>\n",
       "<style scoped>\n",
       "    .dataframe tbody tr th:only-of-type {\n",
       "        vertical-align: middle;\n",
       "    }\n",
       "\n",
       "    .dataframe tbody tr th {\n",
       "        vertical-align: top;\n",
       "    }\n",
       "\n",
       "    .dataframe thead th {\n",
       "        text-align: right;\n",
       "    }\n",
       "</style>\n",
       "<table border=\"1\" class=\"dataframe\">\n",
       "  <thead>\n",
       "    <tr style=\"text-align: right;\">\n",
       "      <th></th>\n",
       "      <th>index</th>\n",
       "      <th>Text_x</th>\n",
       "      <th>non_aggressive_confidence</th>\n",
       "      <th>aggressive_confidence</th>\n",
       "      <th>aggressive_label</th>\n",
       "      <th>Text_y</th>\n",
       "      <th>non_attack_confidence</th>\n",
       "      <th>attack_confidence</th>\n",
       "      <th>attack_label</th>\n",
       "    </tr>\n",
       "  </thead>\n",
       "  <tbody>\n",
       "    <tr>\n",
       "      <th>0</th>\n",
       "      <td>0</td>\n",
       "      <td>`- This is not ``creative``.  Those are the di...</td>\n",
       "      <td>0.900000</td>\n",
       "      <td>0.100000</td>\n",
       "      <td>non_aggressive</td>\n",
       "      <td>`- This is not ``creative``.  Those are the di...</td>\n",
       "      <td>1.000000</td>\n",
       "      <td>0.000000</td>\n",
       "      <td>non_attack</td>\n",
       "    </tr>\n",
       "    <tr>\n",
       "      <th>1</th>\n",
       "      <td>1</td>\n",
       "      <td>`  :: the term ``standard model`` is itself le...</td>\n",
       "      <td>1.000000</td>\n",
       "      <td>0.000000</td>\n",
       "      <td>non_aggressive</td>\n",
       "      <td>`  :: the term ``standard model`` is itself le...</td>\n",
       "      <td>1.000000</td>\n",
       "      <td>0.000000</td>\n",
       "      <td>non_attack</td>\n",
       "    </tr>\n",
       "    <tr>\n",
       "      <th>2</th>\n",
       "      <td>2</td>\n",
       "      <td>True or false, the situation as of March 200...</td>\n",
       "      <td>1.000000</td>\n",
       "      <td>0.000000</td>\n",
       "      <td>non_aggressive</td>\n",
       "      <td>True or false, the situation as of March 200...</td>\n",
       "      <td>1.000000</td>\n",
       "      <td>0.000000</td>\n",
       "      <td>non_attack</td>\n",
       "    </tr>\n",
       "    <tr>\n",
       "      <th>3</th>\n",
       "      <td>3</td>\n",
       "      <td>Next, maybe you could work on being less cond...</td>\n",
       "      <td>0.555556</td>\n",
       "      <td>0.444444</td>\n",
       "      <td>non_aggressive</td>\n",
       "      <td>Next, maybe you could work on being less cond...</td>\n",
       "      <td>0.555556</td>\n",
       "      <td>0.444444</td>\n",
       "      <td>non_attack</td>\n",
       "    </tr>\n",
       "    <tr>\n",
       "      <th>4</th>\n",
       "      <td>4</td>\n",
       "      <td>This page will need disambiguation.</td>\n",
       "      <td>1.000000</td>\n",
       "      <td>0.000000</td>\n",
       "      <td>non_aggressive</td>\n",
       "      <td>This page will need disambiguation.</td>\n",
       "      <td>1.000000</td>\n",
       "      <td>0.000000</td>\n",
       "      <td>non_attack</td>\n",
       "    </tr>\n",
       "  </tbody>\n",
       "</table>\n",
       "</div>"
      ],
      "text/plain": [
       "   index                                             Text_x  \\\n",
       "0      0  `- This is not ``creative``.  Those are the di...   \n",
       "1      1  `  :: the term ``standard model`` is itself le...   \n",
       "2      2    True or false, the situation as of March 200...   \n",
       "3      3   Next, maybe you could work on being less cond...   \n",
       "4      4               This page will need disambiguation.    \n",
       "\n",
       "   non_aggressive_confidence  aggressive_confidence aggressive_label  \\\n",
       "0                   0.900000               0.100000   non_aggressive   \n",
       "1                   1.000000               0.000000   non_aggressive   \n",
       "2                   1.000000               0.000000   non_aggressive   \n",
       "3                   0.555556               0.444444   non_aggressive   \n",
       "4                   1.000000               0.000000   non_aggressive   \n",
       "\n",
       "                                              Text_y  non_attack_confidence  \\\n",
       "0  `- This is not ``creative``.  Those are the di...               1.000000   \n",
       "1  `  :: the term ``standard model`` is itself le...               1.000000   \n",
       "2    True or false, the situation as of March 200...               1.000000   \n",
       "3   Next, maybe you could work on being less cond...               0.555556   \n",
       "4               This page will need disambiguation.                1.000000   \n",
       "\n",
       "   attack_confidence attack_label  \n",
       "0           0.000000   non_attack  \n",
       "1           0.000000   non_attack  \n",
       "2           0.000000   non_attack  \n",
       "3           0.444444   non_attack  \n",
       "4           0.000000   non_attack  "
      ]
     },
     "execution_count": 8,
     "metadata": {},
     "output_type": "execute_result"
    }
   ],
   "source": [
    "df1 = pd.merge(aggression_df, attack_df,on='index', how='outer')\n",
    "df1.head()"
   ]
  },
  {
   "cell_type": "code",
   "execution_count": 9,
   "id": "5ec680fb",
   "metadata": {},
   "outputs": [
    {
     "name": "stdout",
     "output_type": "stream",
     "text": [
      "<class 'pandas.core.frame.DataFrame'>\n",
      "Int64Index: 115864 entries, 0 to 115863\n",
      "Data columns (total 4 columns):\n",
      " #   Column            Non-Null Count   Dtype \n",
      "---  ------            --------------   ----- \n",
      " 0   index             115864 non-null  int64 \n",
      " 1   Text_x            115864 non-null  object\n",
      " 2   aggressive_label  115864 non-null  object\n",
      " 3   attack_label      115864 non-null  object\n",
      "dtypes: int64(1), object(3)\n",
      "memory usage: 4.4+ MB\n"
     ]
    }
   ],
   "source": [
    "drop_cols = ['non_aggressive_confidence','aggressive_confidence','Text_y','non_attack_confidence','attack_confidence']\n",
    "df1=df1.drop(columns=drop_cols)\n",
    "df1.info()"
   ]
  },
  {
   "cell_type": "markdown",
   "id": "c3824473",
   "metadata": {},
   "source": [
    "# Toxicity dataset\n"
   ]
  },
  {
   "cell_type": "code",
   "execution_count": 10,
   "id": "c2cb6ea1",
   "metadata": {},
   "outputs": [
    {
     "data": {
      "text/html": [
       "<div>\n",
       "<style scoped>\n",
       "    .dataframe tbody tr th:only-of-type {\n",
       "        vertical-align: middle;\n",
       "    }\n",
       "\n",
       "    .dataframe tbody tr th {\n",
       "        vertical-align: top;\n",
       "    }\n",
       "\n",
       "    .dataframe thead th {\n",
       "        text-align: right;\n",
       "    }\n",
       "</style>\n",
       "<table border=\"1\" class=\"dataframe\">\n",
       "  <thead>\n",
       "    <tr style=\"text-align: right;\">\n",
       "      <th></th>\n",
       "      <th>index</th>\n",
       "      <th>Text</th>\n",
       "      <th>ed_label_0</th>\n",
       "      <th>ed_label_1</th>\n",
       "      <th>oh_label</th>\n",
       "    </tr>\n",
       "  </thead>\n",
       "  <tbody>\n",
       "    <tr>\n",
       "      <th>0</th>\n",
       "      <td>0</td>\n",
       "      <td>This: :One can make an analogy in mathematical...</td>\n",
       "      <td>0.9</td>\n",
       "      <td>0.1</td>\n",
       "      <td>0</td>\n",
       "    </tr>\n",
       "    <tr>\n",
       "      <th>1</th>\n",
       "      <td>1</td>\n",
       "      <td>`  :Clarification for you  (and Zundark's righ...</td>\n",
       "      <td>1.0</td>\n",
       "      <td>0.0</td>\n",
       "      <td>0</td>\n",
       "    </tr>\n",
       "    <tr>\n",
       "      <th>2</th>\n",
       "      <td>2</td>\n",
       "      <td>Elected or Electoral? JHK</td>\n",
       "      <td>1.0</td>\n",
       "      <td>0.0</td>\n",
       "      <td>0</td>\n",
       "    </tr>\n",
       "    <tr>\n",
       "      <th>3</th>\n",
       "      <td>3</td>\n",
       "      <td>`This is such a fun entry.   Devotchka  I once...</td>\n",
       "      <td>1.0</td>\n",
       "      <td>0.0</td>\n",
       "      <td>0</td>\n",
       "    </tr>\n",
       "    <tr>\n",
       "      <th>4</th>\n",
       "      <td>4</td>\n",
       "      <td>Please relate the ozone hole to increases in c...</td>\n",
       "      <td>0.8</td>\n",
       "      <td>0.2</td>\n",
       "      <td>0</td>\n",
       "    </tr>\n",
       "  </tbody>\n",
       "</table>\n",
       "</div>"
      ],
      "text/plain": [
       "   index                                               Text  ed_label_0  \\\n",
       "0      0  This: :One can make an analogy in mathematical...         0.9   \n",
       "1      1  `  :Clarification for you  (and Zundark's righ...         1.0   \n",
       "2      2                          Elected or Electoral? JHK         1.0   \n",
       "3      3  `This is such a fun entry.   Devotchka  I once...         1.0   \n",
       "4      4  Please relate the ozone hole to increases in c...         0.8   \n",
       "\n",
       "   ed_label_1  oh_label  \n",
       "0         0.1         0  \n",
       "1         0.0         0  \n",
       "2         0.0         0  \n",
       "3         0.0         0  \n",
       "4         0.2         0  "
      ]
     },
     "execution_count": 10,
     "metadata": {},
     "output_type": "execute_result"
    }
   ],
   "source": [
    "toxicity_df=pd.read_csv(path + \"/Initial files/toxicity_parsed_dataset.csv\")\n",
    "toxicity_df.head()"
   ]
  },
  {
   "cell_type": "code",
   "execution_count": 11,
   "id": "2917af8b",
   "metadata": {},
   "outputs": [
    {
     "data": {
      "text/plain": [
       "non_toxic    144324\n",
       "toxic         15362\n",
       "Name: toxicity_label, dtype: int64"
      ]
     },
     "execution_count": 11,
     "metadata": {},
     "output_type": "execute_result"
    }
   ],
   "source": [
    "toxicity_df = toxicity_df.rename(columns={'ed_label_0': 'non_toxicity_confidence','ed_label_1': 'toxicity_confidence','oh_label': 'toxicity_label'})\n",
    "toxicity_df.toxicity_label = toxicity_df.toxicity_label.map({0:'non_toxic', 1:'toxic'})\n",
    "toxicity_df.toxicity_label.value_counts()"
   ]
  },
  {
   "cell_type": "code",
   "execution_count": 12,
   "id": "e9c19793",
   "metadata": {},
   "outputs": [
    {
     "data": {
      "text/plain": [
       "(159686, 5)"
      ]
     },
     "execution_count": 12,
     "metadata": {},
     "output_type": "execute_result"
    }
   ],
   "source": [
    "toxicity_df.shape"
   ]
  },
  {
   "cell_type": "code",
   "execution_count": 13,
   "id": "59a63ee8",
   "metadata": {},
   "outputs": [
    {
     "name": "stdout",
     "output_type": "stream",
     "text": [
      "36921\n",
      "78973\n"
     ]
    }
   ],
   "source": [
    "not_in_df1 = df1.loc[~df1['Text_x'].isin(toxicity_df['Text']), :]\n",
    "\n",
    "in_toxicity = toxicity_df.loc[toxicity_df['Text'].isin(df1['Text_x']), :]\n",
    "\n",
    "print(len(not_in_df1))\n",
    "print(len(in_toxicity))"
   ]
  },
  {
   "cell_type": "code",
   "execution_count": 14,
   "id": "b36aa9cf",
   "metadata": {},
   "outputs": [
    {
     "data": {
      "text/html": [
       "<div>\n",
       "<style scoped>\n",
       "    .dataframe tbody tr th:only-of-type {\n",
       "        vertical-align: middle;\n",
       "    }\n",
       "\n",
       "    .dataframe tbody tr th {\n",
       "        vertical-align: top;\n",
       "    }\n",
       "\n",
       "    .dataframe thead th {\n",
       "        text-align: right;\n",
       "    }\n",
       "</style>\n",
       "<table border=\"1\" class=\"dataframe\">\n",
       "  <thead>\n",
       "    <tr style=\"text-align: right;\">\n",
       "      <th></th>\n",
       "      <th>index</th>\n",
       "      <th>Text</th>\n",
       "      <th>non_toxicity_confidence</th>\n",
       "      <th>toxicity_confidence</th>\n",
       "      <th>toxicity_label</th>\n",
       "    </tr>\n",
       "  </thead>\n",
       "  <tbody>\n",
       "    <tr>\n",
       "      <th>8</th>\n",
       "      <td>8</td>\n",
       "      <td>`- This is not ``creative``.  Those are the di...</td>\n",
       "      <td>0.8</td>\n",
       "      <td>0.2</td>\n",
       "      <td>non_toxic</td>\n",
       "    </tr>\n",
       "    <tr>\n",
       "      <th>48</th>\n",
       "      <td>48</td>\n",
       "      <td>Ummm. The article uses imperial measuremen...</td>\n",
       "      <td>0.9</td>\n",
       "      <td>0.1</td>\n",
       "      <td>non_toxic</td>\n",
       "    </tr>\n",
       "    <tr>\n",
       "      <th>54</th>\n",
       "      <td>54</td>\n",
       "      <td>::I disagree. I would leave it out of the in...</td>\n",
       "      <td>0.8</td>\n",
       "      <td>0.2</td>\n",
       "      <td>non_toxic</td>\n",
       "    </tr>\n",
       "    <tr>\n",
       "      <th>57</th>\n",
       "      <td>57</td>\n",
       "      <td>:::I don't know where you got the idea that ...</td>\n",
       "      <td>1.0</td>\n",
       "      <td>0.0</td>\n",
       "      <td>non_toxic</td>\n",
       "    </tr>\n",
       "    <tr>\n",
       "      <th>98</th>\n",
       "      <td>98</td>\n",
       "      <td>MarcusAurelius]]   Why exactly was this user b...</td>\n",
       "      <td>0.9</td>\n",
       "      <td>0.1</td>\n",
       "      <td>non_toxic</td>\n",
       "    </tr>\n",
       "    <tr>\n",
       "      <th>...</th>\n",
       "      <td>...</td>\n",
       "      <td>...</td>\n",
       "      <td>...</td>\n",
       "      <td>...</td>\n",
       "      <td>...</td>\n",
       "    </tr>\n",
       "    <tr>\n",
       "      <th>159681</th>\n",
       "      <td>159681</td>\n",
       "      <td>`   These sources don't exactly exude a sense ...</td>\n",
       "      <td>1.0</td>\n",
       "      <td>0.0</td>\n",
       "      <td>non_toxic</td>\n",
       "    </tr>\n",
       "    <tr>\n",
       "      <th>159682</th>\n",
       "      <td>159682</td>\n",
       "      <td>The Institute for Historical Review is a pee...</td>\n",
       "      <td>1.0</td>\n",
       "      <td>0.0</td>\n",
       "      <td>non_toxic</td>\n",
       "    </tr>\n",
       "    <tr>\n",
       "      <th>159683</th>\n",
       "      <td>159683</td>\n",
       "      <td>:The way you're trying to describe it in this...</td>\n",
       "      <td>1.0</td>\n",
       "      <td>0.0</td>\n",
       "      <td>non_toxic</td>\n",
       "    </tr>\n",
       "    <tr>\n",
       "      <th>159684</th>\n",
       "      <td>159684</td>\n",
       "      <td>== Warning ==  There is clearly a protection...</td>\n",
       "      <td>0.6</td>\n",
       "      <td>0.4</td>\n",
       "      <td>non_toxic</td>\n",
       "    </tr>\n",
       "    <tr>\n",
       "      <th>159685</th>\n",
       "      <td>159685</td>\n",
       "      <td>Alternate option=== Is there perhaps enough ne...</td>\n",
       "      <td>1.0</td>\n",
       "      <td>0.0</td>\n",
       "      <td>non_toxic</td>\n",
       "    </tr>\n",
       "  </tbody>\n",
       "</table>\n",
       "<p>78973 rows × 5 columns</p>\n",
       "</div>"
      ],
      "text/plain": [
       "         index                                               Text  \\\n",
       "8            8  `- This is not ``creative``.  Those are the di...   \n",
       "48          48      Ummm. The article uses imperial measuremen...   \n",
       "54          54    ::I disagree. I would leave it out of the in...   \n",
       "57          57    :::I don't know where you got the idea that ...   \n",
       "98          98  MarcusAurelius]]   Why exactly was this user b...   \n",
       "...        ...                                                ...   \n",
       "159681  159681  `   These sources don't exactly exude a sense ...   \n",
       "159682  159682    The Institute for Historical Review is a pee...   \n",
       "159683  159683   :The way you're trying to describe it in this...   \n",
       "159684  159684    == Warning ==  There is clearly a protection...   \n",
       "159685  159685  Alternate option=== Is there perhaps enough ne...   \n",
       "\n",
       "        non_toxicity_confidence  toxicity_confidence toxicity_label  \n",
       "8                           0.8                  0.2      non_toxic  \n",
       "48                          0.9                  0.1      non_toxic  \n",
       "54                          0.8                  0.2      non_toxic  \n",
       "57                          1.0                  0.0      non_toxic  \n",
       "98                          0.9                  0.1      non_toxic  \n",
       "...                         ...                  ...            ...  \n",
       "159681                      1.0                  0.0      non_toxic  \n",
       "159682                      1.0                  0.0      non_toxic  \n",
       "159683                      1.0                  0.0      non_toxic  \n",
       "159684                      0.6                  0.4      non_toxic  \n",
       "159685                      1.0                  0.0      non_toxic  \n",
       "\n",
       "[78973 rows x 5 columns]"
      ]
     },
     "execution_count": 14,
     "metadata": {},
     "output_type": "execute_result"
    }
   ],
   "source": [
    "in_toxicity"
   ]
  },
  {
   "cell_type": "code",
   "execution_count": 15,
   "id": "65f46378",
   "metadata": {},
   "outputs": [
    {
     "data": {
      "text/html": [
       "<div>\n",
       "<style scoped>\n",
       "    .dataframe tbody tr th:only-of-type {\n",
       "        vertical-align: middle;\n",
       "    }\n",
       "\n",
       "    .dataframe tbody tr th {\n",
       "        vertical-align: top;\n",
       "    }\n",
       "\n",
       "    .dataframe thead th {\n",
       "        text-align: right;\n",
       "    }\n",
       "</style>\n",
       "<table border=\"1\" class=\"dataframe\">\n",
       "  <thead>\n",
       "    <tr style=\"text-align: right;\">\n",
       "      <th></th>\n",
       "      <th>index_x</th>\n",
       "      <th>Text</th>\n",
       "      <th>aggressive_label</th>\n",
       "      <th>attack_label</th>\n",
       "      <th>index_y</th>\n",
       "      <th>non_toxicity_confidence</th>\n",
       "      <th>toxicity_confidence</th>\n",
       "      <th>toxicity_label</th>\n",
       "    </tr>\n",
       "  </thead>\n",
       "  <tbody>\n",
       "    <tr>\n",
       "      <th>0</th>\n",
       "      <td>0</td>\n",
       "      <td>`- This is not ``creative``.  Those are the di...</td>\n",
       "      <td>non_aggressive</td>\n",
       "      <td>non_attack</td>\n",
       "      <td>8</td>\n",
       "      <td>0.8</td>\n",
       "      <td>0.2</td>\n",
       "      <td>non_toxic</td>\n",
       "    </tr>\n",
       "    <tr>\n",
       "      <th>1</th>\n",
       "      <td>24</td>\n",
       "      <td>Ummm. The article uses imperial measuremen...</td>\n",
       "      <td>non_aggressive</td>\n",
       "      <td>non_attack</td>\n",
       "      <td>48</td>\n",
       "      <td>0.9</td>\n",
       "      <td>0.1</td>\n",
       "      <td>non_toxic</td>\n",
       "    </tr>\n",
       "    <tr>\n",
       "      <th>2</th>\n",
       "      <td>30</td>\n",
       "      <td>::I disagree. I would leave it out of the in...</td>\n",
       "      <td>non_aggressive</td>\n",
       "      <td>non_attack</td>\n",
       "      <td>54</td>\n",
       "      <td>0.8</td>\n",
       "      <td>0.2</td>\n",
       "      <td>non_toxic</td>\n",
       "    </tr>\n",
       "    <tr>\n",
       "      <th>3</th>\n",
       "      <td>33</td>\n",
       "      <td>:::I don't know where you got the idea that ...</td>\n",
       "      <td>non_aggressive</td>\n",
       "      <td>non_attack</td>\n",
       "      <td>57</td>\n",
       "      <td>1.0</td>\n",
       "      <td>0.0</td>\n",
       "      <td>non_toxic</td>\n",
       "    </tr>\n",
       "    <tr>\n",
       "      <th>4</th>\n",
       "      <td>50</td>\n",
       "      <td>MarcusAurelius]]   Why exactly was this user b...</td>\n",
       "      <td>non_aggressive</td>\n",
       "      <td>non_attack</td>\n",
       "      <td>98</td>\n",
       "      <td>0.9</td>\n",
       "      <td>0.1</td>\n",
       "      <td>non_toxic</td>\n",
       "    </tr>\n",
       "  </tbody>\n",
       "</table>\n",
       "</div>"
      ],
      "text/plain": [
       "   index_x                                               Text  \\\n",
       "0        0  `- This is not ``creative``.  Those are the di...   \n",
       "1       24      Ummm. The article uses imperial measuremen...   \n",
       "2       30    ::I disagree. I would leave it out of the in...   \n",
       "3       33    :::I don't know where you got the idea that ...   \n",
       "4       50  MarcusAurelius]]   Why exactly was this user b...   \n",
       "\n",
       "  aggressive_label attack_label  index_y  non_toxicity_confidence  \\\n",
       "0   non_aggressive   non_attack        8                      0.8   \n",
       "1   non_aggressive   non_attack       48                      0.9   \n",
       "2   non_aggressive   non_attack       54                      0.8   \n",
       "3   non_aggressive   non_attack       57                      1.0   \n",
       "4   non_aggressive   non_attack       98                      0.9   \n",
       "\n",
       "   toxicity_confidence toxicity_label  \n",
       "0                  0.2      non_toxic  \n",
       "1                  0.1      non_toxic  \n",
       "2                  0.2      non_toxic  \n",
       "3                  0.0      non_toxic  \n",
       "4                  0.1      non_toxic  "
      ]
     },
     "execution_count": 15,
     "metadata": {},
     "output_type": "execute_result"
    }
   ],
   "source": [
    "df1=df1.rename(columns={'Text_x':'Text'})\n",
    "df1 = pd.merge(df1,toxicity_df,how='inner', on='Text')\n",
    "df1.head()"
   ]
  },
  {
   "cell_type": "code",
   "execution_count": 16,
   "id": "54014c36",
   "metadata": {},
   "outputs": [
    {
     "name": "stdout",
     "output_type": "stream",
     "text": [
      "<class 'pandas.core.frame.DataFrame'>\n",
      "Int64Index: 80273 entries, 0 to 80272\n",
      "Data columns (total 4 columns):\n",
      " #   Column            Non-Null Count  Dtype \n",
      "---  ------            --------------  ----- \n",
      " 0   Text              80273 non-null  object\n",
      " 1   aggressive_label  80273 non-null  object\n",
      " 2   attack_label      80273 non-null  object\n",
      " 3   toxicity_label    80273 non-null  object\n",
      "dtypes: object(4)\n",
      "memory usage: 3.1+ MB\n"
     ]
    }
   ],
   "source": [
    "drop_cols=['non_toxicity_confidence','toxicity_confidence','index_y','index_x']\n",
    "df1=df1.drop(columns=drop_cols)\n",
    "df1.info()"
   ]
  },
  {
   "cell_type": "markdown",
   "id": "04e11ca8",
   "metadata": {},
   "source": [
    "# twitter_parsed_dataset"
   ]
  },
  {
   "cell_type": "code",
   "execution_count": 17,
   "id": "91ddbbab",
   "metadata": {},
   "outputs": [
    {
     "data": {
      "text/html": [
       "<div>\n",
       "<style scoped>\n",
       "    .dataframe tbody tr th:only-of-type {\n",
       "        vertical-align: middle;\n",
       "    }\n",
       "\n",
       "    .dataframe tbody tr th {\n",
       "        vertical-align: top;\n",
       "    }\n",
       "\n",
       "    .dataframe thead th {\n",
       "        text-align: right;\n",
       "    }\n",
       "</style>\n",
       "<table border=\"1\" class=\"dataframe\">\n",
       "  <thead>\n",
       "    <tr style=\"text-align: right;\">\n",
       "      <th></th>\n",
       "      <th>index</th>\n",
       "      <th>id</th>\n",
       "      <th>Text</th>\n",
       "      <th>Annotation</th>\n",
       "      <th>oh_label</th>\n",
       "    </tr>\n",
       "  </thead>\n",
       "  <tbody>\n",
       "    <tr>\n",
       "      <th>0</th>\n",
       "      <td>5.74948705591165E+017</td>\n",
       "      <td>5.74948705591165E+017</td>\n",
       "      <td>@halalflaws @biebervalue @greenlinerzjm I read...</td>\n",
       "      <td>none</td>\n",
       "      <td>0.0</td>\n",
       "    </tr>\n",
       "    <tr>\n",
       "      <th>1</th>\n",
       "      <td>5.71917888690393E+017</td>\n",
       "      <td>5.71917888690393E+017</td>\n",
       "      <td>@ShreyaBafna3 Now you idiots claim that people...</td>\n",
       "      <td>none</td>\n",
       "      <td>0.0</td>\n",
       "    </tr>\n",
       "    <tr>\n",
       "      <th>2</th>\n",
       "      <td>3.90255841338601E+017</td>\n",
       "      <td>3.90255841338601E+017</td>\n",
       "      <td>RT @Mooseoftorment Call me sexist, but when I ...</td>\n",
       "      <td>sexism</td>\n",
       "      <td>1.0</td>\n",
       "    </tr>\n",
       "    <tr>\n",
       "      <th>3</th>\n",
       "      <td>5.68208850655916E+017</td>\n",
       "      <td>5.68208850655916E+017</td>\n",
       "      <td>@g0ssipsquirrelx Wrong, ISIS follows the examp...</td>\n",
       "      <td>racism</td>\n",
       "      <td>1.0</td>\n",
       "    </tr>\n",
       "    <tr>\n",
       "      <th>4</th>\n",
       "      <td>5.75596338802373E+017</td>\n",
       "      <td>5.75596338802373E+017</td>\n",
       "      <td>#mkr No No No No No No</td>\n",
       "      <td>none</td>\n",
       "      <td>0.0</td>\n",
       "    </tr>\n",
       "  </tbody>\n",
       "</table>\n",
       "</div>"
      ],
      "text/plain": [
       "                   index                     id  \\\n",
       "0  5.74948705591165E+017  5.74948705591165E+017   \n",
       "1  5.71917888690393E+017  5.71917888690393E+017   \n",
       "2  3.90255841338601E+017  3.90255841338601E+017   \n",
       "3  5.68208850655916E+017  5.68208850655916E+017   \n",
       "4  5.75596338802373E+017  5.75596338802373E+017   \n",
       "\n",
       "                                                Text Annotation  oh_label  \n",
       "0  @halalflaws @biebervalue @greenlinerzjm I read...       none       0.0  \n",
       "1  @ShreyaBafna3 Now you idiots claim that people...       none       0.0  \n",
       "2  RT @Mooseoftorment Call me sexist, but when I ...     sexism       1.0  \n",
       "3  @g0ssipsquirrelx Wrong, ISIS follows the examp...     racism       1.0  \n",
       "4                             #mkr No No No No No No       none       0.0  "
      ]
     },
     "execution_count": 17,
     "metadata": {},
     "output_type": "execute_result"
    }
   ],
   "source": [
    "twitter_cb_df=pd.read_csv(path + \"/Initial files/twitter_parsed_dataset.csv\")\n",
    "twitter_cb_df.head()"
   ]
  },
  {
   "cell_type": "code",
   "execution_count": 18,
   "id": "510b96a6",
   "metadata": {},
   "outputs": [
    {
     "data": {
      "text/plain": [
       "0.0    11501\n",
       "1.0     5347\n",
       "Name: oh_label, dtype: int64"
      ]
     },
     "execution_count": 18,
     "metadata": {},
     "output_type": "execute_result"
    }
   ],
   "source": [
    "twitter_cb_df.oh_label.value_counts()"
   ]
  },
  {
   "cell_type": "code",
   "execution_count": 19,
   "id": "9bb4c38a",
   "metadata": {},
   "outputs": [
    {
     "name": "stderr",
     "output_type": "stream",
     "text": [
      "C:\\Users\\Ovi\\anaconda3\\envs\\tensrgpu\\lib\\site-packages\\ipykernel_launcher.py:2: UserWarning: Pandas doesn't allow columns to be created via a new attribute name - see https://pandas.pydata.org/pandas-docs/stable/indexing.html#attribute-access\n",
      "  \n"
     ]
    },
    {
     "data": {
      "text/plain": [
       "non sexism or recism    11501\n",
       "sexism or recism         5347\n",
       "Name: sexism_recism_label, dtype: int64"
      ]
     },
     "execution_count": 19,
     "metadata": {},
     "output_type": "execute_result"
    }
   ],
   "source": [
    "twitter_cb_df = twitter_cb_df.rename(columns={'oh_label': 'sexism_recism_label'})\n",
    "twitter_cb_df.bully_label = twitter_cb_df.sexism_recism_label.map({0:'non sexism or recism', 1:'sexism or recism'})\n",
    "twitter_cb_df.bully_label.value_counts()"
   ]
  },
  {
   "cell_type": "code",
   "execution_count": 20,
   "id": "0d5e644f",
   "metadata": {},
   "outputs": [
    {
     "data": {
      "text/html": [
       "<div>\n",
       "<style scoped>\n",
       "    .dataframe tbody tr th:only-of-type {\n",
       "        vertical-align: middle;\n",
       "    }\n",
       "\n",
       "    .dataframe tbody tr th {\n",
       "        vertical-align: top;\n",
       "    }\n",
       "\n",
       "    .dataframe thead th {\n",
       "        text-align: right;\n",
       "    }\n",
       "</style>\n",
       "<table border=\"1\" class=\"dataframe\">\n",
       "  <thead>\n",
       "    <tr style=\"text-align: right;\">\n",
       "      <th></th>\n",
       "      <th>index</th>\n",
       "      <th>id</th>\n",
       "      <th>Text</th>\n",
       "      <th>Annotation</th>\n",
       "      <th>sexism_recism_label</th>\n",
       "    </tr>\n",
       "  </thead>\n",
       "  <tbody>\n",
       "    <tr>\n",
       "      <th>0</th>\n",
       "      <td>5.74948705591165E+017</td>\n",
       "      <td>5.74948705591165E+017</td>\n",
       "      <td>@halalflaws @biebervalue @greenlinerzjm I read...</td>\n",
       "      <td>none</td>\n",
       "      <td>0.0</td>\n",
       "    </tr>\n",
       "    <tr>\n",
       "      <th>1</th>\n",
       "      <td>5.71917888690393E+017</td>\n",
       "      <td>5.71917888690393E+017</td>\n",
       "      <td>@ShreyaBafna3 Now you idiots claim that people...</td>\n",
       "      <td>none</td>\n",
       "      <td>0.0</td>\n",
       "    </tr>\n",
       "    <tr>\n",
       "      <th>2</th>\n",
       "      <td>3.90255841338601E+017</td>\n",
       "      <td>3.90255841338601E+017</td>\n",
       "      <td>RT @Mooseoftorment Call me sexist, but when I ...</td>\n",
       "      <td>sexism</td>\n",
       "      <td>1.0</td>\n",
       "    </tr>\n",
       "    <tr>\n",
       "      <th>3</th>\n",
       "      <td>5.68208850655916E+017</td>\n",
       "      <td>5.68208850655916E+017</td>\n",
       "      <td>@g0ssipsquirrelx Wrong, ISIS follows the examp...</td>\n",
       "      <td>racism</td>\n",
       "      <td>1.0</td>\n",
       "    </tr>\n",
       "    <tr>\n",
       "      <th>4</th>\n",
       "      <td>5.75596338802373E+017</td>\n",
       "      <td>5.75596338802373E+017</td>\n",
       "      <td>#mkr No No No No No No</td>\n",
       "      <td>none</td>\n",
       "      <td>0.0</td>\n",
       "    </tr>\n",
       "  </tbody>\n",
       "</table>\n",
       "</div>"
      ],
      "text/plain": [
       "                   index                     id  \\\n",
       "0  5.74948705591165E+017  5.74948705591165E+017   \n",
       "1  5.71917888690393E+017  5.71917888690393E+017   \n",
       "2  3.90255841338601E+017  3.90255841338601E+017   \n",
       "3  5.68208850655916E+017  5.68208850655916E+017   \n",
       "4  5.75596338802373E+017  5.75596338802373E+017   \n",
       "\n",
       "                                                Text Annotation  \\\n",
       "0  @halalflaws @biebervalue @greenlinerzjm I read...       none   \n",
       "1  @ShreyaBafna3 Now you idiots claim that people...       none   \n",
       "2  RT @Mooseoftorment Call me sexist, but when I ...     sexism   \n",
       "3  @g0ssipsquirrelx Wrong, ISIS follows the examp...     racism   \n",
       "4                             #mkr No No No No No No       none   \n",
       "\n",
       "   sexism_recism_label  \n",
       "0                  0.0  \n",
       "1                  0.0  \n",
       "2                  1.0  \n",
       "3                  1.0  \n",
       "4                  0.0  "
      ]
     },
     "execution_count": 20,
     "metadata": {},
     "output_type": "execute_result"
    }
   ],
   "source": [
    "#df2 = pd.merge(df2, twitter_cb_df,on='id', how='outer')\n",
    "df2=twitter_cb_df\n",
    "df2.head()"
   ]
  },
  {
   "cell_type": "code",
   "execution_count": 21,
   "id": "108c9363",
   "metadata": {},
   "outputs": [],
   "source": [
    "drop_cols=['index','Annotation','id']\n",
    "df2=df2.drop(columns=drop_cols)"
   ]
  },
  {
   "cell_type": "code",
   "execution_count": 22,
   "id": "7a6a5331",
   "metadata": {},
   "outputs": [],
   "source": [
    "#df=pd.merge(df1, df2,on='Text', how='outer')\n",
    "df = df1.append(df2)"
   ]
  },
  {
   "cell_type": "code",
   "execution_count": 23,
   "id": "2e069a21",
   "metadata": {},
   "outputs": [
    {
     "data": {
      "text/plain": [
       "95608"
      ]
     },
     "execution_count": 23,
     "metadata": {},
     "output_type": "execute_result"
    }
   ],
   "source": [
    "len(df.Text.unique())"
   ]
  },
  {
   "cell_type": "code",
   "execution_count": 24,
   "id": "8e3feed4",
   "metadata": {},
   "outputs": [
    {
     "name": "stdout",
     "output_type": "stream",
     "text": [
      "<class 'pandas.core.frame.DataFrame'>\n",
      "Int64Index: 97124 entries, 0 to 16850\n",
      "Data columns (total 5 columns):\n",
      " #   Column               Non-Null Count  Dtype  \n",
      "---  ------               --------------  -----  \n",
      " 0   Text                 97123 non-null  object \n",
      " 1   aggressive_label     80273 non-null  object \n",
      " 2   attack_label         80273 non-null  object \n",
      " 3   toxicity_label       80273 non-null  object \n",
      " 4   sexism_recism_label  16848 non-null  float64\n",
      "dtypes: float64(1), object(4)\n",
      "memory usage: 4.4+ MB\n"
     ]
    }
   ],
   "source": [
    "df.info()"
   ]
  },
  {
   "cell_type": "code",
   "execution_count": 25,
   "id": "c2a4db87",
   "metadata": {},
   "outputs": [
    {
     "data": {
      "text/html": [
       "<div>\n",
       "<style scoped>\n",
       "    .dataframe tbody tr th:only-of-type {\n",
       "        vertical-align: middle;\n",
       "    }\n",
       "\n",
       "    .dataframe tbody tr th {\n",
       "        vertical-align: top;\n",
       "    }\n",
       "\n",
       "    .dataframe thead th {\n",
       "        text-align: right;\n",
       "    }\n",
       "</style>\n",
       "<table border=\"1\" class=\"dataframe\">\n",
       "  <thead>\n",
       "    <tr style=\"text-align: right;\">\n",
       "      <th></th>\n",
       "      <th>Text</th>\n",
       "      <th>aggressive_label</th>\n",
       "      <th>attack_label</th>\n",
       "      <th>toxicity_label</th>\n",
       "      <th>sexism_recism_label</th>\n",
       "    </tr>\n",
       "  </thead>\n",
       "  <tbody>\n",
       "    <tr>\n",
       "      <th>0</th>\n",
       "      <td>`- This is not ``creative``.  Those are the di...</td>\n",
       "      <td>non_aggressive</td>\n",
       "      <td>non_attack</td>\n",
       "      <td>non_toxic</td>\n",
       "      <td>NaN</td>\n",
       "    </tr>\n",
       "    <tr>\n",
       "      <th>1</th>\n",
       "      <td>Ummm. The article uses imperial measuremen...</td>\n",
       "      <td>non_aggressive</td>\n",
       "      <td>non_attack</td>\n",
       "      <td>non_toxic</td>\n",
       "      <td>NaN</td>\n",
       "    </tr>\n",
       "    <tr>\n",
       "      <th>2</th>\n",
       "      <td>::I disagree. I would leave it out of the in...</td>\n",
       "      <td>non_aggressive</td>\n",
       "      <td>non_attack</td>\n",
       "      <td>non_toxic</td>\n",
       "      <td>NaN</td>\n",
       "    </tr>\n",
       "    <tr>\n",
       "      <th>3</th>\n",
       "      <td>:::I don't know where you got the idea that ...</td>\n",
       "      <td>non_aggressive</td>\n",
       "      <td>non_attack</td>\n",
       "      <td>non_toxic</td>\n",
       "      <td>NaN</td>\n",
       "    </tr>\n",
       "    <tr>\n",
       "      <th>4</th>\n",
       "      <td>MarcusAurelius]]   Why exactly was this user b...</td>\n",
       "      <td>non_aggressive</td>\n",
       "      <td>non_attack</td>\n",
       "      <td>non_toxic</td>\n",
       "      <td>NaN</td>\n",
       "    </tr>\n",
       "    <tr>\n",
       "      <th>...</th>\n",
       "      <td>...</td>\n",
       "      <td>...</td>\n",
       "      <td>...</td>\n",
       "      <td>...</td>\n",
       "      <td>...</td>\n",
       "    </tr>\n",
       "    <tr>\n",
       "      <th>16846</th>\n",
       "      <td>Feeling so sorry for the girls, they should be...</td>\n",
       "      <td>NaN</td>\n",
       "      <td>NaN</td>\n",
       "      <td>NaN</td>\n",
       "      <td>0.0</td>\n",
       "    </tr>\n",
       "    <tr>\n",
       "      <th>16847</th>\n",
       "      <td>#MKR 'pretty good dishes we're happy with' - O...</td>\n",
       "      <td>NaN</td>\n",
       "      <td>NaN</td>\n",
       "      <td>NaN</td>\n",
       "      <td>0.0</td>\n",
       "    </tr>\n",
       "    <tr>\n",
       "      <th>16848</th>\n",
       "      <td>RT @colonelkickhead: Deconstructed lemon tart!...</td>\n",
       "      <td>NaN</td>\n",
       "      <td>NaN</td>\n",
       "      <td>NaN</td>\n",
       "      <td>0.0</td>\n",
       "    </tr>\n",
       "    <tr>\n",
       "      <th>16849</th>\n",
       "      <td>@versacezaynx @nyazpolitics @greenlinerzjm You...</td>\n",
       "      <td>NaN</td>\n",
       "      <td>NaN</td>\n",
       "      <td>NaN</td>\n",
       "      <td>0.0</td>\n",
       "    </tr>\n",
       "    <tr>\n",
       "      <th>16850</th>\n",
       "      <td>And before you protest that you're *not* mad, ...</td>\n",
       "      <td>NaN</td>\n",
       "      <td>NaN</td>\n",
       "      <td>NaN</td>\n",
       "      <td>0.0</td>\n",
       "    </tr>\n",
       "  </tbody>\n",
       "</table>\n",
       "<p>97124 rows × 5 columns</p>\n",
       "</div>"
      ],
      "text/plain": [
       "                                                    Text aggressive_label  \\\n",
       "0      `- This is not ``creative``.  Those are the di...   non_aggressive   \n",
       "1          Ummm. The article uses imperial measuremen...   non_aggressive   \n",
       "2        ::I disagree. I would leave it out of the in...   non_aggressive   \n",
       "3        :::I don't know where you got the idea that ...   non_aggressive   \n",
       "4      MarcusAurelius]]   Why exactly was this user b...   non_aggressive   \n",
       "...                                                  ...              ...   \n",
       "16846  Feeling so sorry for the girls, they should be...              NaN   \n",
       "16847  #MKR 'pretty good dishes we're happy with' - O...              NaN   \n",
       "16848  RT @colonelkickhead: Deconstructed lemon tart!...              NaN   \n",
       "16849  @versacezaynx @nyazpolitics @greenlinerzjm You...              NaN   \n",
       "16850  And before you protest that you're *not* mad, ...              NaN   \n",
       "\n",
       "      attack_label toxicity_label  sexism_recism_label  \n",
       "0       non_attack      non_toxic                  NaN  \n",
       "1       non_attack      non_toxic                  NaN  \n",
       "2       non_attack      non_toxic                  NaN  \n",
       "3       non_attack      non_toxic                  NaN  \n",
       "4       non_attack      non_toxic                  NaN  \n",
       "...            ...            ...                  ...  \n",
       "16846          NaN            NaN                  0.0  \n",
       "16847          NaN            NaN                  0.0  \n",
       "16848          NaN            NaN                  0.0  \n",
       "16849          NaN            NaN                  0.0  \n",
       "16850          NaN            NaN                  0.0  \n",
       "\n",
       "[97124 rows x 5 columns]"
      ]
     },
     "execution_count": 25,
     "metadata": {},
     "output_type": "execute_result"
    }
   ],
   "source": [
    "df"
   ]
  },
  {
   "cell_type": "code",
   "execution_count": 26,
   "id": "7a9b3a87",
   "metadata": {},
   "outputs": [
    {
     "data": {
      "text/html": [
       "<div>\n",
       "<style scoped>\n",
       "    .dataframe tbody tr th:only-of-type {\n",
       "        vertical-align: middle;\n",
       "    }\n",
       "\n",
       "    .dataframe tbody tr th {\n",
       "        vertical-align: top;\n",
       "    }\n",
       "\n",
       "    .dataframe thead th {\n",
       "        text-align: right;\n",
       "    }\n",
       "</style>\n",
       "<table border=\"1\" class=\"dataframe\">\n",
       "  <thead>\n",
       "    <tr style=\"text-align: right;\">\n",
       "      <th></th>\n",
       "      <th>Total</th>\n",
       "      <th>Percent</th>\n",
       "    </tr>\n",
       "  </thead>\n",
       "  <tbody>\n",
       "    <tr>\n",
       "      <th>sexism_recism_label</th>\n",
       "      <td>80276</td>\n",
       "      <td>0.826531</td>\n",
       "    </tr>\n",
       "    <tr>\n",
       "      <th>aggressive_label</th>\n",
       "      <td>16851</td>\n",
       "      <td>0.173500</td>\n",
       "    </tr>\n",
       "    <tr>\n",
       "      <th>attack_label</th>\n",
       "      <td>16851</td>\n",
       "      <td>0.173500</td>\n",
       "    </tr>\n",
       "    <tr>\n",
       "      <th>toxicity_label</th>\n",
       "      <td>16851</td>\n",
       "      <td>0.173500</td>\n",
       "    </tr>\n",
       "    <tr>\n",
       "      <th>Text</th>\n",
       "      <td>1</td>\n",
       "      <td>0.000010</td>\n",
       "    </tr>\n",
       "  </tbody>\n",
       "</table>\n",
       "</div>"
      ],
      "text/plain": [
       "                     Total   Percent\n",
       "sexism_recism_label  80276  0.826531\n",
       "aggressive_label     16851  0.173500\n",
       "attack_label         16851  0.173500\n",
       "toxicity_label       16851  0.173500\n",
       "Text                     1  0.000010"
      ]
     },
     "execution_count": 26,
     "metadata": {},
     "output_type": "execute_result"
    }
   ],
   "source": [
    "#parcentagewise null values\n",
    "def missing_data_table(data):\n",
    "    total = data.isnull().sum().sort_values(ascending=False)\n",
    "    percent = (data.isnull().sum()/data.isnull().count()).sort_values(ascending=False)\n",
    "    missing_data = pd.concat([total, percent], axis=1, keys=['Total', 'Percent'])\n",
    "    return missing_data\n",
    "missing_data_table(df)"
   ]
  },
  {
   "cell_type": "code",
   "execution_count": 27,
   "id": "677d387e",
   "metadata": {},
   "outputs": [],
   "source": [
    "df.dropna(subset = [\"Text\"], inplace=True)"
   ]
  },
  {
   "cell_type": "code",
   "execution_count": 28,
   "id": "6d86442a",
   "metadata": {},
   "outputs": [],
   "source": [
    "df.aggressive_label = df.aggressive_label.map({'non_aggressive':0, 'aggresssive':1})\n",
    "df.attack_label = df.attack_label.map({'non_attack':0, 'attack':1})\n",
    "df.toxicity_label = df.toxicity_label.map({'non_toxic':0, 'toxic':1})\n",
    "df = df.fillna(0)"
   ]
  },
  {
   "cell_type": "code",
   "execution_count": 29,
   "id": "0216d325",
   "metadata": {},
   "outputs": [
    {
     "data": {
      "text/html": [
       "<div>\n",
       "<style scoped>\n",
       "    .dataframe tbody tr th:only-of-type {\n",
       "        vertical-align: middle;\n",
       "    }\n",
       "\n",
       "    .dataframe tbody tr th {\n",
       "        vertical-align: top;\n",
       "    }\n",
       "\n",
       "    .dataframe thead th {\n",
       "        text-align: right;\n",
       "    }\n",
       "</style>\n",
       "<table border=\"1\" class=\"dataframe\">\n",
       "  <thead>\n",
       "    <tr style=\"text-align: right;\">\n",
       "      <th></th>\n",
       "      <th>Total</th>\n",
       "      <th>Percent</th>\n",
       "    </tr>\n",
       "  </thead>\n",
       "  <tbody>\n",
       "    <tr>\n",
       "      <th>Text</th>\n",
       "      <td>0</td>\n",
       "      <td>0.0</td>\n",
       "    </tr>\n",
       "    <tr>\n",
       "      <th>aggressive_label</th>\n",
       "      <td>0</td>\n",
       "      <td>0.0</td>\n",
       "    </tr>\n",
       "    <tr>\n",
       "      <th>attack_label</th>\n",
       "      <td>0</td>\n",
       "      <td>0.0</td>\n",
       "    </tr>\n",
       "    <tr>\n",
       "      <th>toxicity_label</th>\n",
       "      <td>0</td>\n",
       "      <td>0.0</td>\n",
       "    </tr>\n",
       "    <tr>\n",
       "      <th>sexism_recism_label</th>\n",
       "      <td>0</td>\n",
       "      <td>0.0</td>\n",
       "    </tr>\n",
       "  </tbody>\n",
       "</table>\n",
       "</div>"
      ],
      "text/plain": [
       "                     Total  Percent\n",
       "Text                     0      0.0\n",
       "aggressive_label         0      0.0\n",
       "attack_label             0      0.0\n",
       "toxicity_label           0      0.0\n",
       "sexism_recism_label      0      0.0"
      ]
     },
     "execution_count": 29,
     "metadata": {},
     "output_type": "execute_result"
    }
   ],
   "source": [
    "missing_data_table(df)"
   ]
  },
  {
   "cell_type": "code",
   "execution_count": 30,
   "id": "e2dcc9e1",
   "metadata": {},
   "outputs": [
    {
     "data": {
      "text/html": [
       "<div>\n",
       "<style scoped>\n",
       "    .dataframe tbody tr th:only-of-type {\n",
       "        vertical-align: middle;\n",
       "    }\n",
       "\n",
       "    .dataframe tbody tr th {\n",
       "        vertical-align: top;\n",
       "    }\n",
       "\n",
       "    .dataframe thead th {\n",
       "        text-align: right;\n",
       "    }\n",
       "</style>\n",
       "<table border=\"1\" class=\"dataframe\">\n",
       "  <thead>\n",
       "    <tr style=\"text-align: right;\">\n",
       "      <th></th>\n",
       "      <th>Text</th>\n",
       "      <th>aggressive_label</th>\n",
       "      <th>attack_label</th>\n",
       "      <th>toxicity_label</th>\n",
       "      <th>sexism_recism_label</th>\n",
       "    </tr>\n",
       "  </thead>\n",
       "  <tbody>\n",
       "    <tr>\n",
       "      <th>16841</th>\n",
       "      <td>yeah so annoying how they're doing their jobs ...</td>\n",
       "      <td>0.0</td>\n",
       "      <td>0.0</td>\n",
       "      <td>0.0</td>\n",
       "      <td>1.0</td>\n",
       "    </tr>\n",
       "    <tr>\n",
       "      <th>16842</th>\n",
       "      <td>Kat and Andre are now more hated than Adam and...</td>\n",
       "      <td>0.0</td>\n",
       "      <td>0.0</td>\n",
       "      <td>0.0</td>\n",
       "      <td>0.0</td>\n",
       "    </tr>\n",
       "    <tr>\n",
       "      <th>16843</th>\n",
       "      <td>@jukes303 The old oil cliche again. The US pay...</td>\n",
       "      <td>0.0</td>\n",
       "      <td>0.0</td>\n",
       "      <td>0.0</td>\n",
       "      <td>0.0</td>\n",
       "    </tr>\n",
       "    <tr>\n",
       "      <th>16844</th>\n",
       "      <td>@Mora_Fornelli An enemy of @clementine_ford is...</td>\n",
       "      <td>0.0</td>\n",
       "      <td>0.0</td>\n",
       "      <td>0.0</td>\n",
       "      <td>1.0</td>\n",
       "    </tr>\n",
       "    <tr>\n",
       "      <th>16845</th>\n",
       "      <td>Soz my kitchen rules I've lost interest, the i...</td>\n",
       "      <td>0.0</td>\n",
       "      <td>0.0</td>\n",
       "      <td>0.0</td>\n",
       "      <td>0.0</td>\n",
       "    </tr>\n",
       "    <tr>\n",
       "      <th>16846</th>\n",
       "      <td>Feeling so sorry for the girls, they should be...</td>\n",
       "      <td>0.0</td>\n",
       "      <td>0.0</td>\n",
       "      <td>0.0</td>\n",
       "      <td>0.0</td>\n",
       "    </tr>\n",
       "    <tr>\n",
       "      <th>16847</th>\n",
       "      <td>#MKR 'pretty good dishes we're happy with' - O...</td>\n",
       "      <td>0.0</td>\n",
       "      <td>0.0</td>\n",
       "      <td>0.0</td>\n",
       "      <td>0.0</td>\n",
       "    </tr>\n",
       "    <tr>\n",
       "      <th>16848</th>\n",
       "      <td>RT @colonelkickhead: Deconstructed lemon tart!...</td>\n",
       "      <td>0.0</td>\n",
       "      <td>0.0</td>\n",
       "      <td>0.0</td>\n",
       "      <td>0.0</td>\n",
       "    </tr>\n",
       "    <tr>\n",
       "      <th>16849</th>\n",
       "      <td>@versacezaynx @nyazpolitics @greenlinerzjm You...</td>\n",
       "      <td>0.0</td>\n",
       "      <td>0.0</td>\n",
       "      <td>0.0</td>\n",
       "      <td>0.0</td>\n",
       "    </tr>\n",
       "    <tr>\n",
       "      <th>16850</th>\n",
       "      <td>And before you protest that you're *not* mad, ...</td>\n",
       "      <td>0.0</td>\n",
       "      <td>0.0</td>\n",
       "      <td>0.0</td>\n",
       "      <td>0.0</td>\n",
       "    </tr>\n",
       "  </tbody>\n",
       "</table>\n",
       "</div>"
      ],
      "text/plain": [
       "                                                    Text  aggressive_label  \\\n",
       "16841  yeah so annoying how they're doing their jobs ...               0.0   \n",
       "16842  Kat and Andre are now more hated than Adam and...               0.0   \n",
       "16843  @jukes303 The old oil cliche again. The US pay...               0.0   \n",
       "16844  @Mora_Fornelli An enemy of @clementine_ford is...               0.0   \n",
       "16845  Soz my kitchen rules I've lost interest, the i...               0.0   \n",
       "16846  Feeling so sorry for the girls, they should be...               0.0   \n",
       "16847  #MKR 'pretty good dishes we're happy with' - O...               0.0   \n",
       "16848  RT @colonelkickhead: Deconstructed lemon tart!...               0.0   \n",
       "16849  @versacezaynx @nyazpolitics @greenlinerzjm You...               0.0   \n",
       "16850  And before you protest that you're *not* mad, ...               0.0   \n",
       "\n",
       "       attack_label  toxicity_label  sexism_recism_label  \n",
       "16841           0.0             0.0                  1.0  \n",
       "16842           0.0             0.0                  0.0  \n",
       "16843           0.0             0.0                  0.0  \n",
       "16844           0.0             0.0                  1.0  \n",
       "16845           0.0             0.0                  0.0  \n",
       "16846           0.0             0.0                  0.0  \n",
       "16847           0.0             0.0                  0.0  \n",
       "16848           0.0             0.0                  0.0  \n",
       "16849           0.0             0.0                  0.0  \n",
       "16850           0.0             0.0                  0.0  "
      ]
     },
     "execution_count": 30,
     "metadata": {},
     "output_type": "execute_result"
    }
   ],
   "source": [
    "df.tail(10)"
   ]
  },
  {
   "cell_type": "code",
   "execution_count": 31,
   "id": "5d045471",
   "metadata": {},
   "outputs": [
    {
     "data": {
      "text/plain": [
       "<AxesSubplot:xlabel='variable', ylabel='count'>"
      ]
     },
     "execution_count": 31,
     "metadata": {},
     "output_type": "execute_result"
    },
    {
     "data": {
      "image/png": "[encoded data removed]",
      "text/plain": [
       "<Figure size 432x288 with 1 Axes>"
      ]
     },
     "metadata": {
      "needs_background": "light"
     },
     "output_type": "display_data"
    }
   ],
   "source": [
    "import seaborn as sns\n",
    "y=df.iloc[:,1:5]\n",
    "count_of_bully = pd.melt(y)\n",
    "sns.countplot(data=count_of_bully.loc[count_of_bully['value']!=0], x='variable', hue='value')"
   ]
  },
  {
   "cell_type": "code",
   "execution_count": 32,
   "id": "b3c9f049",
   "metadata": {},
   "outputs": [
    {
     "data": {
      "text/plain": [
       "(97123, 5)"
      ]
     },
     "execution_count": 32,
     "metadata": {},
     "output_type": "execute_result"
    }
   ],
   "source": [
    "df.shape"
   ]
  },
  {
   "cell_type": "code",
   "execution_count": 33,
   "id": "3ff24279",
   "metadata": {},
   "outputs": [
    {
     "data": {
      "text/plain": [
       "95607"
      ]
     },
     "execution_count": 33,
     "metadata": {},
     "output_type": "execute_result"
    }
   ],
   "source": [
    "len(df.Text.unique())"
   ]
  },
  {
   "cell_type": "code",
   "execution_count": 34,
   "id": "43d2ea0a",
   "metadata": {},
   "outputs": [],
   "source": [
    "df=df.drop_duplicates(subset=['Text'])"
   ]
  },
  {
   "cell_type": "code",
   "execution_count": 35,
   "id": "3f70e148",
   "metadata": {},
   "outputs": [
    {
     "data": {
      "text/plain": [
       "(95607, 5)"
      ]
     },
     "execution_count": 35,
     "metadata": {},
     "output_type": "execute_result"
    }
   ],
   "source": [
    "df.shape"
   ]
  },
  {
   "cell_type": "code",
   "execution_count": 36,
   "id": "145e00ac",
   "metadata": {},
   "outputs": [],
   "source": [
    "df.to_csv(path + \"/Dataset/cyber_bully.csv\", sep=',', index=False)"
   ]
  }
 ],
 "metadata": {
  "kernelspec": {
   "display_name": "Python 3 (ipykernel)",
   "language": "python",
   "name": "python3"
  },
  "language_info": {
   "codemirror_mode": {
    "name": "ipython",
    "version": 3
   },
   "file_extension": ".py",
   "mimetype": "text/x-python",
   "name": "python",
   "nbconvert_exporter": "python",
   "pygments_lexer": "ipython3",
   "version": "3.7.11"
  }
 },
 "nbformat": 4,
 "nbformat_minor": 5
}
